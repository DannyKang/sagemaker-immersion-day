{
 "cells": [
  {
   "cell_type": "markdown",
   "id": "327dd0be-8ba8-43e5-b178-eb1db8d3d40a",
   "metadata": {
    "tags": []
   },
   "source": [
    "# <B> # SageMaker deployment </B>\n",
    "* Container: codna_python3"
   ]
  },
  {
   "cell_type": "markdown",
   "id": "52ecd494-5ac0-4f66-a3cc-340e847e3c46",
   "metadata": {},
   "source": [
    "## AutoReload"
   ]
  },
  {
   "cell_type": "code",
   "execution_count": null,
   "id": "c07a9ee3-c178-41b6-a212-2a33f65dc377",
   "metadata": {
    "tags": []
   },
   "outputs": [],
   "source": [
    "%load_ext autoreload\n",
    "%autoreload 2"
   ]
  },
  {
   "cell_type": "markdown",
   "id": "044d087e-68b7-42f2-89a7-4f0a84345ed4",
   "metadata": {},
   "source": [
    "## 0. Install packages"
   ]
  },
  {
   "cell_type": "code",
   "execution_count": 2,
   "id": "cbbc26ef-076a-4962-a893-e7db013534cf",
   "metadata": {
    "tags": []
   },
   "outputs": [],
   "source": [
    "install_needed = False  # should only be True once\n",
    "# install_needed = False"
   ]
  },
  {
   "cell_type": "code",
   "execution_count": 3,
   "id": "49be1d23-7472-47f2-889e-48b92f48a183",
   "metadata": {
    "tags": []
   },
   "outputs": [
    {
     "name": "stdout",
     "output_type": "stream",
     "text": [
      "Already revised\n"
     ]
    }
   ],
   "source": [
    "%%bash\n",
    "#!/bin/bash\n",
    "\n",
    "DAEMON_PATH=\"/etc/docker\"\n",
    "MEMORY_SIZE=10G\n",
    "\n",
    "FLAG=$(cat $DAEMON_PATH/daemon.json | jq 'has(\"data-root\")')\n",
    "# echo $FLAG\n",
    "\n",
    "if [ \"$FLAG\" == true ]; then\n",
    "    echo \"Already revised\"\n",
    "else\n",
    "    echo \"Add data-root and default-shm-size=$MEMORY_SIZE\"\n",
    "    sudo cp $DAEMON_PATH/daemon.json $DAEMON_PATH/daemon.json.bak\n",
    "    sudo cat $DAEMON_PATH/daemon.json.bak | jq '. += {\"data-root\":\"/home/ec2-user/SageMaker/.container/docker\",\"default-shm-size\":\"'$MEMORY_SIZE'\"}' | sudo tee $DAEMON_PATH/daemon.json > /dev/null\n",
    "    sudo service docker restart\n",
    "    echo \"Docker Restart\"\n",
    "fi"
   ]
  },
  {
   "cell_type": "code",
   "execution_count": 4,
   "id": "fe9fe5bf-a8f8-4275-953f-0470438c4e80",
   "metadata": {
    "collapsed": true,
    "jupyter": {
     "outputs_hidden": true
    },
    "tags": []
   },
   "outputs": [
    {
     "name": "stdout",
     "output_type": "stream",
     "text": [
      "installing deps and restarting kernel\n",
      "Looking in indexes: https://pypi.org/simple, https://pip.repos.neuron.amazonaws.com\n",
      "Requirement already satisfied: pip in /home/ec2-user/anaconda3/envs/python3/lib/python3.10/site-packages (23.0.1)\n",
      "Looking in indexes: https://pypi.org/simple, https://pip.repos.neuron.amazonaws.com\n",
      "Requirement already satisfied: smdebug in /home/ec2-user/anaconda3/envs/python3/lib/python3.10/site-packages (1.0.12)\n",
      "Requirement already satisfied: sagemaker-experiments in /home/ec2-user/anaconda3/envs/python3/lib/python3.10/site-packages (0.1.43)\n",
      "Requirement already satisfied: numpy>=1.16.0 in /home/ec2-user/anaconda3/envs/python3/lib/python3.10/site-packages (from smdebug) (1.22.3)\n",
      "Requirement already satisfied: boto3>=1.10.32 in /home/ec2-user/anaconda3/envs/python3/lib/python3.10/site-packages (from smdebug) (1.26.71)\n",
      "Requirement already satisfied: pyinstrument==3.4.2 in /home/ec2-user/anaconda3/envs/python3/lib/python3.10/site-packages (from smdebug) (3.4.2)\n",
      "Requirement already satisfied: protobuf>=3.6.0 in /home/ec2-user/anaconda3/envs/python3/lib/python3.10/site-packages (from smdebug) (3.20.3)\n",
      "Requirement already satisfied: packaging in /home/ec2-user/anaconda3/envs/python3/lib/python3.10/site-packages (from smdebug) (21.3)\n",
      "Requirement already satisfied: pyinstrument-cext>=0.2.2 in /home/ec2-user/anaconda3/envs/python3/lib/python3.10/site-packages (from pyinstrument==3.4.2->smdebug) (0.2.4)\n",
      "Requirement already satisfied: jmespath<2.0.0,>=0.7.1 in /home/ec2-user/anaconda3/envs/python3/lib/python3.10/site-packages (from boto3>=1.10.32->smdebug) (1.0.1)\n",
      "Requirement already satisfied: s3transfer<0.7.0,>=0.6.0 in /home/ec2-user/anaconda3/envs/python3/lib/python3.10/site-packages (from boto3>=1.10.32->smdebug) (0.6.0)\n",
      "Requirement already satisfied: botocore<1.30.0,>=1.29.71 in /home/ec2-user/anaconda3/envs/python3/lib/python3.10/site-packages (from boto3>=1.10.32->smdebug) (1.29.71)\n",
      "Requirement already satisfied: pyparsing!=3.0.5,>=2.0.2 in /home/ec2-user/anaconda3/envs/python3/lib/python3.10/site-packages (from packaging->smdebug) (3.0.9)\n",
      "Requirement already satisfied: urllib3<1.27,>=1.25.4 in /home/ec2-user/anaconda3/envs/python3/lib/python3.10/site-packages (from botocore<1.30.0,>=1.29.71->boto3>=1.10.32->smdebug) (1.26.8)\n",
      "Requirement already satisfied: python-dateutil<3.0.0,>=2.1 in /home/ec2-user/anaconda3/envs/python3/lib/python3.10/site-packages (from botocore<1.30.0,>=1.29.71->boto3>=1.10.32->smdebug) (2.8.2)\n",
      "Requirement already satisfied: six>=1.5 in /home/ec2-user/anaconda3/envs/python3/lib/python3.10/site-packages (from python-dateutil<3.0.0,>=2.1->botocore<1.30.0,>=1.29.71->boto3>=1.10.32->smdebug) (1.16.0)\n",
      "Looking in indexes: https://pypi.org/simple, https://pip.repos.neuron.amazonaws.com\n",
      "Requirement already satisfied: sagemaker in /home/ec2-user/anaconda3/envs/python3/lib/python3.10/site-packages (2.145.0)\n",
      "Requirement already satisfied: importlib-metadata<5.0,>=1.4.0 in /home/ec2-user/anaconda3/envs/python3/lib/python3.10/site-packages (from sagemaker) (4.13.0)\n",
      "Requirement already satisfied: schema in /home/ec2-user/anaconda3/envs/python3/lib/python3.10/site-packages (from sagemaker) (0.7.5)\n",
      "Requirement already satisfied: PyYAML==5.4.1 in /home/ec2-user/anaconda3/envs/python3/lib/python3.10/site-packages (from sagemaker) (5.4.1)\n",
      "Requirement already satisfied: google-pasta in /home/ec2-user/anaconda3/envs/python3/lib/python3.10/site-packages (from sagemaker) (0.2.0)\n",
      "Requirement already satisfied: protobuf3-to-dict<1.0,>=0.1.5 in /home/ec2-user/anaconda3/envs/python3/lib/python3.10/site-packages (from sagemaker) (0.1.5)\n",
      "Requirement already satisfied: pandas in /home/ec2-user/anaconda3/envs/python3/lib/python3.10/site-packages (from sagemaker) (1.5.2)\n",
      "Requirement already satisfied: attrs<23,>=20.3.0 in /home/ec2-user/anaconda3/envs/python3/lib/python3.10/site-packages (from sagemaker) (22.2.0)\n",
      "Requirement already satisfied: platformdirs in /home/ec2-user/anaconda3/envs/python3/lib/python3.10/site-packages (from sagemaker) (2.6.2)\n",
      "Requirement already satisfied: protobuf<4.0,>=3.1 in /home/ec2-user/anaconda3/envs/python3/lib/python3.10/site-packages (from sagemaker) (3.20.3)\n",
      "Requirement already satisfied: pathos in /home/ec2-user/anaconda3/envs/python3/lib/python3.10/site-packages (from sagemaker) (0.3.0)\n",
      "Requirement already satisfied: jsonschema in /home/ec2-user/anaconda3/envs/python3/lib/python3.10/site-packages (from sagemaker) (3.2.0)\n",
      "Requirement already satisfied: smdebug-rulesconfig==1.0.1 in /home/ec2-user/anaconda3/envs/python3/lib/python3.10/site-packages (from sagemaker) (1.0.1)\n",
      "Requirement already satisfied: boto3<2.0,>=1.26.28 in /home/ec2-user/anaconda3/envs/python3/lib/python3.10/site-packages (from sagemaker) (1.26.71)\n",
      "Requirement already satisfied: numpy<2.0,>=1.9.0 in /home/ec2-user/anaconda3/envs/python3/lib/python3.10/site-packages (from sagemaker) (1.22.3)\n",
      "Requirement already satisfied: packaging>=20.0 in /home/ec2-user/anaconda3/envs/python3/lib/python3.10/site-packages (from sagemaker) (21.3)\n",
      "Requirement already satisfied: s3transfer<0.7.0,>=0.6.0 in /home/ec2-user/anaconda3/envs/python3/lib/python3.10/site-packages (from boto3<2.0,>=1.26.28->sagemaker) (0.6.0)\n",
      "Requirement already satisfied: jmespath<2.0.0,>=0.7.1 in /home/ec2-user/anaconda3/envs/python3/lib/python3.10/site-packages (from boto3<2.0,>=1.26.28->sagemaker) (1.0.1)\n",
      "Requirement already satisfied: botocore<1.30.0,>=1.29.71 in /home/ec2-user/anaconda3/envs/python3/lib/python3.10/site-packages (from boto3<2.0,>=1.26.28->sagemaker) (1.29.71)\n",
      "Requirement already satisfied: zipp>=0.5 in /home/ec2-user/anaconda3/envs/python3/lib/python3.10/site-packages (from importlib-metadata<5.0,>=1.4.0->sagemaker) (3.11.0)\n",
      "Requirement already satisfied: pyparsing!=3.0.5,>=2.0.2 in /home/ec2-user/anaconda3/envs/python3/lib/python3.10/site-packages (from packaging>=20.0->sagemaker) (3.0.9)\n",
      "Requirement already satisfied: six in /home/ec2-user/anaconda3/envs/python3/lib/python3.10/site-packages (from protobuf3-to-dict<1.0,>=0.1.5->sagemaker) (1.16.0)\n",
      "Requirement already satisfied: pyrsistent>=0.14.0 in /home/ec2-user/anaconda3/envs/python3/lib/python3.10/site-packages (from jsonschema->sagemaker) (0.19.3)\n",
      "Requirement already satisfied: setuptools in /home/ec2-user/anaconda3/envs/python3/lib/python3.10/site-packages (from jsonschema->sagemaker) (65.6.3)\n",
      "Requirement already satisfied: python-dateutil>=2.8.1 in /home/ec2-user/anaconda3/envs/python3/lib/python3.10/site-packages (from pandas->sagemaker) (2.8.2)\n",
      "Requirement already satisfied: pytz>=2020.1 in /home/ec2-user/anaconda3/envs/python3/lib/python3.10/site-packages (from pandas->sagemaker) (2022.7)\n",
      "Requirement already satisfied: multiprocess>=0.70.14 in /home/ec2-user/anaconda3/envs/python3/lib/python3.10/site-packages (from pathos->sagemaker) (0.70.14)\n",
      "Requirement already satisfied: pox>=0.3.2 in /home/ec2-user/anaconda3/envs/python3/lib/python3.10/site-packages (from pathos->sagemaker) (0.3.2)\n",
      "Requirement already satisfied: ppft>=1.7.6.6 in /home/ec2-user/anaconda3/envs/python3/lib/python3.10/site-packages (from pathos->sagemaker) (1.7.6.6)\n",
      "Requirement already satisfied: dill>=0.3.6 in /home/ec2-user/anaconda3/envs/python3/lib/python3.10/site-packages (from pathos->sagemaker) (0.3.6)\n",
      "Requirement already satisfied: contextlib2>=0.5.5 in /home/ec2-user/anaconda3/envs/python3/lib/python3.10/site-packages (from schema->sagemaker) (21.6.0)\n",
      "Requirement already satisfied: urllib3<1.27,>=1.25.4 in /home/ec2-user/anaconda3/envs/python3/lib/python3.10/site-packages (from botocore<1.30.0,>=1.29.71->boto3<2.0,>=1.26.28->sagemaker) (1.26.8)\n",
      "Looking in indexes: https://pypi.org/simple, https://pip.repos.neuron.amazonaws.com\n",
      "Requirement already satisfied: xgboost==1.3.1 in /home/ec2-user/anaconda3/envs/python3/lib/python3.10/site-packages (1.3.1)\n",
      "Requirement already satisfied: numpy in /home/ec2-user/anaconda3/envs/python3/lib/python3.10/site-packages (from xgboost==1.3.1) (1.22.3)\n",
      "Requirement already satisfied: scipy in /home/ec2-user/anaconda3/envs/python3/lib/python3.10/site-packages (from xgboost==1.3.1) (1.10.0)\n"
     ]
    }
   ],
   "source": [
    "import sys\n",
    "import IPython\n",
    "\n",
    "if install_needed:\n",
    "    print(\"installing deps and restarting kernel\")\n",
    "    !{sys.executable} -m pip install -U pip\n",
    "    !{sys.executable} -m pip install -U smdebug sagemaker-experiments\n",
    "    !{sys.executable} -m pip install -U sagemaker\n",
    "    !{sys.executable} -m pip install -U xgboost==1.3.1\n",
    "\n",
    "    IPython.Application.instance().kernel.do_shutdown(True)"
   ]
  },
  {
   "cell_type": "markdown",
   "id": "bccc9dda-9dad-4f81-8dd5-53b5623f1d93",
   "metadata": {
    "tags": []
   },
   "source": [
    "## 1. parameter store 설정"
   ]
  },
  {
   "cell_type": "code",
   "execution_count": 1,
   "id": "1d6e737a-557b-44c7-a5c2-f6798bf0c430",
   "metadata": {
    "tags": []
   },
   "outputs": [],
   "source": [
    "import boto3\n",
    "from utils.ssm import parameter_store"
   ]
  },
  {
   "cell_type": "code",
   "execution_count": 2,
   "id": "3f9894a8-4249-4fcc-9b44-d5f43f4fd867",
   "metadata": {
    "tags": []
   },
   "outputs": [],
   "source": [
    "strRegionName=boto3.Session().region_name\n",
    "pm = parameter_store(strRegionName)\n",
    "strPrefix = pm.get_params(key=\"PREFIX\")"
   ]
  },
  {
   "cell_type": "code",
   "execution_count": 3,
   "id": "6fe3068d-8afa-4cdd-a13e-ba2db61ed822",
   "metadata": {
    "tags": []
   },
   "outputs": [],
   "source": [
    "strBucketName = pm.get_params(key=\"-\".join([strPrefix, \"BUCKET\"]))\n",
    "strExecutionRole = pm.get_params(key=\"-\".join([strPrefix, \"SAGEMAKER-ROLE-ARN\"]))"
   ]
  },
  {
   "cell_type": "code",
   "execution_count": 4,
   "id": "72cefdc5-f8c6-4e88-8367-04bf29df6c12",
   "metadata": {
    "tags": []
   },
   "outputs": [
    {
     "name": "stdout",
     "output_type": "stream",
     "text": [
      "strBucketName: sagemaker-us-east-1-419974056037\n",
      "strExecutionRole: arn:aws:iam::419974056037:role/service-role/AmazonSageMaker-ExecutionRole-20221206T163436\n"
     ]
    }
   ],
   "source": [
    "print (f'strBucketName: {strBucketName}')\n",
    "print (f'strExecutionRole: {strExecutionRole}')"
   ]
  },
  {
   "cell_type": "markdown",
   "id": "968b6452-fb2f-4ed9-aae9-55e310d567ba",
   "metadata": {},
   "source": [
    "## 2. Dataset"
   ]
  },
  {
   "cell_type": "code",
   "execution_count": 5,
   "id": "e227473a-2ddc-48aa-bc76-4ba310454749",
   "metadata": {
    "tags": []
   },
   "outputs": [],
   "source": [
    "import os"
   ]
  },
  {
   "cell_type": "code",
   "execution_count": 6,
   "id": "aaecc942-d54d-44d0-8552-ec183e833bf2",
   "metadata": {
    "tags": []
   },
   "outputs": [],
   "source": [
    "strS3DataPath = f\"s3://{strBucketName}/dataset\" \n",
    "strLocalDataPath = os.path.join(os.getcwd(), \"data\")"
   ]
  },
  {
   "cell_type": "markdown",
   "id": "c0674243-6019-4e5e-8563-2fd17ca8ae95",
   "metadata": {
    "tags": []
   },
   "source": [
    "## 3.Depoly"
   ]
  },
  {
   "cell_type": "markdown",
   "id": "2c5b083e-f425-4b60-ad0a-77bc78badc06",
   "metadata": {
    "tags": []
   },
   "source": [
    "### 3.1 Check functions in local mode\n",
    "[중요] inference.py를 만들어 주어야 함\n",
    "* model_fn: 학습한 모델 로드\n",
    "* input_fn: endpoint invocation시 전달 되는 input 처리 하는 함수\n",
    "* predict_fn: forword propagation, input_fn의 이후 호출 \n",
    "* output_fn: 유저에게 결과 전달\n",
    "\n",
    "- 사용자 정의 inference 코드를 정의해서 사용하기 전에, 노트북에서 사전 테스트 및 디버깅을 하고 진행하면 빠르게 추론 개발을 할수 있습니다.\n",
    "- 디폴트 inference code (input_fn, model_fn, predict_fn, output_fn) 을 사용해도 되지만, 상황에 따라서는 사용자 정의가 필요할 수 있습니다. 디폴트 코드는 아래 링크를 참고 하세요.\n",
    "    - [Deploy PyTorch Models](https://sagemaker.readthedocs.io/en/stable/frameworks/pytorch/using_pytorch.html#deploy-pytorch-models)\n",
    "    - [디폴트 inference Code](https://github.com/aws/sagemaker-pytorch-inference-toolkit/blob/master/src/sagemaker_pytorch_serving_container/default_pytorch_inference_handler.py)"
   ]
  },
  {
   "cell_type": "markdown",
   "id": "f19b8cd5-0afd-4459-b5ae-8b405de51e0e",
   "metadata": {
    "tags": []
   },
   "source": [
    "### 로컬 모드 수행시, 새로운 로컬모드 수행을 위해서는 이전 사용했던 도커는 반드시 stop 해줘야 한다\n",
    "* docker ps -a 로 현재 수행중인 contatiner ID 확인 후\n",
    "* docker stop \"<<contatiner ID>>\"\n",
    "* docker container prune -f"
   ]
  },
  {
   "cell_type": "markdown",
   "id": "5503d61a-819c-4eee-bc00-cd19f610460c",
   "metadata": {},
   "source": [
    "* 3.1.1 inference.py 생성"
   ]
  },
  {
   "cell_type": "code",
   "execution_count": 26,
   "id": "bed51b89-3893-4cd8-8e4a-9864d66e6a88",
   "metadata": {
    "tags": []
   },
   "outputs": [
    {
     "name": "stdout",
     "output_type": "stream",
     "text": [
      "Overwriting source/deploy/inference.py\n"
     ]
    }
   ],
   "source": [
    "%%writefile source/deploy/inference.py\n",
    "import io\n",
    "import os\n",
    "import csv\n",
    "import time\n",
    "import json\n",
    "import pickle as pkl\n",
    "import numpy as np\n",
    "import pandas as pd\n",
    "from io import BytesIO\n",
    "import xgboost as xgb\n",
    "import sagemaker_xgboost_container.encoder as xgb_encoders\n",
    "from sagemaker.serializers import CSVSerializer\n",
    "from io import StringIO\n",
    "\n",
    "#For Gunicorn/Flask xgboost image, we need to ensure input and output encoding match exactly for model monitor (CSV or JSON)\n",
    "from flask import Response \n",
    "\n",
    "NUM_FEATURES = 58\n",
    "CSV_SERIALIZER = CSVSerializer(content_type='text/csv')\n",
    "\n",
    "def model_fn(model_dir):\n",
    "    \"\"\"\n",
    "    Deserialize and return fitted model.\n",
    "    \"\"\"\n",
    "    model_file = \"xgboost-model\"\n",
    "    model = xgb.Booster()\n",
    "    model.load_model(os.path.join(model_dir, model_file))\n",
    "    return model\n",
    "                     \n",
    "\n",
    "def input_fn(request_body, request_content_type):\n",
    "    \"\"\"\n",
    "    The SageMaker XGBoost model server receives the request data body and the content type,\n",
    "    and invokes the `input_fn`.\n",
    "    Return a DMatrix (an object that can be passed to predict_fn).\n",
    "    \"\"\"\n",
    "\n",
    "    print (f'Input, Content_type: {request_content_type}')\n",
    "    if request_content_type == \"application/x-npy\":        \n",
    "        stream = BytesIO(request_body)\n",
    "        array = np.frombuffer(stream.getvalue())\n",
    "        array = array.reshape(int(len(array)/NUM_FEATURES), NUM_FEATURES)\n",
    "        return xgb.DMatrix(array)\n",
    "    \n",
    "    elif request_content_type == \"text/csv\":\n",
    "        return xgb_encoders.csv_to_dmatrix(request_body.rstrip(\"\\n\"))\n",
    "    \n",
    "    elif request_content_type == \"text/libsvm\":\n",
    "        return xgb_encoders.libsvm_to_dmatrix(request_body)\n",
    "    \n",
    "    else:\n",
    "        raise ValueError(\n",
    "            \"Content type {} is not supported.\".format(request_content_type)\n",
    "        )\n",
    "\n",
    "def predict_fn(input_data, model):\n",
    "    \"\"\"\n",
    "    SageMaker XGBoost model server invokes `predict_fn` on the return value of `input_fn`.\n",
    "\n",
    "    Return a two-dimensional NumPy array (predictions and scores)\n",
    "    \"\"\"\n",
    "    start_time = time.time()\n",
    "    y_probs = model.predict(input_data)\n",
    "    print(\"--- Inference time: %s secs ---\" % (time.time() - start_time))    \n",
    "    y_preds = [1 if e >= 0.5 else 0 for e in y_probs] \n",
    "    #return np.vstack((y_preds, y_probs))\n",
    "    y_probs = np.array(y_probs).reshape(1, -1)\n",
    "    y_preds = np.array(y_preds).reshape(1, -1)   \n",
    "    output = np.concatenate([y_probs, y_preds], axis=1)\n",
    "    \n",
    "    return output\n",
    "\n",
    "\n",
    "def output_fn(predictions, content_type=\"text/csv\"):\n",
    "    \"\"\"\n",
    "    After invoking predict_fn, the model server invokes `output_fn`.\n",
    "    \"\"\"\n",
    "    print (f'Output, Content_type: {content_type}')\n",
    "    \n",
    "    if content_type == \"text/csv\":\n",
    "        outputs = CSV_SERIALIZER.serialize(predictions)\n",
    "        print (outputs)\n",
    "        return Response(outputs, mimetype=content_type)\n",
    "\n",
    "    elif content_type == \"application/json\":\n",
    "\n",
    "        outputs = json.dumps({\n",
    "            'pred': predictions[0][0],\n",
    "            'prob': predictions[0][1]\n",
    "        })                \n",
    "        #return outputs\n",
    "        return Response(outputs, mimetype=content_type)\n",
    "    else:\n",
    "        raise ValueError(\"Content type {} is not supported.\".format(content_type))"
   ]
  },
  {
   "cell_type": "markdown",
   "id": "cb17072a-a90f-4dce-b46c-b5f452a0abf9",
   "metadata": {},
   "source": [
    "* 3.1.2 param setting"
   ]
  },
  {
   "cell_type": "code",
   "execution_count": 27,
   "id": "4332ba35-ee03-4e63-9c6b-8c3994cb6925",
   "metadata": {
    "tags": []
   },
   "outputs": [],
   "source": [
    "import time\n",
    "import sagemaker"
   ]
  },
  {
   "cell_type": "code",
   "execution_count": 28,
   "id": "17600ba2-f4b2-4149-88db-0f42a7c86e8c",
   "metadata": {
    "tags": []
   },
   "outputs": [],
   "source": [
    "local_mode = False\n",
    "\n",
    "if local_mode:\n",
    "    \n",
    "    from sagemaker.local import LocalSession\n",
    "    \n",
    "    strInstanceType = \"local\"\n",
    "    sagemaker_session = LocalSession()\n",
    "    sagemaker_session.config = {'local': {'local_code': True}}\n",
    "    strDeployType = \"local\"\n",
    "        \n",
    "else:\n",
    "    strInstanceType = \"ml.m5.2xlarge\"\n",
    "    sagemaker_session = sagemaker.Session()\n",
    "    strDeployType = \"cloud\"\n",
    "    \n",
    "strS3ModelPath = pm.get_params(key=\"-\".join([strPrefix, \"MODEL-PATH\"]))\n",
    "strEndpointName = f\"endpoint-{strDeployType}-{strPrefix}-{int(time.time())}\"\n"
   ]
  },
  {
   "cell_type": "code",
   "execution_count": 29,
   "id": "ee9d940e-56fb-45d7-bc4b-13d4a9a65e18",
   "metadata": {
    "tags": []
   },
   "outputs": [
    {
     "name": "stdout",
     "output_type": "stream",
     "text": [
      "strInstanceType: ml.m5.2xlarge\n",
      "sagemaker_session: <sagemaker.session.Session object at 0x7fc70b0c6110>\n",
      "strS3ModelPath: s3://sagemaker-us-east-1-419974056037/DJ-SM-IMD/training/model-output/DJ-SM-IMD-experiments-0424-04371682311053/output/model.tar.gz\n",
      "strEndpointName: endpoint-cloud-DJ-SM-IMD-1682313903\n"
     ]
    }
   ],
   "source": [
    "print (f'strInstanceType: {strInstanceType}')\n",
    "print (f'sagemaker_session: {sagemaker_session}')\n",
    "print (f'strS3ModelPath: {strS3ModelPath}')\n",
    "print (f'strEndpointName: {strEndpointName}')"
   ]
  },
  {
   "cell_type": "markdown",
   "id": "10c1c5cc-1b4e-4ee0-9a4b-60d66fdfcc48",
   "metadata": {},
   "source": [
    "* Create model"
   ]
  },
  {
   "cell_type": "code",
   "execution_count": 30,
   "id": "5b83cbd8-652a-4f0c-a737-77f7bd23a2d0",
   "metadata": {
    "tags": []
   },
   "outputs": [],
   "source": [
    "from sagemaker.xgboost.model import XGBoostModel\n",
    "from sagemaker.serializers import CSVSerializer, NumpySerializer, JSONSerializer\n",
    "from sagemaker.deserializers import JSONDeserializer, NumpyDeserializer, CSVDeserializer"
   ]
  },
  {
   "cell_type": "code",
   "execution_count": 31,
   "id": "7312bd2c-ca02-40a8-97fa-60658d964fab",
   "metadata": {
    "tags": []
   },
   "outputs": [],
   "source": [
    "xgb_model = XGBoostModel(\n",
    "    model_data=strS3ModelPath,\n",
    "    role=strExecutionRole,\n",
    "    source_dir=\"./source/deploy\",\n",
    "    entry_point=\"inference.py\",\n",
    "    framework_version=\"1.3-1\",\n",
    "    sagemaker_session=sagemaker_session,\n",
    ")"
   ]
  },
  {
   "cell_type": "markdown",
   "id": "761b0c74-527b-482f-a4a0-e9a40c27b767",
   "metadata": {},
   "source": [
    "* Create Endpoint\n",
    "    * SageMaker SDK는 `deploy(...)` 메소드를 호출 시, `create-endpoint-config`와 `create-endpoint`를 같이 수행합니다. 좀 더 세분화된 파라메터 조정을 원하면 AWS CLI나 boto3 SDK client 활용을 권장 드립니다."
   ]
  },
  {
   "cell_type": "code",
   "execution_count": 32,
   "id": "739afd11-29d5-46dd-8a6e-52ed883f4c5b",
   "metadata": {
    "tags": []
   },
   "outputs": [
    {
     "name": "stdout",
     "output_type": "stream",
     "text": [
      "------!"
     ]
    }
   ],
   "source": [
    "xgb_predictor = xgb_model.deploy(\n",
    "    endpoint_name=strEndpointName,\n",
    "    instance_type=strInstanceType, \n",
    "    initial_instance_count=1,\n",
    "    serializer=CSVSerializer('text/csv'), ## 미적용 시 default: application/x-npy, boto3 기반 invocation시 무시\n",
    "    deserializer=CSVDeserializer(), ## 미적용 시 default: application/x-npy, boto3 기반 invocation시 무시\n",
    "    wait=True,\n",
    "    log=True,\n",
    ")"
   ]
  },
  {
   "cell_type": "markdown",
   "id": "0c0ea75b-a0a0-4f0c-841f-1ffd7d542a9f",
   "metadata": {},
   "source": [
    "* inference (based on **sagemaker SDK**)"
   ]
  },
  {
   "cell_type": "code",
   "execution_count": 34,
   "id": "331930e1-ef6d-4ea4-b88c-9dbefb20c0a7",
   "metadata": {
    "tags": []
   },
   "outputs": [],
   "source": [
    "import pandas as pd"
   ]
  },
  {
   "cell_type": "code",
   "execution_count": 35,
   "id": "df6905bd-b7e9-40a8-909e-f2b9beb2ea03",
   "metadata": {
    "tags": []
   },
   "outputs": [],
   "source": [
    "pdTest = pd.read_csv(f'{strLocalDataPath}/test.csv')\n",
    "pdLabel = pdTest.iloc[:, 0].astype('int')\n",
    "pdTest = pdTest.drop('fraud', axis=1)"
   ]
  },
  {
   "cell_type": "code",
   "execution_count": 46,
   "id": "a6f1352b-dcb3-410f-8313-2e6b13c327b0",
   "metadata": {
    "tags": []
   },
   "outputs": [
    {
     "name": "stdout",
     "output_type": "stream",
     "text": [
      "<class 'numpy.ndarray'>\n"
     ]
    }
   ],
   "source": [
    "payload = pdTest.values[0, :]\n",
    "print (type(payload))"
   ]
  },
  {
   "cell_type": "markdown",
   "id": "5a6004be-5855-4dc5-95c1-42e217ee78b7",
   "metadata": {
    "tags": []
   },
   "source": [
    "* model deploy 수행 시, **serializer**, **deserializer** 를 설정 했음을 기억해 주세요. <BR><BR>\n",
    "xgb_predictor = xgb_model.deploy( <BR><BR>\n",
    "    endpoint_name=strEndpointName, <BR>\n",
    "    instance_type=strInstanceType, <BR>\n",
    "    initial_instance_count=1, <BR>\n",
    "    **serializer=CSVSerializer('text/csv')**, ## 미적용 시 default: application/x-npy, boto3 기반 invocation시 무시 <BR>\n",
    "    **deserializer=CSVDeserializer('text/csv')**, ## 미적용 시 default: application/x-npy, boto3 기반 invocation시 무시 <BR>\n",
    "    wait=True, <BR>\n",
    "    log=True, <BR>\n",
    ") <BR>\n",
    "    \n",
    "* **즉, sagemaker SDK기반 model deploy 수행 시 serialization, deserialization을 설정 했다면,<BR>\n",
    "inference 할 때, 별도의 serialization, deserialization 과정이 필요 없음**"
   ]
  },
  {
   "cell_type": "code",
   "execution_count": 48,
   "id": "35f2d876-92e4-488f-98bb-d9275509cee5",
   "metadata": {
    "tags": []
   },
   "outputs": [
    {
     "data": {
      "text/plain": [
       "[['0.6454359889030457', '1.0']]"
      ]
     },
     "execution_count": 48,
     "metadata": {},
     "output_type": "execute_result"
    }
   ],
   "source": [
    "outputs = xgb_predictor.predict(payload) ## Auto serialization/deserialization\n",
    "outputs"
   ]
  },
  {
   "cell_type": "markdown",
   "id": "ed2d466f-e6b2-4d3f-a177-03dfb84cca73",
   "metadata": {
    "tags": []
   },
   "source": [
    "* inference (based on **boto3**)\n",
    "    - **boto3 기반 invocation시 runtime_client가 필요**\n",
    "    - deploy 시 설정했던 \"serialization, deserialization\"이 적용되지 않음, 즉, **serialization, deserialization을 manually 해 줘야 함**\n",
    "        - 번거로울 수 있으나 de/serialization에 대한 자유도가 높음"
   ]
  },
  {
   "cell_type": "code",
   "execution_count": 38,
   "id": "6c4bae9d-b760-451e-993d-3a4c21cafbf6",
   "metadata": {
    "tags": []
   },
   "outputs": [],
   "source": [
    "import json\n",
    "import boto3\n",
    "import sagemaker"
   ]
  },
  {
   "cell_type": "code",
   "execution_count": 39,
   "id": "c66dea0a-2ffb-498d-803e-c1f7c539a9c6",
   "metadata": {
    "tags": []
   },
   "outputs": [
    {
     "name": "stdout",
     "output_type": "stream",
     "text": [
      "runtime_client: <botocore.client.SageMakerRuntime object at 0x7fc70ad0ece0>\n"
     ]
    }
   ],
   "source": [
    "if \"local\" in strInstanceType: runtime_client = sagemaker.local.LocalSagemakerRuntimeClient()    \n",
    "else: runtime_client = boto3.Session().client('sagemaker-runtime')\n",
    "print (f'runtime_client: {runtime_client}')"
   ]
  },
  {
   "cell_type": "code",
   "execution_count": 40,
   "id": "b2db5e56-b80d-42b0-9d1b-830efe43c009",
   "metadata": {
    "tags": []
   },
   "outputs": [],
   "source": [
    "pdTest = pd.read_csv(f'{strLocalDataPath}/test.csv')\n",
    "pdLabel = pdTest.iloc[:, 0].astype('int')\n",
    "pdTest = pdTest.drop('fraud', axis=1)"
   ]
  },
  {
   "cell_type": "markdown",
   "id": "f1dd4de0-dedd-451f-ba98-72a2815b77b0",
   "metadata": {},
   "source": [
    "* serialzaiton (numpy)"
   ]
  },
  {
   "cell_type": "code",
   "execution_count": 55,
   "id": "4acfa015-ebd4-427c-ad4a-f606d924e6ab",
   "metadata": {
    "tags": []
   },
   "outputs": [
    {
     "name": "stdout",
     "output_type": "stream",
     "text": [
      "<class 'bytes'>\n"
     ]
    }
   ],
   "source": [
    "payload = pdTest.values[1, :].tobytes() ## numpy serialziation\n",
    "print (type(payload))"
   ]
  },
  {
   "cell_type": "code",
   "execution_count": 68,
   "id": "22291eb6-9152-4cf2-be10-75a2d2d3bb1e",
   "metadata": {
    "tags": []
   },
   "outputs": [
    {
     "name": "stdout",
     "output_type": "stream",
     "text": [
      "Response: {'pred': 0.6454359889030457, 'prob': 1.0}\n"
     ]
    }
   ],
   "source": [
    "#strDeserializer = \"text/csv\"\n",
    "strDeserializer = \"application/json\"\n",
    "\n",
    "response = runtime_client.invoke_endpoint(\n",
    "    EndpointName=strEndpointName, \n",
    "    ContentType='application/x-npy',\n",
    "    Accept=strDeserializer,\n",
    "    Body=payload\n",
    ")\n",
    "## deserialization\n",
    "if strDeserializer == \"application/json\":\n",
    "    out = json.loads(response['Body'].read().decode()) ## for json\n",
    "elif strDeserializer == \"text/csv\":\n",
    "    out =response['Body'].read().decode().split(\",\") ## for csv\n",
    "\n",
    "print (f'Response: {out}')\n"
   ]
  },
  {
   "cell_type": "markdown",
   "id": "a9aabb5b-f358-4cba-a9cb-f8dac2c7cae0",
   "metadata": {
    "tags": []
   },
   "source": [
    "* clean-up (local endpoint)"
   ]
  },
  {
   "cell_type": "code",
   "execution_count": 49,
   "id": "4ca6882e-716a-4b72-8c22-e5ff60fca059",
   "metadata": {
    "tags": []
   },
   "outputs": [],
   "source": [
    "if \"local\" in strInstanceType:\n",
    "    xgb_predictor.delete_endpoint(strEndpointName)"
   ]
  },
  {
   "cell_type": "markdown",
   "id": "7014170a-2ee4-442b-a2f9-87b83d3c2b92",
   "metadata": {},
   "source": [
    "* save endpoint name"
   ]
  },
  {
   "cell_type": "code",
   "execution_count": 50,
   "id": "16973040-93df-4afe-a9f9-ff95c811c94f",
   "metadata": {
    "tags": []
   },
   "outputs": [
    {
     "data": {
      "text/plain": [
       "'Store suceess'"
      ]
     },
     "execution_count": 50,
     "metadata": {},
     "output_type": "execute_result"
    }
   ],
   "source": [
    "pm.put_params(key=\"-\".join([strPrefix, \"ENDPOINT-NAME-DEPLOY\"]), value=strEndpointName, overwrite=True)"
   ]
  },
  {
   "cell_type": "code",
   "execution_count": 54,
   "id": "c7ad5adb-5b86-4ae1-8eaa-c6405b36c7c2",
   "metadata": {},
   "outputs": [
    {
     "data": {
      "text/plain": [
       "'endpoint-cloud-DJ-SM-IMD-1682313903'"
      ]
     },
     "execution_count": 54,
     "metadata": {},
     "output_type": "execute_result"
    }
   ],
   "source": [
    "strEndpointName"
   ]
  },
  {
   "cell_type": "code",
   "execution_count": null,
   "id": "27874a66-f5c2-4d10-be7a-121c9bda52d7",
   "metadata": {},
   "outputs": [],
   "source": []
  }
 ],
 "metadata": {
  "instance_type": "ml.t3.medium",
  "kernelspec": {
   "display_name": "conda_python3",
   "language": "python",
   "name": "conda_python3"
  },
  "language_info": {
   "codemirror_mode": {
    "name": "ipython",
    "version": 3
   },
   "file_extension": ".py",
   "mimetype": "text/x-python",
   "name": "python",
   "nbconvert_exporter": "python",
   "pygments_lexer": "ipython3",
   "version": "3.10.13"
  }
 },
 "nbformat": 4,
 "nbformat_minor": 5
}
