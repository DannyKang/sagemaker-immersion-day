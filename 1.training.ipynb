{
 "cells": [
  {
   "cell_type": "markdown",
   "id": "327dd0be-8ba8-43e5-b178-eb1db8d3d40a",
   "metadata": {
    "tags": []
   },
   "source": [
    "# <B> # SageMaker Training with Experiments and Processing </B>\n",
    "* Container: codna_python3"
   ]
  },
  {
   "cell_type": "markdown",
   "id": "37edc0d7-aa20-42d9-bd06-2883664f7dc6",
   "metadata": {
    "tags": []
   },
   "source": [
    "## 학습 작업의 실행 노트북 개요\n",
    "\n",
    "- SageMaker Training에 SageMaker 실험을 추가하여 여러 실험의 결과를 비교할 수 있습니다.\n",
    "    - [작업 실행 시 필요 라이브러리 import](#작업-실행-시-필요-라이브러리-import)\n",
    "    - [SageMaker 세션과 Role, 사용 버킷 정의](#SageMaker-세션과-Role,-사용-버킷-정의)\n",
    "    - [하이퍼파라미터 정의](#하이퍼파라미터-정의)\n",
    "    - [학습 실행 작업 정의](#학습-실행-작업-정의)\n",
    "        - 학습 코드 명\n",
    "        - 학습 코드 폴더 명\n",
    "        - 학습 코드가 사용한 Framework 종류, 버전 등\n",
    "        - 학습 인스턴스 타입과 개수\n",
    "        - SageMaker 세션\n",
    "        - 학습 작업 하이퍼파라미터 정의\n",
    "        - 학습 작업 산출물 관련 S3 버킷 설정 등\n",
    "    - [학습 데이터셋 지정](#학습-데이터셋-지정)\n",
    "        - 학습에 사용하는 데이터셋의 S3 URI 지정\n",
    "    - [SageMaker 실험 설정](#SageMaker-실험-설정)\n",
    "    - [학습 실행](#학습-실행)\n",
    "    - [데이터 세트 설명](#데이터-세트-설명)\n",
    "    - [실험 결과 보기](#실험-결과-보기)"
   ]
  },
  {
   "cell_type": "markdown",
   "id": "52ecd494-5ac0-4f66-a3cc-340e847e3c46",
   "metadata": {},
   "source": [
    "## AutoReload"
   ]
  },
  {
   "cell_type": "code",
   "execution_count": null,
   "id": "c07a9ee3-c178-41b6-a212-2a33f65dc377",
   "metadata": {
    "tags": []
   },
   "outputs": [],
   "source": [
    "%load_ext autoreload\n",
    "%autoreload 2"
   ]
  },
  {
   "cell_type": "markdown",
   "id": "044d087e-68b7-42f2-89a7-4f0a84345ed4",
   "metadata": {},
   "source": [
    "## 0. Install packages"
   ]
  },
  {
   "cell_type": "code",
   "execution_count": null,
   "id": "cbbc26ef-076a-4962-a893-e7db013534cf",
   "metadata": {
    "tags": []
   },
   "outputs": [],
   "source": [
    "install_needed = True  # should only be True once\n",
    "# install_needed = False"
   ]
  },
  {
   "cell_type": "code",
   "execution_count": null,
   "id": "49be1d23-7472-47f2-889e-48b92f48a183",
   "metadata": {
    "tags": []
   },
   "outputs": [],
   "source": [
    "%%bash\n",
    "#!/bin/bash\n",
    "\n",
    "DAEMON_PATH=\"/etc/docker\"\n",
    "MEMORY_SIZE=10G\n",
    "\n",
    "FLAG=$(cat $DAEMON_PATH/daemon.json | jq 'has(\"data-root\")')\n",
    "# echo $FLAG\n",
    "\n",
    "if [ \"$FLAG\" == true ]; then\n",
    "    echo \"Already revised\"\n",
    "else\n",
    "    echo \"Add data-root and default-shm-size=$MEMORY_SIZE\"\n",
    "    sudo cp $DAEMON_PATH/daemon.json $DAEMON_PATH/daemon.json.bak\n",
    "    sudo cat $DAEMON_PATH/daemon.json.bak | jq '. += {\"data-root\":\"/home/ec2-user/SageMaker/.container/docker\",\"default-shm-size\":\"'$MEMORY_SIZE'\"}' | sudo tee $DAEMON_PATH/daemon.json > /dev/null\n",
    "    sudo service docker restart\n",
    "    echo \"Docker Restart\"\n",
    "fi"
   ]
  },
  {
   "cell_type": "code",
   "execution_count": null,
   "id": "fe9fe5bf-a8f8-4275-953f-0470438c4e80",
   "metadata": {
    "tags": []
   },
   "outputs": [],
   "source": [
    "import sys\n",
    "import IPython\n",
    "\n",
    "if install_needed:\n",
    "    print(\"installing deps and restarting kernel\")\n",
    "    !{sys.executable} -m pip install -U pip\n",
    "    !{sys.executable} -m pip install -U smdebug sagemaker-experiments\n",
    "    !{sys.executable} -m pip install -U sagemaker\n",
    "    !sudo curl -L \"https://github.com/docker/compose/releases/download/v2.7.0/docker-compose-$(uname -s)-$(uname -m)\" -o /usr/local/bin/docker-compose\n",
    "    !sudo chmod +x /usr/local/bin/docker-compose\n",
    "    \n",
    "    IPython.Application.instance().kernel.do_shutdown(True)"
   ]
  },
  {
   "cell_type": "markdown",
   "id": "bccc9dda-9dad-4f81-8dd5-53b5623f1d93",
   "metadata": {
    "tags": []
   },
   "source": [
    "## 1. parameter store 설정"
   ]
  },
  {
   "cell_type": "code",
   "execution_count": null,
   "id": "1d6e737a-557b-44c7-a5c2-f6798bf0c430",
   "metadata": {
    "tags": []
   },
   "outputs": [],
   "source": [
    "import boto3\n",
    "from utils.ssm import parameter_store"
   ]
  },
  {
   "cell_type": "code",
   "execution_count": null,
   "id": "3f9894a8-4249-4fcc-9b44-d5f43f4fd867",
   "metadata": {
    "tags": []
   },
   "outputs": [],
   "source": [
    "strRegionName=boto3.Session().region_name\n",
    "pm = parameter_store(strRegionName)\n",
    "strPrefix = pm.get_params(key=\"PREFIX\")"
   ]
  },
  {
   "cell_type": "code",
   "execution_count": null,
   "id": "6fe3068d-8afa-4cdd-a13e-ba2db61ed822",
   "metadata": {
    "tags": []
   },
   "outputs": [],
   "source": [
    "strBucketName = pm.get_params(key=\"-\".join([strPrefix, \"BUCKET\"]))\n",
    "strExecutionRole = pm.get_params(key=\"-\".join([strPrefix, \"SAGEMAKER-ROLE-ARN\"]))"
   ]
  },
  {
   "cell_type": "code",
   "execution_count": null,
   "id": "cba9c0f2-1a37-47eb-9f87-98cc08f63c1b",
   "metadata": {
    "tags": []
   },
   "outputs": [],
   "source": [
    "print (f'strBucketName: {strBucketName}')\n",
    "print (f'strExecutionRole: {strExecutionRole}')"
   ]
  },
  {
   "cell_type": "markdown",
   "id": "968b6452-fb2f-4ed9-aae9-55e310d567ba",
   "metadata": {},
   "source": [
    "## 2. Dataset"
   ]
  },
  {
   "cell_type": "code",
   "execution_count": null,
   "id": "e227473a-2ddc-48aa-bc76-4ba310454749",
   "metadata": {
    "tags": []
   },
   "outputs": [],
   "source": [
    "import os"
   ]
  },
  {
   "cell_type": "code",
   "execution_count": null,
   "id": "aaecc942-d54d-44d0-8552-ec183e833bf2",
   "metadata": {
    "tags": []
   },
   "outputs": [],
   "source": [
    "strS3DataPath = f\"s3://{strBucketName}/dataset\" \n",
    "strLocalDataPath = os.path.join(os.getcwd(), \"data\")"
   ]
  },
  {
   "cell_type": "code",
   "execution_count": null,
   "id": "d586e6f2-7cfa-4bf8-b16d-094b434a7f6f",
   "metadata": {
    "tags": []
   },
   "outputs": [],
   "source": [
    "!aws s3 sync $strLocalDataPath $strS3DataPath"
   ]
  },
  {
   "cell_type": "markdown",
   "id": "c0674243-6019-4e5e-8563-2fd17ca8ae95",
   "metadata": {
    "tags": []
   },
   "source": [
    "## 3.Training-job"
   ]
  },
  {
   "cell_type": "code",
   "execution_count": null,
   "id": "e68c1bf7-336d-46b9-940e-9e5b570e1793",
   "metadata": {
    "tags": []
   },
   "outputs": [],
   "source": [
    "import os\n",
    "import sagemaker\n",
    "from sagemaker.xgboost.estimator import XGBoost"
   ]
  },
  {
   "cell_type": "markdown",
   "id": "e0e9bb6a-d48d-46f7-bb83-a47255503b6f",
   "metadata": {},
   "source": [
    "* **Set Up SageMaker Experiment**\n",
    "    - Create or load [SageMaker Experiment](https://docs.aws.amazon.com/sagemaker/latest/dg/experiments.html) for the example training job. This will create an experiment trial object in SageMaker."
   ]
  },
  {
   "cell_type": "code",
   "execution_count": null,
   "id": "9612750e-acc9-418c-be4f-24ce6a79726b",
   "metadata": {
    "tags": []
   },
   "outputs": [],
   "source": [
    "from time import strftime\n",
    "from smexperiments.trial import Trial\n",
    "from smexperiments.experiment import Experiment"
   ]
  },
  {
   "cell_type": "code",
   "execution_count": null,
   "id": "c6a12e2b-2456-4419-8c75-e95d2ca6eab4",
   "metadata": {
    "tags": []
   },
   "outputs": [],
   "source": [
    "def create_experiment(experiment_name):\n",
    "    try: sm_experiment = Experiment.load(experiment_name)\n",
    "    except: sm_experiment = Experiment.create(experiment_name=experiment_name)"
   ]
  },
  {
   "cell_type": "code",
   "execution_count": null,
   "id": "489351d8-9d95-4483-af38-0bd3f9c80add",
   "metadata": {
    "tags": []
   },
   "outputs": [],
   "source": [
    "def create_trial(experiment_name):\n",
    "    create_date = strftime(\"%m%d-%H%M%s\")\n",
    "    sm_trial = Trial.create(trial_name=f'{experiment_name}-{create_date}',\n",
    "                            experiment_name=experiment_name)\n",
    "    job_name = f'{sm_trial.trial_name}'\n",
    "    return job_name"
   ]
  },
  {
   "cell_type": "markdown",
   "id": "85e3076c-bfae-4589-963a-4f1288761e62",
   "metadata": {},
   "source": [
    "* params for training job"
   ]
  },
  {
   "cell_type": "code",
   "execution_count": null,
   "id": "c7460084-c1f4-472d-909c-ce723634b26b",
   "metadata": {
    "tags": []
   },
   "outputs": [],
   "source": [
    "# Set to True to enable SageMaker to run locally\n",
    "local_mode = True\n",
    "\n",
    "if local_mode:\n",
    "    \n",
    "    from sagemaker.local import LocalSession\n",
    "    \n",
    "    strInstanceType = \"local\"\n",
    "    sagemaker_session = LocalSession()\n",
    "    sagemaker_session.config = {'local': {'local_code': True}}\n",
    "        \n",
    "    dicDataChannels = {\n",
    "        \"training\": f'file://{os.path.join(strLocalDataPath, \"train.csv\")}',\n",
    "        \"testing\": f'file://{os.path.join(strLocalDataPath, \"test.csv\")}',\n",
    "    }\n",
    "    \n",
    "else:\n",
    "    strInstanceType = \"ml.m5.2xlarge\" #\"ml.p3.2xlarge\"#\"ml.g4dn.8xlarge\"#\"ml.p3.2xlarge\", 'ml.p3.16xlarge' , ml.g4dn.8xlarge\n",
    "    \n",
    "    sagemaker_session = sagemaker.Session()\n",
    "    dicDataChannels = {\n",
    "        \"training\": os.path.join(strS3DataPath, \"train.csv\"), \n",
    "        \"testing\": os.path.join(strS3DataPath, \"test.csv\"), \n",
    "    }\n",
    "\n",
    "nInstanceCount = 1\n",
    "\n",
    "bSpotTraining = False\n",
    "if bSpotTraining:\n",
    "    nMaxWait = 1*60*60\n",
    "    nMaxRun = 1*60*60\n",
    "    \n",
    "else:\n",
    "    nMaxWait = None\n",
    "    nMaxRun = 1*60*60\n",
    "    \n",
    "\n",
    "bUseTrainWarmPool = False ## training image 다운받지 않음, 속도 빨라진다\n",
    "if bUseTrainWarmPool: nKeepAliveSeconds = 3600 ## 최대 1시간 동안!!, service quota에서 warmpool을 위한 request 필요\n",
    "else: nKeepAliveSeconds = None\n",
    "if bSpotTraining:\n",
    "    bUseTrainWarmPool = False # warmpool은 spot instance 사용시 활용 할 수 없음\n",
    "    nKeepAliveSeconds = None\n",
    "    \n",
    "\n",
    "\n",
    "strOutputPath = os.path.join(\n",
    "    \"s3://{}\".format(strBucketName),\n",
    "    strPrefix,\n",
    "    \"training\",\n",
    "    \"model-output\"\n",
    ")\n",
    "\n",
    "strCodeLocation = os.path.join(\n",
    "    \"s3://{}\".format(strBucketName),\n",
    "    strPrefix,\n",
    "    \"training\",\n",
    "    \"backup_codes\"\n",
    ")\n",
    "\n",
    "strExperimentName = '-'.join([strPrefix, \"experiments\"])\n",
    "\n",
    "## You can't override the metric definitions for Amazon SageMaker algorithms. \n",
    "# strNumeticRegEx = \"([0-9\\\\.]+)(e-?[[01][0-9])?\"\n",
    "# listMetricDefinitions = [\n",
    "#     {\"Name\": \"train_loss\", \"Regex\": f\"loss={strNumeticRegEx}\"},\n",
    "#     {\"Name\": \"wer\", \"Regex\": f\"wer:{strNumeticRegEx}\"}\n",
    "# ]\n",
    "\n",
    "# dicGitConfig = {\n",
    "#     'repo': f'https://{pm.get_params(key=\"-\".join([prefix, \"CODE_REPO\"]))}',\n",
    "#     'branch': 'main',\n",
    "#     'username': pm.get_params(key=\"-\".join([prefix, \"CODECOMMIT-USERNAME\"]), enc=True),\n",
    "#     'password': pm.get_params(key=\"-\".join([prefix, \"CODECOMMIT-PWD\"]), enc=True)\n",
    "# }  \n",
    "\n",
    "kwargs = {}"
   ]
  },
  {
   "cell_type": "code",
   "execution_count": null,
   "id": "26003edf-356a-4e1d-82b1-c8085b508b76",
   "metadata": {
    "tags": []
   },
   "outputs": [],
   "source": [
    "print (f'strInstanceType: {strInstanceType}')\n",
    "print (f'nInstanceCount: {nInstanceCount}')\n",
    "print (f'sagemaker_session: {sagemaker_session}')\n",
    "print (f'bSpotTraining: {bSpotTraining}')\n",
    "print (f'strExperimentName: {strExperimentName}')\n",
    "print (f'dicDataChannels: {dicDataChannels}')\n",
    "print (f'strOutputPath: {strOutputPath}')\n",
    "print (f'strCodeLocation: {strCodeLocation}')\n",
    "print (f'bUseTrainWarmPool: {bUseTrainWarmPool}/{nKeepAliveSeconds}')"
   ]
  },
  {
   "cell_type": "markdown",
   "id": "5604a35c-4057-4a4f-b308-640a9cc54277",
   "metadata": {},
   "source": [
    "* Define training job"
   ]
  },
  {
   "cell_type": "code",
   "execution_count": null,
   "id": "b12bd3c6-4217-4cb9-9d98-9eb931b73319",
   "metadata": {
    "tags": []
   },
   "outputs": [],
   "source": [
    "dicHyperparameters = {\n",
    "    \"scale_pos_weight\" : \"19\",    \n",
    "    \"max_depth\": \"2\",\n",
    "    \"eta\": \"0.3\",\n",
    "    \"objective\": \"binary:logistic\",\n",
    "    \"num_round\": \"100\",\n",
    "}"
   ]
  },
  {
   "cell_type": "code",
   "execution_count": null,
   "id": "f029cb80-f0c9-4134-bc23-d7405805f0d6",
   "metadata": {
    "tags": []
   },
   "outputs": [],
   "source": [
    "estimator = XGBoost(\n",
    "    entry_point=\"xgboost_starter_script.py\",\n",
    "    source_dir=\"source/train/\",\n",
    "    output_path=strOutputPath,\n",
    "    code_location=strCodeLocation,\n",
    "    hyperparameters=dicHyperparameters, ## Contatiner내 env. variable로 들어 감\n",
    "    role=strExecutionRole,\n",
    "    sagemaker_session=sagemaker_session,\n",
    "    instance_count=nInstanceCount,\n",
    "    instance_type=strInstanceType,\n",
    "    framework_version=\"1.3-1\",\n",
    "    max_run=nMaxRun,\n",
    "    use_spot_instances=bSpotTraining,\n",
    "    max_wait=nMaxWait,\n",
    "    keep_alive_period_in_seconds=nKeepAliveSeconds,\n",
    "    enable_sagemaker_metrics=True,\n",
    "    #metric_definitions=listMetricDefinitions,\n",
    "    volume_size=256, ## GB\n",
    ")"
   ]
  },
  {
   "cell_type": "markdown",
   "id": "9883bc2a-69e5-436d-aef3-67e994c1f553",
   "metadata": {},
   "source": [
    "* run"
   ]
  },
  {
   "cell_type": "code",
   "execution_count": null,
   "id": "8640b12b-761f-4fbd-9f09-cac4b2709d2f",
   "metadata": {
    "tags": []
   },
   "outputs": [],
   "source": [
    "if strInstanceType =='local_gpu': estimator.checkpoint_s3_uri = None\n",
    "\n",
    "create_experiment(strExperimentName)\n",
    "job_name = create_trial(strExperimentName)\n",
    "\n",
    "estimator.fit(\n",
    "    inputs=dicDataChannels, \n",
    "    job_name=job_name,\n",
    "    experiment_config={\n",
    "      'TrialName': job_name,\n",
    "      'TrialComponentDisplayName': job_name,\n",
    "    },\n",
    "    wait=True,\n",
    ")"
   ]
  },
  {
   "cell_type": "markdown",
   "id": "7014170a-2ee4-442b-a2f9-87b83d3c2b92",
   "metadata": {},
   "source": [
    "* save model-path, experiment-name"
   ]
  },
  {
   "cell_type": "code",
   "execution_count": null,
   "id": "16973040-93df-4afe-a9f9-ff95c811c94f",
   "metadata": {
    "tags": []
   },
   "outputs": [],
   "source": [
    "pm.put_params(key=\"-\".join([strPrefix, \"MODEL-PATH\"]), value=estimator.model_data, overwrite=True)\n",
    "pm.put_params(key=\"-\".join([strPrefix, \"EXPERI-NAME\"]), value=strExperimentName, overwrite=True)"
   ]
  },
  {
   "cell_type": "markdown",
   "id": "8e4a9ce6-4677-4e70-a8b4-8765170d5a64",
   "metadata": {},
   "source": [
    "* show experiments"
   ]
  },
  {
   "cell_type": "code",
   "execution_count": null,
   "id": "9b60a902-36d1-41e9-b0ba-f79fec992046",
   "metadata": {
    "tags": []
   },
   "outputs": [],
   "source": [
    "from sagemaker.analytics import ExperimentAnalytics\n",
    "import pandas as pd\n",
    "#pd.options.display.max_columns = 50\n",
    "#pd.options.display.max_rows = 10\n",
    "#pd.options.display.max_colwidth = 100"
   ]
  },
  {
   "cell_type": "code",
   "execution_count": null,
   "id": "829f874e-c961-4ae6-a3e8-47b51159842d",
   "metadata": {
    "tags": []
   },
   "outputs": [],
   "source": [
    "trial_component_training_analytics = ExperimentAnalytics(\n",
    "    sagemaker_session= sagemaker_session,\n",
    "    experiment_name= strExperimentName,\n",
    "    sort_by=\"metrics.validation:auc.max\",        \n",
    "    sort_order=\"Descending\",\n",
    "    metric_names=[\"validation:auc\"]\n",
    ")\n",
    "\n",
    "trial_component_training_analytics.dataframe()[['Experiments', 'Trials', 'validation:auc - Min', 'validation:auc - Max',\n",
    "                                                'validation:auc - Avg', 'validation:auc - StdDev', 'validation:auc - Last', \n",
    "                                                'eta', 'max_depth', 'num_round', 'scale_pos_weight']]"
   ]
  },
  {
   "cell_type": "code",
   "execution_count": null,
   "id": "dc5d69ed-0e54-4df4-9220-c9c2dcb26141",
   "metadata": {},
   "outputs": [],
   "source": []
  },
  {
   "cell_type": "code",
   "execution_count": null,
   "id": "010333ca-5efc-4f5f-aa38-99e2b6f0dab6",
   "metadata": {},
   "outputs": [],
   "source": []
  }
 ],
 "metadata": {
  "instance_type": "ml.t3.medium",
  "kernelspec": {
   "display_name": "conda_python3",
   "language": "python",
   "name": "conda_python3"
  },
  "language_info": {
   "codemirror_mode": {
    "name": "ipython",
    "version": 3
   },
   "file_extension": ".py",
   "mimetype": "text/x-python",
   "name": "python",
   "nbconvert_exporter": "python",
   "pygments_lexer": "ipython3",
   "version": "3.10.10"
  }
 },
 "nbformat": 4,
 "nbformat_minor": 5
}
