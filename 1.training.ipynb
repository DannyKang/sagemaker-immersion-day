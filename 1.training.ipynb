{
 "cells": [
  {
   "cell_type": "markdown",
   "id": "327dd0be-8ba8-43e5-b178-eb1db8d3d40a",
   "metadata": {
    "tags": []
   },
   "source": [
    "# <B> # SageMaker Training with Experiments and Processing </B>\n",
    "* Container: codna_python3"
   ]
  },
  {
   "cell_type": "markdown",
   "id": "37edc0d7-aa20-42d9-bd06-2883664f7dc6",
   "metadata": {
    "tags": []
   },
   "source": [
    "## 학습 작업의 실행 노트북 개요\n",
    "\n",
    "- SageMaker Training에 SageMaker 실험을 추가하여 여러 실험의 결과를 비교할 수 있습니다.\n",
    "    - [작업 실행 시 필요 라이브러리 import](#작업-실행-시-필요-라이브러리-import)\n",
    "    - [SageMaker 세션과 Role, 사용 버킷 정의](#SageMaker-세션과-Role,-사용-버킷-정의)\n",
    "    - [하이퍼파라미터 정의](#하이퍼파라미터-정의)\n",
    "    - [학습 실행 작업 정의](#학습-실행-작업-정의)\n",
    "        - 학습 코드 명\n",
    "        - 학습 코드 폴더 명\n",
    "        - 학습 코드가 사용한 Framework 종류, 버전 등\n",
    "        - 학습 인스턴스 타입과 개수\n",
    "        - SageMaker 세션\n",
    "        - 학습 작업 하이퍼파라미터 정의\n",
    "        - 학습 작업 산출물 관련 S3 버킷 설정 등\n",
    "    - [학습 데이터셋 지정](#학습-데이터셋-지정)\n",
    "        - 학습에 사용하는 데이터셋의 S3 URI 지정\n",
    "    - [SageMaker 실험 설정](#SageMaker-실험-설정)\n",
    "    - [학습 실행](#학습-실행)\n",
    "    - [데이터 세트 설명](#데이터-세트-설명)\n",
    "    - [실험 결과 보기](#실험-결과-보기)"
   ]
  },
  {
   "cell_type": "markdown",
   "id": "52ecd494-5ac0-4f66-a3cc-340e847e3c46",
   "metadata": {},
   "source": [
    "## AutoReload"
   ]
  },
  {
   "cell_type": "code",
   "execution_count": 1,
   "id": "c07a9ee3-c178-41b6-a212-2a33f65dc377",
   "metadata": {
    "tags": []
   },
   "outputs": [],
   "source": [
    "%load_ext autoreload\n",
    "%autoreload 2"
   ]
  },
  {
   "cell_type": "markdown",
   "id": "044d087e-68b7-42f2-89a7-4f0a84345ed4",
   "metadata": {},
   "source": [
    "## 0. Install packages"
   ]
  },
  {
   "cell_type": "code",
   "execution_count": 32,
   "id": "cbbc26ef-076a-4962-a893-e7db013534cf",
   "metadata": {
    "tags": []
   },
   "outputs": [],
   "source": [
    "install_needed = True  # should only be True once\n",
    "# install_needed = False"
   ]
  },
  {
   "cell_type": "code",
   "execution_count": 33,
   "id": "49be1d23-7472-47f2-889e-48b92f48a183",
   "metadata": {
    "tags": []
   },
   "outputs": [
    {
     "name": "stdout",
     "output_type": "stream",
     "text": [
      "Already revised\n"
     ]
    }
   ],
   "source": [
    "%%bash\n",
    "#!/bin/bash\n",
    "\n",
    "DAEMON_PATH=\"/etc/docker\"\n",
    "MEMORY_SIZE=10G\n",
    "\n",
    "FLAG=$(cat $DAEMON_PATH/daemon.json | jq 'has(\"data-root\")')\n",
    "# echo $FLAG\n",
    "\n",
    "if [ \"$FLAG\" == true ]; then\n",
    "    echo \"Already revised\"\n",
    "else\n",
    "    echo \"Add data-root and default-shm-size=$MEMORY_SIZE\"\n",
    "    sudo cp $DAEMON_PATH/daemon.json $DAEMON_PATH/daemon.json.bak\n",
    "    sudo cat $DAEMON_PATH/daemon.json.bak | jq '. += {\"data-root\":\"/home/ec2-user/SageMaker/.container/docker\",\"default-shm-size\":\"'$MEMORY_SIZE'\"}' | sudo tee $DAEMON_PATH/daemon.json > /dev/null\n",
    "    sudo service docker restart\n",
    "    echo \"Docker Restart\"\n",
    "fi"
   ]
  },
  {
   "cell_type": "code",
   "execution_count": 14,
   "id": "fe9fe5bf-a8f8-4275-953f-0470438c4e80",
   "metadata": {
    "collapsed": true,
    "jupyter": {
     "outputs_hidden": true
    },
    "tags": []
   },
   "outputs": [
    {
     "name": "stdout",
     "output_type": "stream",
     "text": [
      "installing deps and restarting kernel\n",
      "Looking in indexes: https://pypi.org/simple, https://pip.repos.neuron.amazonaws.com\n",
      "Requirement already satisfied: pip in /home/ec2-user/anaconda3/envs/pytorch_p39/lib/python3.9/site-packages (22.3.1)\n",
      "Collecting pip\n",
      "  Downloading pip-23.1-py3-none-any.whl (2.1 MB)\n",
      "\u001b[2K     \u001b[90m━━━━━━━━━━━━━━━━━━━━━━━━━━━━━━━━━━━━━━━━\u001b[0m \u001b[32m2.1/2.1 MB\u001b[0m \u001b[31m81.5 MB/s\u001b[0m eta \u001b[36m0:00:00\u001b[0m\n",
      "\u001b[?25hInstalling collected packages: pip\n",
      "  Attempting uninstall: pip\n",
      "    Found existing installation: pip 22.3.1\n",
      "    Uninstalling pip-22.3.1:\n",
      "      Successfully uninstalled pip-22.3.1\n",
      "Successfully installed pip-23.1\n",
      "Looking in indexes: https://pypi.org/simple, https://pip.repos.neuron.amazonaws.com\n",
      "Collecting smdebug\n",
      "  Using cached smdebug-1.0.12-py2.py3-none-any.whl (270 kB)\n",
      "Collecting sagemaker-experiments\n",
      "  Using cached sagemaker_experiments-0.1.43-py3-none-any.whl (42 kB)\n",
      "Requirement already satisfied: protobuf>=3.6.0 in /home/ec2-user/anaconda3/envs/pytorch_p39/lib/python3.9/site-packages (from smdebug) (3.20.2)\n",
      "Requirement already satisfied: numpy>=1.16.0 in /home/ec2-user/anaconda3/envs/pytorch_p39/lib/python3.9/site-packages (from smdebug) (1.20.3)\n",
      "Requirement already satisfied: packaging in /home/ec2-user/anaconda3/envs/pytorch_p39/lib/python3.9/site-packages (from smdebug) (21.3)\n",
      "Requirement already satisfied: boto3>=1.10.32 in /home/ec2-user/anaconda3/envs/pytorch_p39/lib/python3.9/site-packages (from smdebug) (1.26.71)\n",
      "Collecting pyinstrument==3.4.2 (from smdebug)\n",
      "  Using cached pyinstrument-3.4.2-py2.py3-none-any.whl (83 kB)\n",
      "Collecting pyinstrument-cext>=0.2.2 (from pyinstrument==3.4.2->smdebug)\n",
      "  Downloading pyinstrument_cext-0.2.4-cp39-cp39-manylinux2010_x86_64.whl (20 kB)\n",
      "Requirement already satisfied: botocore<1.30.0,>=1.29.71 in /home/ec2-user/anaconda3/envs/pytorch_p39/lib/python3.9/site-packages (from boto3>=1.10.32->smdebug) (1.29.71)\n",
      "Requirement already satisfied: jmespath<2.0.0,>=0.7.1 in /home/ec2-user/anaconda3/envs/pytorch_p39/lib/python3.9/site-packages (from boto3>=1.10.32->smdebug) (1.0.1)\n",
      "Requirement already satisfied: s3transfer<0.7.0,>=0.6.0 in /home/ec2-user/anaconda3/envs/pytorch_p39/lib/python3.9/site-packages (from boto3>=1.10.32->smdebug) (0.6.0)\n",
      "Requirement already satisfied: pyparsing!=3.0.5,>=2.0.2 in /home/ec2-user/anaconda3/envs/pytorch_p39/lib/python3.9/site-packages (from packaging->smdebug) (3.0.9)\n",
      "Requirement already satisfied: python-dateutil<3.0.0,>=2.1 in /home/ec2-user/anaconda3/envs/pytorch_p39/lib/python3.9/site-packages (from botocore<1.30.0,>=1.29.71->boto3>=1.10.32->smdebug) (2.8.2)\n",
      "Requirement already satisfied: urllib3<1.27,>=1.25.4 in /home/ec2-user/anaconda3/envs/pytorch_p39/lib/python3.9/site-packages (from botocore<1.30.0,>=1.29.71->boto3>=1.10.32->smdebug) (1.26.8)\n",
      "Requirement already satisfied: six>=1.5 in /home/ec2-user/anaconda3/envs/pytorch_p39/lib/python3.9/site-packages (from python-dateutil<3.0.0,>=2.1->botocore<1.30.0,>=1.29.71->boto3>=1.10.32->smdebug) (1.16.0)\n",
      "Installing collected packages: pyinstrument-cext, pyinstrument, smdebug, sagemaker-experiments\n",
      "Successfully installed pyinstrument-3.4.2 pyinstrument-cext-0.2.4 sagemaker-experiments-0.1.43 smdebug-1.0.12\n",
      "Looking in indexes: https://pypi.org/simple, https://pip.repos.neuron.amazonaws.com\n",
      "Requirement already satisfied: sagemaker in /home/ec2-user/anaconda3/envs/pytorch_p39/lib/python3.9/site-packages (2.132.0)\n",
      "Collecting sagemaker\n",
      "  Using cached sagemaker-2.146.0.tar.gz (718 kB)\n",
      "  Preparing metadata (setup.py) ... \u001b[?25ldone\n",
      "\u001b[?25hRequirement already satisfied: attrs<23,>=20.3.0 in /home/ec2-user/anaconda3/envs/pytorch_p39/lib/python3.9/site-packages (from sagemaker) (22.2.0)\n",
      "Requirement already satisfied: boto3<2.0,>=1.26.28 in /home/ec2-user/anaconda3/envs/pytorch_p39/lib/python3.9/site-packages (from sagemaker) (1.26.71)\n",
      "Requirement already satisfied: google-pasta in /home/ec2-user/anaconda3/envs/pytorch_p39/lib/python3.9/site-packages (from sagemaker) (0.2.0)\n",
      "Requirement already satisfied: numpy<2.0,>=1.9.0 in /home/ec2-user/anaconda3/envs/pytorch_p39/lib/python3.9/site-packages (from sagemaker) (1.20.3)\n",
      "Requirement already satisfied: protobuf<4.0,>=3.1 in /home/ec2-user/anaconda3/envs/pytorch_p39/lib/python3.9/site-packages (from sagemaker) (3.20.2)\n",
      "Requirement already satisfied: protobuf3-to-dict<1.0,>=0.1.5 in /home/ec2-user/anaconda3/envs/pytorch_p39/lib/python3.9/site-packages (from sagemaker) (0.1.5)\n",
      "Requirement already satisfied: smdebug_rulesconfig==1.0.1 in /home/ec2-user/anaconda3/envs/pytorch_p39/lib/python3.9/site-packages (from sagemaker) (1.0.1)\n",
      "Requirement already satisfied: importlib-metadata<5.0,>=1.4.0 in /home/ec2-user/anaconda3/envs/pytorch_p39/lib/python3.9/site-packages (from sagemaker) (4.13.0)\n",
      "Requirement already satisfied: packaging>=20.0 in /home/ec2-user/anaconda3/envs/pytorch_p39/lib/python3.9/site-packages (from sagemaker) (21.3)\n",
      "Requirement already satisfied: pandas in /home/ec2-user/anaconda3/envs/pytorch_p39/lib/python3.9/site-packages (from sagemaker) (1.4.4)\n",
      "Requirement already satisfied: pathos in /home/ec2-user/anaconda3/envs/pytorch_p39/lib/python3.9/site-packages (from sagemaker) (0.3.0)\n",
      "Requirement already satisfied: schema in /home/ec2-user/anaconda3/envs/pytorch_p39/lib/python3.9/site-packages (from sagemaker) (0.7.5)\n",
      "Requirement already satisfied: PyYAML==5.4.1 in /home/ec2-user/anaconda3/envs/pytorch_p39/lib/python3.9/site-packages (from sagemaker) (5.4.1)\n",
      "Requirement already satisfied: jsonschema in /home/ec2-user/anaconda3/envs/pytorch_p39/lib/python3.9/site-packages (from sagemaker) (3.2.0)\n",
      "Requirement already satisfied: platformdirs in /home/ec2-user/anaconda3/envs/pytorch_p39/lib/python3.9/site-packages (from sagemaker) (2.6.2)\n",
      "Requirement already satisfied: botocore<1.30.0,>=1.29.71 in /home/ec2-user/anaconda3/envs/pytorch_p39/lib/python3.9/site-packages (from boto3<2.0,>=1.26.28->sagemaker) (1.29.71)\n",
      "Requirement already satisfied: jmespath<2.0.0,>=0.7.1 in /home/ec2-user/anaconda3/envs/pytorch_p39/lib/python3.9/site-packages (from boto3<2.0,>=1.26.28->sagemaker) (1.0.1)\n",
      "Requirement already satisfied: s3transfer<0.7.0,>=0.6.0 in /home/ec2-user/anaconda3/envs/pytorch_p39/lib/python3.9/site-packages (from boto3<2.0,>=1.26.28->sagemaker) (0.6.0)\n",
      "Requirement already satisfied: zipp>=0.5 in /home/ec2-user/anaconda3/envs/pytorch_p39/lib/python3.9/site-packages (from importlib-metadata<5.0,>=1.4.0->sagemaker) (3.11.0)\n",
      "Requirement already satisfied: pyparsing!=3.0.5,>=2.0.2 in /home/ec2-user/anaconda3/envs/pytorch_p39/lib/python3.9/site-packages (from packaging>=20.0->sagemaker) (3.0.9)\n",
      "Requirement already satisfied: six in /home/ec2-user/anaconda3/envs/pytorch_p39/lib/python3.9/site-packages (from protobuf3-to-dict<1.0,>=0.1.5->sagemaker) (1.16.0)\n",
      "Requirement already satisfied: pyrsistent>=0.14.0 in /home/ec2-user/anaconda3/envs/pytorch_p39/lib/python3.9/site-packages (from jsonschema->sagemaker) (0.19.3)\n",
      "Requirement already satisfied: setuptools in /home/ec2-user/anaconda3/envs/pytorch_p39/lib/python3.9/site-packages (from jsonschema->sagemaker) (65.6.3)\n",
      "Requirement already satisfied: python-dateutil>=2.8.1 in /home/ec2-user/anaconda3/envs/pytorch_p39/lib/python3.9/site-packages (from pandas->sagemaker) (2.8.2)\n",
      "Requirement already satisfied: pytz>=2020.1 in /home/ec2-user/anaconda3/envs/pytorch_p39/lib/python3.9/site-packages (from pandas->sagemaker) (2022.7)\n",
      "Requirement already satisfied: ppft>=1.7.6.6 in /home/ec2-user/anaconda3/envs/pytorch_p39/lib/python3.9/site-packages (from pathos->sagemaker) (1.7.6.6)\n",
      "Requirement already satisfied: dill>=0.3.6 in /home/ec2-user/anaconda3/envs/pytorch_p39/lib/python3.9/site-packages (from pathos->sagemaker) (0.3.6)\n",
      "Requirement already satisfied: pox>=0.3.2 in /home/ec2-user/anaconda3/envs/pytorch_p39/lib/python3.9/site-packages (from pathos->sagemaker) (0.3.2)\n",
      "Requirement already satisfied: multiprocess>=0.70.14 in /home/ec2-user/anaconda3/envs/pytorch_p39/lib/python3.9/site-packages (from pathos->sagemaker) (0.70.14)\n",
      "Requirement already satisfied: contextlib2>=0.5.5 in /home/ec2-user/anaconda3/envs/pytorch_p39/lib/python3.9/site-packages (from schema->sagemaker) (21.6.0)\n",
      "Requirement already satisfied: urllib3<1.27,>=1.25.4 in /home/ec2-user/anaconda3/envs/pytorch_p39/lib/python3.9/site-packages (from botocore<1.30.0,>=1.29.71->boto3<2.0,>=1.26.28->sagemaker) (1.26.8)\n",
      "Building wheels for collected packages: sagemaker\n",
      "  Building wheel for sagemaker (setup.py) ... \u001b[?25ldone\n",
      "\u001b[?25h  Created wheel for sagemaker: filename=sagemaker-2.146.0-py2.py3-none-any.whl size=964936 sha256=d76ac45fe0127ff8834f5d6f7b001cab80f2acdc66ff67ae381644180f04f068\n",
      "  Stored in directory: /home/ec2-user/.cache/pip/wheels/46/1b/a6/0d68ebf99987a5d3bcb6a8b9c039a6c56c38ec0c69e80b0066\n",
      "Successfully built sagemaker\n",
      "Installing collected packages: sagemaker\n",
      "  Attempting uninstall: sagemaker\n",
      "    Found existing installation: sagemaker 2.132.0\n",
      "    Uninstalling sagemaker-2.132.0:\n",
      "      Successfully uninstalled sagemaker-2.132.0\n",
      "Successfully installed sagemaker-2.146.0\n"
     ]
    }
   ],
   "source": [
    "import sys\n",
    "import IPython\n",
    "\n",
    "if install_needed:\n",
    "    print(\"installing deps and restarting kernel\")\n",
    "    !{sys.executable} -m pip install -U pip\n",
    "    !{sys.executable} -m pip install -U smdebug sagemaker-experiments\n",
    "    !{sys.executable} -m pip install -U sagemaker\n",
    "    \n",
    "    IPython.Application.instance().kernel.do_shutdown(True)"
   ]
  },
  {
   "cell_type": "markdown",
   "id": "bccc9dda-9dad-4f81-8dd5-53b5623f1d93",
   "metadata": {
    "tags": []
   },
   "source": [
    "## 1. parameter store 설정"
   ]
  },
  {
   "cell_type": "code",
   "execution_count": 21,
   "id": "1d6e737a-557b-44c7-a5c2-f6798bf0c430",
   "metadata": {
    "tags": []
   },
   "outputs": [],
   "source": [
    "import boto3\n",
    "from utils.ssm import parameter_store"
   ]
  },
  {
   "cell_type": "code",
   "execution_count": 22,
   "id": "3f9894a8-4249-4fcc-9b44-d5f43f4fd867",
   "metadata": {
    "tags": []
   },
   "outputs": [],
   "source": [
    "strRegionName=boto3.Session().region_name\n",
    "pm = parameter_store(strRegionName)\n",
    "strPrefix = pm.get_params(key=\"PREFIX\")"
   ]
  },
  {
   "cell_type": "code",
   "execution_count": 23,
   "id": "6fe3068d-8afa-4cdd-a13e-ba2db61ed822",
   "metadata": {
    "tags": []
   },
   "outputs": [],
   "source": [
    "strBucketName = pm.get_params(key=\"-\".join([strPrefix, \"BUCKET\"]))\n",
    "strExecutionRole = pm.get_params(key=\"-\".join([strPrefix, \"SAGEMAKER-ROLE-ARN\"]))"
   ]
  },
  {
   "cell_type": "code",
   "execution_count": 24,
   "id": "cba9c0f2-1a37-47eb-9f87-98cc08f63c1b",
   "metadata": {
    "tags": []
   },
   "outputs": [
    {
     "name": "stdout",
     "output_type": "stream",
     "text": [
      "strBucketName: sagemaker-us-east-1-419974056037\n",
      "strExecutionRole: arn:aws:iam::419974056037:role/service-role/AmazonSageMaker-ExecutionRole-20221206T163436\n"
     ]
    }
   ],
   "source": [
    "print (f'strBucketName: {strBucketName}')\n",
    "print (f'strExecutionRole: {strExecutionRole}')"
   ]
  },
  {
   "cell_type": "markdown",
   "id": "968b6452-fb2f-4ed9-aae9-55e310d567ba",
   "metadata": {},
   "source": [
    "## 2. Dataset"
   ]
  },
  {
   "cell_type": "code",
   "execution_count": 34,
   "id": "e227473a-2ddc-48aa-bc76-4ba310454749",
   "metadata": {
    "tags": []
   },
   "outputs": [],
   "source": [
    "import os"
   ]
  },
  {
   "cell_type": "code",
   "execution_count": 35,
   "id": "aaecc942-d54d-44d0-8552-ec183e833bf2",
   "metadata": {
    "tags": []
   },
   "outputs": [],
   "source": [
    "strS3DataPath = f\"s3://{strBucketName}/dataset\" \n",
    "strLocalDataPath = os.path.join(os.getcwd(), \"data\")"
   ]
  },
  {
   "cell_type": "code",
   "execution_count": 36,
   "id": "d586e6f2-7cfa-4bf8-b16d-094b434a7f6f",
   "metadata": {
    "tags": []
   },
   "outputs": [],
   "source": [
    "!aws s3 sync $strLocalDataPath $strS3DataPath"
   ]
  },
  {
   "cell_type": "markdown",
   "id": "c0674243-6019-4e5e-8563-2fd17ca8ae95",
   "metadata": {
    "tags": []
   },
   "source": [
    "## 3.Training-job"
   ]
  },
  {
   "cell_type": "code",
   "execution_count": 50,
   "id": "e68c1bf7-336d-46b9-940e-9e5b570e1793",
   "metadata": {
    "tags": []
   },
   "outputs": [],
   "source": [
    "import os\n",
    "import sagemaker\n",
    "from sagemaker.xgboost.estimator import XGBoost"
   ]
  },
  {
   "cell_type": "markdown",
   "id": "e0e9bb6a-d48d-46f7-bb83-a47255503b6f",
   "metadata": {},
   "source": [
    "* **Set Up SageMaker Experiment**\n",
    "    - Create or load [SageMaker Experiment](https://docs.aws.amazon.com/sagemaker/latest/dg/experiments.html) for the example training job. This will create an experiment trial object in SageMaker."
   ]
  },
  {
   "cell_type": "code",
   "execution_count": 51,
   "id": "9612750e-acc9-418c-be4f-24ce6a79726b",
   "metadata": {
    "tags": []
   },
   "outputs": [],
   "source": [
    "from time import strftime\n",
    "from smexperiments.trial import Trial\n",
    "from smexperiments.experiment import Experiment"
   ]
  },
  {
   "cell_type": "code",
   "execution_count": 52,
   "id": "c6a12e2b-2456-4419-8c75-e95d2ca6eab4",
   "metadata": {
    "tags": []
   },
   "outputs": [],
   "source": [
    "def create_experiment(experiment_name):\n",
    "    try: sm_experiment = Experiment.load(experiment_name)\n",
    "    except: sm_experiment = Experiment.create(experiment_name=experiment_name)"
   ]
  },
  {
   "cell_type": "code",
   "execution_count": 53,
   "id": "489351d8-9d95-4483-af38-0bd3f9c80add",
   "metadata": {
    "tags": []
   },
   "outputs": [],
   "source": [
    "def create_trial(experiment_name):\n",
    "    create_date = strftime(\"%m%d-%H%M%s\")\n",
    "    sm_trial = Trial.create(trial_name=f'{experiment_name}-{create_date}',\n",
    "                            experiment_name=experiment_name)\n",
    "    job_name = f'{sm_trial.trial_name}'\n",
    "    return job_name"
   ]
  },
  {
   "cell_type": "markdown",
   "id": "85e3076c-bfae-4589-963a-4f1288761e62",
   "metadata": {},
   "source": [
    "* params for training job"
   ]
  },
  {
   "cell_type": "code",
   "execution_count": 54,
   "id": "c7460084-c1f4-472d-909c-ce723634b26b",
   "metadata": {
    "tags": []
   },
   "outputs": [],
   "source": [
    "# Set to True to enable SageMaker to run locally\n",
    "local_mode = True\n",
    "\n",
    "if local_mode:\n",
    "    \n",
    "    from sagemaker.local import LocalSession\n",
    "    \n",
    "    strInstanceType = \"local\"\n",
    "    sagemaker_session = LocalSession()\n",
    "    sagemaker_session.config = {'local': {'local_code': True}}\n",
    "        \n",
    "    dicDataChannels = {\n",
    "        \"training\": f'file://{os.path.join(strLocalDataPath, \"train.csv\")}',\n",
    "        \"testing\": f'file://{os.path.join(strLocalDataPath, \"test.csv\")}',\n",
    "    }\n",
    "    \n",
    "else:\n",
    "    strInstanceType = \"ml.m5.2xlarge\" #\"ml.p3.2xlarge\"#\"ml.g4dn.8xlarge\"#\"ml.p3.2xlarge\", 'ml.p3.16xlarge' , ml.g4dn.8xlarge\n",
    "    \n",
    "    sagemaker_session = sagemaker.Session()\n",
    "    dicDataChannels = {\n",
    "        \"training\": os.path.join(strS3DataPath, \"train.csv\"), \n",
    "        \"testing\": os.path.join(strS3DataPath, \"test.csv\"), \n",
    "    }\n",
    "\n",
    "nInstanceCount = 1\n",
    "\n",
    "bSpotTraining = False\n",
    "if bSpotTraining:\n",
    "    nMaxWait = 1*60*60\n",
    "    nMaxRun = 1*60*60\n",
    "    \n",
    "else:\n",
    "    nMaxWait = None\n",
    "    nMaxRun = 1*60*60\n",
    "    \n",
    "\n",
    "bUseTrainWarmPool = False ## training image 다운받지 않음, 속도 빨라진다\n",
    "if bUseTrainWarmPool: nKeepAliveSeconds = 3600 ## 최대 1시간 동안!!, service quota에서 warmpool을 위한 request 필요\n",
    "else: nKeepAliveSeconds = None\n",
    "if bSpotTraining:\n",
    "    bUseTrainWarmPool = False # warmpool은 spot instance 사용시 활용 할 수 없음\n",
    "    nKeepAliveSeconds = None\n",
    "    \n",
    "\n",
    "\n",
    "strOutputPath = os.path.join(\n",
    "    \"s3://{}\".format(strBucketName),\n",
    "    strPrefix,\n",
    "    \"training\",\n",
    "    \"model-output\"\n",
    ")\n",
    "\n",
    "strCodeLocation = os.path.join(\n",
    "    \"s3://{}\".format(strBucketName),\n",
    "    strPrefix,\n",
    "    \"training\",\n",
    "    \"backup_codes\"\n",
    ")\n",
    "\n",
    "strExperimentName = '-'.join([strPrefix, \"experiments\"])\n",
    "\n",
    "## You can't override the metric definitions for Amazon SageMaker algorithms. \n",
    "# strNumeticRegEx = \"([0-9\\\\.]+)(e-?[[01][0-9])?\"\n",
    "# listMetricDefinitions = [\n",
    "#     {\"Name\": \"train_loss\", \"Regex\": f\"loss={strNumeticRegEx}\"},\n",
    "#     {\"Name\": \"wer\", \"Regex\": f\"wer:{strNumeticRegEx}\"}\n",
    "# ]\n",
    "\n",
    "# dicGitConfig = {\n",
    "#     'repo': f'https://{pm.get_params(key=\"-\".join([prefix, \"CODE_REPO\"]))}',\n",
    "#     'branch': 'main',\n",
    "#     'username': pm.get_params(key=\"-\".join([prefix, \"CODECOMMIT-USERNAME\"]), enc=True),\n",
    "#     'password': pm.get_params(key=\"-\".join([prefix, \"CODECOMMIT-PWD\"]), enc=True)\n",
    "# }  \n",
    "\n",
    "kwargs = {}"
   ]
  },
  {
   "cell_type": "code",
   "execution_count": 55,
   "id": "26003edf-356a-4e1d-82b1-c8085b508b76",
   "metadata": {
    "tags": []
   },
   "outputs": [
    {
     "name": "stdout",
     "output_type": "stream",
     "text": [
      "strInstanceType: local\n",
      "nInstanceCount: 1\n",
      "sagemaker_session: <sagemaker.local.local_session.LocalSession object at 0x7fce158befe0>\n",
      "bSpotTraining: False\n",
      "strExperimentName: DJ-SM-IMD-experiments\n",
      "dicDataChannels: {'training': 'file:///home/ec2-user/SageMaker/sagemaker-immersion-day/data/train.csv', 'testing': 'file:///home/ec2-user/SageMaker/sagemaker-immersion-day/data/test.csv'}\n",
      "strOutputPath: s3://sagemaker-us-east-1-419974056037/DJ-SM-IMD/training/model-output\n",
      "strCodeLocation: s3://sagemaker-us-east-1-419974056037/DJ-SM-IMD/training/backup_codes\n",
      "bUseTrainWarmPool: False/None\n"
     ]
    }
   ],
   "source": [
    "print (f'strInstanceType: {strInstanceType}')\n",
    "print (f'nInstanceCount: {nInstanceCount}')\n",
    "print (f'sagemaker_session: {sagemaker_session}')\n",
    "print (f'bSpotTraining: {bSpotTraining}')\n",
    "print (f'strExperimentName: {strExperimentName}')\n",
    "print (f'dicDataChannels: {dicDataChannels}')\n",
    "print (f'strOutputPath: {strOutputPath}')\n",
    "print (f'strCodeLocation: {strCodeLocation}')\n",
    "print (f'bUseTrainWarmPool: {bUseTrainWarmPool}/{nKeepAliveSeconds}')"
   ]
  },
  {
   "cell_type": "markdown",
   "id": "5604a35c-4057-4a4f-b308-640a9cc54277",
   "metadata": {},
   "source": [
    "* Define training job"
   ]
  },
  {
   "cell_type": "code",
   "execution_count": 56,
   "id": "b12bd3c6-4217-4cb9-9d98-9eb931b73319",
   "metadata": {
    "tags": []
   },
   "outputs": [],
   "source": [
    "dicHyperparameters = {\n",
    "    \"scale_pos_weight\" : \"19\",    \n",
    "    \"max_depth\": \"2\",\n",
    "    \"eta\": \"0.3\",\n",
    "    \"objective\": \"binary:logistic\",\n",
    "    \"num_round\": \"100\",\n",
    "}"
   ]
  },
  {
   "cell_type": "code",
   "execution_count": 57,
   "id": "f029cb80-f0c9-4134-bc23-d7405805f0d6",
   "metadata": {
    "tags": []
   },
   "outputs": [
    {
     "name": "stderr",
     "output_type": "stream",
     "text": [
      "INFO:sagemaker.image_uris:Ignoring unnecessary Python version: py3.\n",
      "INFO:sagemaker.image_uris:Ignoring unnecessary instance type: local.\n"
     ]
    }
   ],
   "source": [
    "estimator = XGBoost(\n",
    "    entry_point=\"xgboost_starter_script.py\",\n",
    "    source_dir=\"source/train/\",\n",
    "    output_path=strOutputPath,\n",
    "    code_location=strCodeLocation,\n",
    "    hyperparameters=dicHyperparameters, ## Contatiner내 env. variable로 들어 감\n",
    "    role=strExecutionRole,\n",
    "    sagemaker_session=sagemaker_session,\n",
    "    instance_count=nInstanceCount,\n",
    "    instance_type=strInstanceType,\n",
    "    framework_version=\"1.3-1\",\n",
    "    max_run=nMaxRun,\n",
    "    use_spot_instances=bSpotTraining,\n",
    "    max_wait=nMaxWait,\n",
    "    keep_alive_period_in_seconds=nKeepAliveSeconds,\n",
    "    enable_sagemaker_metrics=True,\n",
    "    #metric_definitions=listMetricDefinitions,\n",
    "    volume_size=256, ## GB\n",
    ")"
   ]
  },
  {
   "cell_type": "markdown",
   "id": "9883bc2a-69e5-436d-aef3-67e994c1f553",
   "metadata": {},
   "source": [
    "* run"
   ]
  },
  {
   "cell_type": "code",
   "execution_count": 58,
   "id": "8640b12b-761f-4fbd-9f09-cac4b2709d2f",
   "metadata": {
    "tags": []
   },
   "outputs": [
    {
     "name": "stderr",
     "output_type": "stream",
     "text": [
      "INFO:botocore.credentials:Found credentials from IAM Role: BaseNotebookInstanceEc2InstanceRole\n",
      "INFO:botocore.credentials:Found credentials from IAM Role: BaseNotebookInstanceEc2InstanceRole\n",
      "INFO:sagemaker:Creating training-job with name: DJ-SM-IMD-experiments-0424-07451682322339\n",
      "INFO:sagemaker.local.local_session:Starting training job\n",
      "INFO:botocore.credentials:Found credentials from IAM Role: BaseNotebookInstanceEc2InstanceRole\n",
      "INFO:botocore.credentials:Found credentials from IAM Role: BaseNotebookInstanceEc2InstanceRole\n",
      "INFO:sagemaker.local.image:No AWS credentials found in session but credentials from EC2 Metadata Service are available.\n",
      "INFO:sagemaker.local.image:docker compose file: \n",
      "networks:\n",
      "  sagemaker-local:\n",
      "    name: sagemaker-local\n",
      "services:\n",
      "  algo-1-177j7:\n",
      "    command: train\n",
      "    container_name: m54u956j17-algo-1-177j7\n",
      "    environment:\n",
      "    - '[Masked]'\n",
      "    - '[Masked]'\n",
      "    image: 683313688378.dkr.ecr.us-east-1.amazonaws.com/sagemaker-xgboost:1.3-1\n",
      "    networks:\n",
      "      sagemaker-local:\n",
      "        aliases:\n",
      "        - algo-1-177j7\n",
      "    stdin_open: true\n",
      "    tty: true\n",
      "    volumes:\n",
      "    - /tmp/tmp94v95g9j/algo-1-177j7/output/data:/opt/ml/output/data\n",
      "    - /tmp/tmp94v95g9j/algo-1-177j7/input:/opt/ml/input\n",
      "    - /tmp/tmp94v95g9j/algo-1-177j7/output:/opt/ml/output\n",
      "    - /tmp/tmp94v95g9j/model:/opt/ml/model\n",
      "    - /opt/ml/metadata:/opt/ml/metadata\n",
      "    - /home/ec2-user/SageMaker/sagemaker-immersion-day/data:/opt/ml/input/data/training\n",
      "    - /home/ec2-user/SageMaker/sagemaker-immersion-day/data:/opt/ml/input/data/testing\n",
      "    - /home/ec2-user/SageMaker/sagemaker-immersion-day/source/train:/opt/ml/code\n",
      "    - /tmp/tmp94v95g9j/shared:/opt/ml/shared\n",
      "version: '2.3'\n",
      "\n",
      "INFO:sagemaker.local.image:docker command: docker-compose -f /tmp/tmp94v95g9j/docker-compose.yaml up --build --abort-on-container-exit\n"
     ]
    },
    {
     "name": "stdout",
     "output_type": "stream",
     "text": [
      "Creating m54u956j17-algo-1-177j7 ... \n",
      "Creating m54u956j17-algo-1-177j7 ... done\n",
      "Attaching to m54u956j17-algo-1-177j7\n",
      "\u001b[36mm54u956j17-algo-1-177j7 |\u001b[0m [2023-04-24 07:45:42.777 3fd79362b216:1 INFO utils.py:28] RULE_JOB_STOP_SIGNAL_FILENAME: None\n",
      "\u001b[36mm54u956j17-algo-1-177j7 |\u001b[0m [2023-04-24 07:45:42.807 3fd79362b216:1 INFO profiler_config_parser.py:111] Unable to find config at /opt/ml/input/config/profilerconfig.json. Profiler is disabled.\n",
      "\u001b[36mm54u956j17-algo-1-177j7 |\u001b[0m [2023-04-24:07:45:42:INFO] Imported framework sagemaker_xgboost_container.training\n",
      "\u001b[36mm54u956j17-algo-1-177j7 |\u001b[0m [2023-04-24:07:45:42:INFO] No GPUs detected (normal if no gpus installed)\n",
      "\u001b[36mm54u956j17-algo-1-177j7 |\u001b[0m [2023-04-24:07:45:42:INFO] Invoking user training script.\n",
      "\u001b[36mm54u956j17-algo-1-177j7 |\u001b[0m [2023-04-24:07:45:42:INFO] Installing module with the following command:\n",
      "\u001b[36mm54u956j17-algo-1-177j7 |\u001b[0m /miniconda3/bin/python3 -m pip install . \n",
      "\u001b[36mm54u956j17-algo-1-177j7 |\u001b[0m Processing /opt/ml/code\n",
      "\u001b[36mm54u956j17-algo-1-177j7 |\u001b[0m   Preparing metadata (setup.py) ... \u001b[?25ldone\n",
      "\u001b[36mm54u956j17-algo-1-177j7 |\u001b[0m \u001b[?25hBuilding wheels for collected packages: xgboost-starter-script\n",
      "\u001b[36mm54u956j17-algo-1-177j7 |\u001b[0m   Building wheel for xgboost-starter-script (setup.py) ... \u001b[?25ldone\n",
      "\u001b[36mm54u956j17-algo-1-177j7 |\u001b[0m \u001b[?25h  Created wheel for xgboost-starter-script: filename=xgboost_starter_script-1.0.0-py2.py3-none-any.whl size=17096 sha256=9f3a844c6da8040b979696e2316e10f0914d7e1dcecb1a0cea1be1832d96be37\n",
      "\u001b[36mm54u956j17-algo-1-177j7 |\u001b[0m   Stored in directory: /home/model-server/tmp/pip-ephem-wheel-cache-ab3s5449/wheels/3e/0f/51/2f1df833dd0412c1bc2f5ee56baac195b5be563353d111dca6\n",
      "\u001b[36mm54u956j17-algo-1-177j7 |\u001b[0m Successfully built xgboost-starter-script\n",
      "\u001b[36mm54u956j17-algo-1-177j7 |\u001b[0m Installing collected packages: xgboost-starter-script\n",
      "\u001b[36mm54u956j17-algo-1-177j7 |\u001b[0m   Attempting uninstall: xgboost-starter-script\n",
      "\u001b[36mm54u956j17-algo-1-177j7 |\u001b[0m     Found existing installation: xgboost-starter-script 1.0.0\n",
      "\u001b[36mm54u956j17-algo-1-177j7 |\u001b[0m     Can't uninstall 'xgboost-starter-script'. No files were found to uninstall.\n",
      "\u001b[36mm54u956j17-algo-1-177j7 |\u001b[0m Successfully installed xgboost-starter-script-1.0.0\n",
      "\u001b[36mm54u956j17-algo-1-177j7 |\u001b[0m \u001b[33mWARNING: Running pip as the 'root' user can result in broken permissions and conflicting behaviour with the system package manager. It is recommended to use a virtual environment instead: https://pip.pypa.io/warnings/venv\u001b[0m\u001b[33m\n",
      "\u001b[36mm54u956j17-algo-1-177j7 |\u001b[0m \u001b[0m\n",
      "\u001b[36mm54u956j17-algo-1-177j7 |\u001b[0m \u001b[1m[\u001b[0m\u001b[34;49mnotice\u001b[0m\u001b[1;39;49m]\u001b[0m\u001b[39;49m A new release of pip is available: \u001b[0m\u001b[31;49m23.0.1\u001b[0m\u001b[39;49m -> \u001b[0m\u001b[32;49m23.1.1\u001b[0m\n",
      "\u001b[36mm54u956j17-algo-1-177j7 |\u001b[0m \u001b[1m[\u001b[0m\u001b[34;49mnotice\u001b[0m\u001b[1;39;49m]\u001b[0m\u001b[39;49m To update, run: \u001b[0m\u001b[32;49mpip install --upgrade pip\u001b[0m\n",
      "\u001b[36mm54u956j17-algo-1-177j7 |\u001b[0m [2023-04-24:07:45:44:INFO] No GPUs detected (normal if no gpus installed)\n",
      "\u001b[36mm54u956j17-algo-1-177j7 |\u001b[0m [2023-04-24:07:45:44:INFO] Invoking user script\n",
      "\u001b[36mm54u956j17-algo-1-177j7 |\u001b[0m \n",
      "\u001b[36mm54u956j17-algo-1-177j7 |\u001b[0m Training Env:\n",
      "\u001b[36mm54u956j17-algo-1-177j7 |\u001b[0m \n",
      "\u001b[36mm54u956j17-algo-1-177j7 |\u001b[0m {\n",
      "\u001b[36mm54u956j17-algo-1-177j7 |\u001b[0m     \"additional_framework_parameters\": {},\n",
      "\u001b[36mm54u956j17-algo-1-177j7 |\u001b[0m     \"channel_input_dirs\": {\n",
      "\u001b[36mm54u956j17-algo-1-177j7 |\u001b[0m         \"training\": \"/opt/ml/input/data/training\",\n",
      "\u001b[36mm54u956j17-algo-1-177j7 |\u001b[0m         \"testing\": \"/opt/ml/input/data/testing\"\n",
      "\u001b[36mm54u956j17-algo-1-177j7 |\u001b[0m     },\n",
      "\u001b[36mm54u956j17-algo-1-177j7 |\u001b[0m     \"current_host\": \"algo-1-177j7\",\n",
      "\u001b[36mm54u956j17-algo-1-177j7 |\u001b[0m     \"framework_module\": \"sagemaker_xgboost_container.training:main\",\n",
      "\u001b[36mm54u956j17-algo-1-177j7 |\u001b[0m     \"hosts\": [\n",
      "\u001b[36mm54u956j17-algo-1-177j7 |\u001b[0m         \"algo-1-177j7\"\n",
      "\u001b[36mm54u956j17-algo-1-177j7 |\u001b[0m     ],\n",
      "\u001b[36mm54u956j17-algo-1-177j7 |\u001b[0m     \"hyperparameters\": {\n",
      "\u001b[36mm54u956j17-algo-1-177j7 |\u001b[0m         \"scale_pos_weight\": \"19\",\n",
      "\u001b[36mm54u956j17-algo-1-177j7 |\u001b[0m         \"max_depth\": \"2\",\n",
      "\u001b[36mm54u956j17-algo-1-177j7 |\u001b[0m         \"eta\": \"0.3\",\n",
      "\u001b[36mm54u956j17-algo-1-177j7 |\u001b[0m         \"objective\": \"binary:logistic\",\n",
      "\u001b[36mm54u956j17-algo-1-177j7 |\u001b[0m         \"num_round\": \"100\"\n",
      "\u001b[36mm54u956j17-algo-1-177j7 |\u001b[0m     },\n",
      "\u001b[36mm54u956j17-algo-1-177j7 |\u001b[0m     \"input_config_dir\": \"/opt/ml/input/config\",\n",
      "\u001b[36mm54u956j17-algo-1-177j7 |\u001b[0m     \"input_data_config\": {\n",
      "\u001b[36mm54u956j17-algo-1-177j7 |\u001b[0m         \"training\": {\n",
      "\u001b[36mm54u956j17-algo-1-177j7 |\u001b[0m             \"TrainingInputMode\": \"File\"\n",
      "\u001b[36mm54u956j17-algo-1-177j7 |\u001b[0m         },\n",
      "\u001b[36mm54u956j17-algo-1-177j7 |\u001b[0m         \"testing\": {\n",
      "\u001b[36mm54u956j17-algo-1-177j7 |\u001b[0m             \"TrainingInputMode\": \"File\"\n",
      "\u001b[36mm54u956j17-algo-1-177j7 |\u001b[0m         }\n",
      "\u001b[36mm54u956j17-algo-1-177j7 |\u001b[0m     },\n",
      "\u001b[36mm54u956j17-algo-1-177j7 |\u001b[0m     \"input_dir\": \"/opt/ml/input\",\n",
      "\u001b[36mm54u956j17-algo-1-177j7 |\u001b[0m     \"is_master\": true,\n",
      "\u001b[36mm54u956j17-algo-1-177j7 |\u001b[0m     \"job_name\": \"DJ-SM-IMD-experiments-0424-07451682322339\",\n",
      "\u001b[36mm54u956j17-algo-1-177j7 |\u001b[0m     \"log_level\": 20,\n",
      "\u001b[36mm54u956j17-algo-1-177j7 |\u001b[0m     \"master_hostname\": \"algo-1-177j7\",\n",
      "\u001b[36mm54u956j17-algo-1-177j7 |\u001b[0m     \"model_dir\": \"/opt/ml/model\",\n",
      "\u001b[36mm54u956j17-algo-1-177j7 |\u001b[0m     \"module_dir\": \"/opt/ml/code\",\n",
      "\u001b[36mm54u956j17-algo-1-177j7 |\u001b[0m     \"module_name\": \"xgboost_starter_script\",\n",
      "\u001b[36mm54u956j17-algo-1-177j7 |\u001b[0m     \"network_interface_name\": \"eth0\",\n",
      "\u001b[36mm54u956j17-algo-1-177j7 |\u001b[0m     \"num_cpus\": 8,\n",
      "\u001b[36mm54u956j17-algo-1-177j7 |\u001b[0m     \"num_gpus\": 0,\n",
      "\u001b[36mm54u956j17-algo-1-177j7 |\u001b[0m     \"output_data_dir\": \"/opt/ml/output/data\",\n",
      "\u001b[36mm54u956j17-algo-1-177j7 |\u001b[0m     \"output_dir\": \"/opt/ml/output\",\n",
      "\u001b[36mm54u956j17-algo-1-177j7 |\u001b[0m     \"output_intermediate_dir\": \"/opt/ml/output/intermediate\",\n",
      "\u001b[36mm54u956j17-algo-1-177j7 |\u001b[0m     \"resource_config\": {\n",
      "\u001b[36mm54u956j17-algo-1-177j7 |\u001b[0m         \"current_host\": \"algo-1-177j7\",\n",
      "\u001b[36mm54u956j17-algo-1-177j7 |\u001b[0m         \"hosts\": [\n",
      "\u001b[36mm54u956j17-algo-1-177j7 |\u001b[0m             \"algo-1-177j7\"\n",
      "\u001b[36mm54u956j17-algo-1-177j7 |\u001b[0m         ]\n",
      "\u001b[36mm54u956j17-algo-1-177j7 |\u001b[0m     },\n",
      "\u001b[36mm54u956j17-algo-1-177j7 |\u001b[0m     \"user_entry_point\": \"xgboost_starter_script.py\"\n",
      "\u001b[36mm54u956j17-algo-1-177j7 |\u001b[0m }\n",
      "\u001b[36mm54u956j17-algo-1-177j7 |\u001b[0m \n",
      "\u001b[36mm54u956j17-algo-1-177j7 |\u001b[0m Environment variables:\n",
      "\u001b[36mm54u956j17-algo-1-177j7 |\u001b[0m \n",
      "\u001b[36mm54u956j17-algo-1-177j7 |\u001b[0m SM_HOSTS=[\"algo-1-177j7\"]\n",
      "\u001b[36mm54u956j17-algo-1-177j7 |\u001b[0m SM_NETWORK_INTERFACE_NAME=eth0\n",
      "\u001b[36mm54u956j17-algo-1-177j7 |\u001b[0m SM_HPS={\"eta\":\"0.3\",\"max_depth\":\"2\",\"num_round\":\"100\",\"objective\":\"binary:logistic\",\"scale_pos_weight\":\"19\"}\n",
      "\u001b[36mm54u956j17-algo-1-177j7 |\u001b[0m SM_USER_ENTRY_POINT=xgboost_starter_script.py\n",
      "\u001b[36mm54u956j17-algo-1-177j7 |\u001b[0m SM_FRAMEWORK_PARAMS={}\n",
      "\u001b[36mm54u956j17-algo-1-177j7 |\u001b[0m SM_RESOURCE_CONFIG={\"current_host\":\"algo-1-177j7\",\"hosts\":[\"algo-1-177j7\"]}\n",
      "\u001b[36mm54u956j17-algo-1-177j7 |\u001b[0m SM_INPUT_DATA_CONFIG={\"testing\":{\"TrainingInputMode\":\"File\"},\"training\":{\"TrainingInputMode\":\"File\"}}\n",
      "\u001b[36mm54u956j17-algo-1-177j7 |\u001b[0m SM_OUTPUT_DATA_DIR=/opt/ml/output/data\n",
      "\u001b[36mm54u956j17-algo-1-177j7 |\u001b[0m SM_CHANNELS=[\"testing\",\"training\"]\n",
      "\u001b[36mm54u956j17-algo-1-177j7 |\u001b[0m SM_CURRENT_HOST=algo-1-177j7\n",
      "\u001b[36mm54u956j17-algo-1-177j7 |\u001b[0m SM_MODULE_NAME=xgboost_starter_script\n",
      "\u001b[36mm54u956j17-algo-1-177j7 |\u001b[0m SM_LOG_LEVEL=20\n",
      "\u001b[36mm54u956j17-algo-1-177j7 |\u001b[0m SM_FRAMEWORK_MODULE=sagemaker_xgboost_container.training:main\n",
      "\u001b[36mm54u956j17-algo-1-177j7 |\u001b[0m SM_INPUT_DIR=/opt/ml/input\n",
      "\u001b[36mm54u956j17-algo-1-177j7 |\u001b[0m SM_INPUT_CONFIG_DIR=/opt/ml/input/config\n",
      "\u001b[36mm54u956j17-algo-1-177j7 |\u001b[0m SM_OUTPUT_DIR=/opt/ml/output\n",
      "\u001b[36mm54u956j17-algo-1-177j7 |\u001b[0m SM_NUM_CPUS=8\n",
      "\u001b[36mm54u956j17-algo-1-177j7 |\u001b[0m SM_NUM_GPUS=0\n",
      "\u001b[36mm54u956j17-algo-1-177j7 |\u001b[0m SM_MODEL_DIR=/opt/ml/model\n",
      "\u001b[36mm54u956j17-algo-1-177j7 |\u001b[0m SM_MODULE_DIR=/opt/ml/code\n",
      "\u001b[36mm54u956j17-algo-1-177j7 |\u001b[0m SM_TRAINING_ENV={\"additional_framework_parameters\":{},\"channel_input_dirs\":{\"testing\":\"/opt/ml/input/data/testing\",\"training\":\"/opt/ml/input/data/training\"},\"current_host\":\"algo-1-177j7\",\"framework_module\":\"sagemaker_xgboost_container.training:main\",\"hosts\":[\"algo-1-177j7\"],\"hyperparameters\":{\"eta\":\"0.3\",\"max_depth\":\"2\",\"num_round\":\"100\",\"objective\":\"binary:logistic\",\"scale_pos_weight\":\"19\"},\"input_config_dir\":\"/opt/ml/input/config\",\"input_data_config\":{\"testing\":{\"TrainingInputMode\":\"File\"},\"training\":{\"TrainingInputMode\":\"File\"}},\"input_dir\":\"/opt/ml/input\",\"is_master\":true,\"job_name\":\"DJ-SM-IMD-experiments-0424-07451682322339\",\"log_level\":20,\"master_hostname\":\"algo-1-177j7\",\"model_dir\":\"/opt/ml/model\",\"module_dir\":\"/opt/ml/code\",\"module_name\":\"xgboost_starter_script\",\"network_interface_name\":\"eth0\",\"num_cpus\":8,\"num_gpus\":0,\"output_data_dir\":\"/opt/ml/output/data\",\"output_dir\":\"/opt/ml/output\",\"output_intermediate_dir\":\"/opt/ml/output/intermediate\",\"resource_config\":{\"current_host\":\"algo-1-177j7\",\"hosts\":[\"algo-1-177j7\"]},\"user_entry_point\":\"xgboost_starter_script.py\"}\n",
      "\u001b[36mm54u956j17-algo-1-177j7 |\u001b[0m SM_USER_ARGS=[\"--eta\",\"0.3\",\"--max_depth\",\"2\",\"--num_round\",\"100\",\"--objective\",\"binary:logistic\",\"--scale_pos_weight\",\"19\"]\n",
      "\u001b[36mm54u956j17-algo-1-177j7 |\u001b[0m SM_OUTPUT_INTERMEDIATE_DIR=/opt/ml/output/intermediate\n",
      "\u001b[36mm54u956j17-algo-1-177j7 |\u001b[0m SM_CHANNEL_TRAINING=/opt/ml/input/data/training\n",
      "\u001b[36mm54u956j17-algo-1-177j7 |\u001b[0m SM_CHANNEL_TESTING=/opt/ml/input/data/testing\n",
      "\u001b[36mm54u956j17-algo-1-177j7 |\u001b[0m SM_HP_SCALE_POS_WEIGHT=19\n",
      "\u001b[36mm54u956j17-algo-1-177j7 |\u001b[0m SM_HP_MAX_DEPTH=2\n",
      "\u001b[36mm54u956j17-algo-1-177j7 |\u001b[0m SM_HP_ETA=0.3\n",
      "\u001b[36mm54u956j17-algo-1-177j7 |\u001b[0m SM_HP_OBJECTIVE=binary:logistic\n",
      "\u001b[36mm54u956j17-algo-1-177j7 |\u001b[0m SM_HP_NUM_ROUND=100\n",
      "\u001b[36mm54u956j17-algo-1-177j7 |\u001b[0m PYTHONPATH=/miniconda3/bin:/:/miniconda3/lib/python/site-packages/xgboost/dmlc-core/tracker:/miniconda3/lib/python37.zip:/miniconda3/lib/python3.7:/miniconda3/lib/python3.7/lib-dynload:/miniconda3/lib/python3.7/site-packages\n",
      "\u001b[36mm54u956j17-algo-1-177j7 |\u001b[0m \n",
      "\u001b[36mm54u956j17-algo-1-177j7 |\u001b[0m Invoking script with the following command:\n",
      "\u001b[36mm54u956j17-algo-1-177j7 |\u001b[0m \n",
      "\u001b[36mm54u956j17-algo-1-177j7 |\u001b[0m /miniconda3/bin/python3 -m xgboost_starter_script --eta 0.3 --max_depth 2 --num_round 100 --objective binary:logistic --scale_pos_weight 19\n",
      "\u001b[36mm54u956j17-algo-1-177j7 |\u001b[0m \n",
      "\u001b[36mm54u956j17-algo-1-177j7 |\u001b[0m \n",
      "\u001b[36mm54u956j17-algo-1-177j7 |\u001b[0m Received arguments Namespace(early_stopping_rounds=10, eta=0.3, max_depth=2, model_dir='/opt/ml/model', nfold=5, num_round=100, objective='binary:logistic', output_data_dir='/opt/ml/output/data', scale_pos_weight=19, train_data_path='/opt/ml/input/data/training')\n",
      "\u001b[36mm54u956j17-algo-1-177j7 |\u001b[0m {'max_depth': 2, 'eta': 0.3, 'objective': 'binary:logistic', 'scale_pos_weight': 19}\n",
      "\u001b[36mm54u956j17-algo-1-177j7 |\u001b[0m cv_results:      train-auc-mean  train-auc-std  test-auc-mean  test-auc-std\n",
      "\u001b[36mm54u956j17-algo-1-177j7 |\u001b[0m 0         0.756416       0.027332       0.725734      0.030566\n",
      "\u001b[36mm54u956j17-algo-1-177j7 |\u001b[0m 1         0.807343       0.012794       0.788258      0.038492\n",
      "\u001b[36mm54u956j17-algo-1-177j7 |\u001b[0m 2         0.822579       0.004171       0.796878      0.028159\n",
      "\u001b[36mm54u956j17-algo-1-177j7 |\u001b[0m 3         0.838369       0.006587       0.801015      0.030918\n",
      "\u001b[36mm54u956j17-algo-1-177j7 |\u001b[0m 4         0.848396       0.006762       0.810175      0.025745\n",
      "\u001b[36mm54u956j17-algo-1-177j7 |\u001b[0m 5         0.849323       0.008354       0.808175      0.024601\n",
      "\u001b[36mm54u956j17-algo-1-177j7 |\u001b[0m 6         0.856634       0.006556       0.808983      0.025004\n",
      "\u001b[36mm54u956j17-algo-1-177j7 |\u001b[0m 7         0.865202       0.005294       0.815106      0.019319\n",
      "\u001b[36mm54u956j17-algo-1-177j7 |\u001b[0m 8         0.869747       0.007855       0.816502      0.013786\n",
      "\u001b[36mm54u956j17-algo-1-177j7 |\u001b[0m 9         0.872878       0.006670       0.810968      0.013011\n",
      "\u001b[36mm54u956j17-algo-1-177j7 |\u001b[0m 10        0.876633       0.007243       0.817008      0.013975\n",
      "\u001b[36mm54u956j17-algo-1-177j7 |\u001b[0m 11        0.881523       0.008101       0.818221      0.016845\n",
      "\u001b[36mm54u956j17-algo-1-177j7 |\u001b[0m 12        0.886326       0.005693       0.817890      0.014646\n",
      "\u001b[36mm54u956j17-algo-1-177j7 |\u001b[0m 13        0.889832       0.005887       0.818472      0.013462\n",
      "\u001b[36mm54u956j17-algo-1-177j7 |\u001b[0m 14        0.894133       0.006181       0.821124      0.016886\n",
      "\u001b[36mm54u956j17-algo-1-177j7 |\u001b[0m [0]#011train-auc:0.8941326\n",
      "\u001b[36mm54u956j17-algo-1-177j7 |\u001b[0m [1]#011validation-auc:0.8211243999999999\n",
      "\u001b[36mm54u956j17-algo-1-177j7 |\u001b[0m [07:45:47] WARNING: ../src/learner.cc:1061: Starting in XGBoost 1.3.0, the default evaluation metric used with the objective 'binary:logistic' was changed from 'error' to 'logloss'. Explicitly set eval_metric if you'd like to restore the old behavior.\n"
     ]
    },
    {
     "name": "stderr",
     "output_type": "stream",
     "text": [
      "INFO:root:creating /tmp/tmp94v95g9j/artifacts/output/data\n",
      "INFO:root:copying /tmp/tmp94v95g9j/algo-1-177j7/output/data/metrics.json -> /tmp/tmp94v95g9j/artifacts/output/data\n",
      "INFO:root:copying /tmp/tmp94v95g9j/model/xgboost-model -> /tmp/tmp94v95g9j/artifacts/model\n"
     ]
    },
    {
     "name": "stdout",
     "output_type": "stream",
     "text": [
      "\u001b[36mm54u956j17-algo-1-177j7 exited with code 0\n",
      "\u001b[0mAborting on container exit...\n"
     ]
    },
    {
     "name": "stderr",
     "output_type": "stream",
     "text": [
      "WARNING:sagemaker.local.image:Failed to delete: /tmp/tmp94v95g9j/algo-1-177j7 Please remove it manually.\n"
     ]
    },
    {
     "name": "stdout",
     "output_type": "stream",
     "text": [
      "===== Job Complete =====\n"
     ]
    }
   ],
   "source": [
    "if strInstanceType =='local_gpu': estimator.checkpoint_s3_uri = None\n",
    "\n",
    "create_experiment(strExperimentName)\n",
    "job_name = create_trial(strExperimentName)\n",
    "\n",
    "estimator.fit(\n",
    "    inputs=dicDataChannels, \n",
    "    job_name=job_name,\n",
    "    experiment_config={\n",
    "      'TrialName': job_name,\n",
    "      'TrialComponentDisplayName': job_name,\n",
    "    },\n",
    "    wait=True,\n",
    ")"
   ]
  },
  {
   "cell_type": "markdown",
   "id": "7014170a-2ee4-442b-a2f9-87b83d3c2b92",
   "metadata": {},
   "source": [
    "* save model-path, experiment-name"
   ]
  },
  {
   "cell_type": "code",
   "execution_count": 18,
   "id": "16973040-93df-4afe-a9f9-ff95c811c94f",
   "metadata": {
    "tags": []
   },
   "outputs": [
    {
     "data": {
      "text/plain": [
       "'Store suceess'"
      ]
     },
     "execution_count": 18,
     "metadata": {},
     "output_type": "execute_result"
    }
   ],
   "source": [
    "pm.put_params(key=\"-\".join([strPrefix, \"MODEL-PATH\"]), value=estimator.model_data, overwrite=True)\n",
    "pm.put_params(key=\"-\".join([strPrefix, \"EXPERI-NAME\"]), value=strExperimentName, overwrite=True)"
   ]
  },
  {
   "cell_type": "markdown",
   "id": "8e4a9ce6-4677-4e70-a8b4-8765170d5a64",
   "metadata": {},
   "source": [
    "* show experiments"
   ]
  },
  {
   "cell_type": "code",
   "execution_count": 19,
   "id": "9b60a902-36d1-41e9-b0ba-f79fec992046",
   "metadata": {
    "tags": []
   },
   "outputs": [],
   "source": [
    "from sagemaker.analytics import ExperimentAnalytics\n",
    "import pandas as pd\n",
    "#pd.options.display.max_columns = 50\n",
    "#pd.options.display.max_rows = 10\n",
    "#pd.options.display.max_colwidth = 100"
   ]
  },
  {
   "cell_type": "code",
   "execution_count": 20,
   "id": "829f874e-c961-4ae6-a3e8-47b51159842d",
   "metadata": {
    "tags": []
   },
   "outputs": [
    {
     "data": {
      "text/html": [
       "<div>\n",
       "<style scoped>\n",
       "    .dataframe tbody tr th:only-of-type {\n",
       "        vertical-align: middle;\n",
       "    }\n",
       "\n",
       "    .dataframe tbody tr th {\n",
       "        vertical-align: top;\n",
       "    }\n",
       "\n",
       "    .dataframe thead th {\n",
       "        text-align: right;\n",
       "    }\n",
       "</style>\n",
       "<table border=\"1\" class=\"dataframe\">\n",
       "  <thead>\n",
       "    <tr style=\"text-align: right;\">\n",
       "      <th></th>\n",
       "      <th>Experiments</th>\n",
       "      <th>Trials</th>\n",
       "      <th>validation:auc - Min</th>\n",
       "      <th>validation:auc - Max</th>\n",
       "      <th>validation:auc - Avg</th>\n",
       "      <th>validation:auc - StdDev</th>\n",
       "      <th>validation:auc - Last</th>\n",
       "      <th>eta</th>\n",
       "      <th>max_depth</th>\n",
       "      <th>num_round</th>\n",
       "      <th>scale_pos_weight</th>\n",
       "    </tr>\n",
       "  </thead>\n",
       "  <tbody>\n",
       "    <tr>\n",
       "      <th>0</th>\n",
       "      <td>[DJ-SM-IMD-experiments]</td>\n",
       "      <td>[DJ-SM-IMD-experiments-0424-04371682311053]</td>\n",
       "      <td>1.000000</td>\n",
       "      <td>1.000000</td>\n",
       "      <td>1.000000</td>\n",
       "      <td>0.0</td>\n",
       "      <td>1.000000</td>\n",
       "      <td>\"0.3\"</td>\n",
       "      <td>\"2\"</td>\n",
       "      <td>\"100\"</td>\n",
       "      <td>\"19\"</td>\n",
       "    </tr>\n",
       "    <tr>\n",
       "      <th>1</th>\n",
       "      <td>[DJ-SM-IMD-experiments]</td>\n",
       "      <td>[DJ-SM-IMD-experiments-0424-04281682310513]</td>\n",
       "      <td>1.000000</td>\n",
       "      <td>1.000000</td>\n",
       "      <td>1.000000</td>\n",
       "      <td>0.0</td>\n",
       "      <td>1.000000</td>\n",
       "      <td>\"0.3\"</td>\n",
       "      <td>\"2\"</td>\n",
       "      <td>\"100\"</td>\n",
       "      <td>\"19\"</td>\n",
       "    </tr>\n",
       "    <tr>\n",
       "      <th>2</th>\n",
       "      <td>[DJ-SM-IMD-experiments]</td>\n",
       "      <td>[DJ-SM-IMD-experiments-0412-10121681294361]</td>\n",
       "      <td>0.821124</td>\n",
       "      <td>0.821124</td>\n",
       "      <td>0.821124</td>\n",
       "      <td>0.0</td>\n",
       "      <td>0.821124</td>\n",
       "      <td>\"0.3\"</td>\n",
       "      <td>\"2\"</td>\n",
       "      <td>\"100\"</td>\n",
       "      <td>\"19\"</td>\n",
       "    </tr>\n",
       "    <tr>\n",
       "      <th>3</th>\n",
       "      <td>[DJ-SM-IMD-experiments]</td>\n",
       "      <td>[DJ-SM-IMD-experiments-0416-06421681627343]</td>\n",
       "      <td>0.821124</td>\n",
       "      <td>0.821124</td>\n",
       "      <td>0.821124</td>\n",
       "      <td>0.0</td>\n",
       "      <td>0.821124</td>\n",
       "      <td>\"0.3\"</td>\n",
       "      <td>\"2\"</td>\n",
       "      <td>\"100\"</td>\n",
       "      <td>\"19\"</td>\n",
       "    </tr>\n",
       "    <tr>\n",
       "      <th>4</th>\n",
       "      <td>[DJ-SM-IMD-experiments]</td>\n",
       "      <td>[DJ-SM-IMD-experiments-0419-04191681877971]</td>\n",
       "      <td>0.821124</td>\n",
       "      <td>0.821124</td>\n",
       "      <td>0.821124</td>\n",
       "      <td>0.0</td>\n",
       "      <td>0.821124</td>\n",
       "      <td>\"0.3\"</td>\n",
       "      <td>\"2\"</td>\n",
       "      <td>\"100\"</td>\n",
       "      <td>\"19\"</td>\n",
       "    </tr>\n",
       "  </tbody>\n",
       "</table>\n",
       "</div>"
      ],
      "text/plain": [
       "               Experiments                                       Trials  \\\n",
       "0  [DJ-SM-IMD-experiments]  [DJ-SM-IMD-experiments-0424-04371682311053]   \n",
       "1  [DJ-SM-IMD-experiments]  [DJ-SM-IMD-experiments-0424-04281682310513]   \n",
       "2  [DJ-SM-IMD-experiments]  [DJ-SM-IMD-experiments-0412-10121681294361]   \n",
       "3  [DJ-SM-IMD-experiments]  [DJ-SM-IMD-experiments-0416-06421681627343]   \n",
       "4  [DJ-SM-IMD-experiments]  [DJ-SM-IMD-experiments-0419-04191681877971]   \n",
       "\n",
       "   validation:auc - Min  validation:auc - Max  validation:auc - Avg  \\\n",
       "0              1.000000              1.000000              1.000000   \n",
       "1              1.000000              1.000000              1.000000   \n",
       "2              0.821124              0.821124              0.821124   \n",
       "3              0.821124              0.821124              0.821124   \n",
       "4              0.821124              0.821124              0.821124   \n",
       "\n",
       "   validation:auc - StdDev  validation:auc - Last    eta max_depth num_round  \\\n",
       "0                      0.0               1.000000  \"0.3\"       \"2\"     \"100\"   \n",
       "1                      0.0               1.000000  \"0.3\"       \"2\"     \"100\"   \n",
       "2                      0.0               0.821124  \"0.3\"       \"2\"     \"100\"   \n",
       "3                      0.0               0.821124  \"0.3\"       \"2\"     \"100\"   \n",
       "4                      0.0               0.821124  \"0.3\"       \"2\"     \"100\"   \n",
       "\n",
       "  scale_pos_weight  \n",
       "0             \"19\"  \n",
       "1             \"19\"  \n",
       "2             \"19\"  \n",
       "3             \"19\"  \n",
       "4             \"19\"  "
      ]
     },
     "execution_count": 20,
     "metadata": {},
     "output_type": "execute_result"
    }
   ],
   "source": [
    "trial_component_training_analytics = ExperimentAnalytics(\n",
    "    sagemaker_session= sagemaker_session,\n",
    "    experiment_name= strExperimentName,\n",
    "    sort_by=\"metrics.validation:auc.max\",        \n",
    "    sort_order=\"Descending\",\n",
    "    metric_names=[\"validation:auc\"]\n",
    ")\n",
    "\n",
    "trial_component_training_analytics.dataframe()[['Experiments', 'Trials', 'validation:auc - Min', 'validation:auc - Max',\n",
    "                                                'validation:auc - Avg', 'validation:auc - StdDev', 'validation:auc - Last', \n",
    "                                                'eta', 'max_depth', 'num_round', 'scale_pos_weight']]"
   ]
  },
  {
   "cell_type": "code",
   "execution_count": null,
   "id": "dc5d69ed-0e54-4df4-9220-c9c2dcb26141",
   "metadata": {},
   "outputs": [],
   "source": []
  }
 ],
 "metadata": {
  "instance_type": "ml.t3.medium",
  "kernelspec": {
   "display_name": "conda_python3",
   "language": "python",
   "name": "conda_python3"
  },
  "language_info": {
   "codemirror_mode": {
    "name": "ipython",
    "version": 3
   },
   "file_extension": ".py",
   "mimetype": "text/x-python",
   "name": "python",
   "nbconvert_exporter": "python",
   "pygments_lexer": "ipython3",
   "version": "3.10.8"
  }
 },
 "nbformat": 4,
 "nbformat_minor": 5
}
