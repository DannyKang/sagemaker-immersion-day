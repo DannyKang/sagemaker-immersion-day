{
 "cells": [
  {
   "cell_type": "markdown",
   "id": "96536fdc-19c0-4caf-85db-cad312ebf8e8",
   "metadata": {},
   "source": [
    "# <B> Monitor - SageMaker pipeline </B>\n",
    "* Container: conda_python3"
   ]
  },
  {
   "cell_type": "markdown",
   "id": "179d59b1-ba8b-4985-80a5-a84856ff120a",
   "metadata": {},
   "source": [
    "## AutoReload"
   ]
  },
  {
   "cell_type": "code",
   "execution_count": 80,
   "id": "587e5c24-67c3-413e-9043-4e7527c6ce43",
   "metadata": {
    "tags": []
   },
   "outputs": [
    {
     "name": "stdout",
     "output_type": "stream",
     "text": [
      "The autoreload extension is already loaded. To reload it, use:\n",
      "  %reload_ext autoreload\n"
     ]
    }
   ],
   "source": [
    "%load_ext autoreload\n",
    "%autoreload 2"
   ]
  },
  {
   "cell_type": "markdown",
   "id": "d3916c0e-3c4f-411b-a314-0f5c3cd102a9",
   "metadata": {},
   "source": [
    "## 0. Install packages"
   ]
  },
  {
   "cell_type": "code",
   "execution_count": 48,
   "id": "e1186d35-0f5c-4015-8c4c-36ff9b86221e",
   "metadata": {
    "tags": []
   },
   "outputs": [],
   "source": [
    "install_needed = False  # should only be True once\n",
    "# install_needed = False"
   ]
  },
  {
   "cell_type": "code",
   "execution_count": 49,
   "id": "2437e943-566f-42f3-8f17-398c76b75424",
   "metadata": {
    "tags": []
   },
   "outputs": [
    {
     "name": "stdout",
     "output_type": "stream",
     "text": [
      "Already revised\n"
     ]
    }
   ],
   "source": [
    "%%bash\n",
    "#!/bin/bash\n",
    "\n",
    "DAEMON_PATH=\"/etc/docker\"\n",
    "MEMORY_SIZE=10G\n",
    "\n",
    "FLAG=$(cat $DAEMON_PATH/daemon.json | jq 'has(\"data-root\")')\n",
    "# echo $FLAG\n",
    "\n",
    "if [ \"$FLAG\" == true ]; then\n",
    "    echo \"Already revised\"\n",
    "else\n",
    "    echo \"Add data-root and default-shm-size=$MEMORY_SIZE\"\n",
    "    sudo cp $DAEMON_PATH/daemon.json $DAEMON_PATH/daemon.json.bak\n",
    "    sudo cat $DAEMON_PATH/daemon.json.bak | jq '. += {\"data-root\":\"/home/ec2-user/SageMaker/.container/docker\",\"default-shm-size\":\"'$MEMORY_SIZE'\"}' | sudo tee $DAEMON_PATH/daemon.json > /dev/null\n",
    "    sudo service docker restart\n",
    "    echo \"Docker Restart\"\n",
    "fi"
   ]
  },
  {
   "cell_type": "code",
   "execution_count": 50,
   "id": "3c758ff6-e9e8-45c8-8385-51a7fcddb0fc",
   "metadata": {
    "tags": []
   },
   "outputs": [],
   "source": [
    "import sys\n",
    "import IPython\n",
    "\n",
    "if install_needed:\n",
    "    print(\"installing deps and restarting kernel\")\n",
    "    !{sys.executable} -m pip install -U pip\n",
    "    !{sys.executable} -m pip install -U smdebug sagemaker-experiments\n",
    "    !{sys.executable} -m pip install -U sagemaker\n",
    "\n",
    "    IPython.Application.instance().kernel.do_shutdown(True)"
   ]
  },
  {
   "cell_type": "markdown",
   "id": "f6fa302d-d31f-4b40-b620-c8d5aec820c3",
   "metadata": {},
   "source": [
    "## 1. parameter store 설정"
   ]
  },
  {
   "cell_type": "code",
   "execution_count": 81,
   "id": "7bbe4b78-60fc-4c02-bbe5-8683627d7526",
   "metadata": {
    "tags": []
   },
   "outputs": [],
   "source": [
    "import boto3\n",
    "from utils.ssm import parameter_store"
   ]
  },
  {
   "cell_type": "code",
   "execution_count": 82,
   "id": "483c0664-7572-414d-908e-a062f56f090c",
   "metadata": {
    "tags": []
   },
   "outputs": [],
   "source": [
    "strRegionName=boto3.Session().region_name\n",
    "pm = parameter_store(strRegionName)\n",
    "strPrefix = pm.get_params(key=\"PREFIX\")"
   ]
  },
  {
   "cell_type": "code",
   "execution_count": 83,
   "id": "5a5ab97e-a447-4d0b-a441-4f0023b43550",
   "metadata": {
    "tags": []
   },
   "outputs": [],
   "source": [
    "strBucketName = pm.get_params(key=\"-\".join([strPrefix, \"BUCKET\"]))\n",
    "strExecutionRole = pm.get_params(key=\"-\".join([strPrefix, \"SAGEMAKER-ROLE-ARN\"]))"
   ]
  },
  {
   "cell_type": "code",
   "execution_count": 84,
   "id": "c2c0ff90-2b49-4c7f-982a-6cfb017fb7c4",
   "metadata": {
    "tags": []
   },
   "outputs": [
    {
     "name": "stdout",
     "output_type": "stream",
     "text": [
      "strExecutionRole: arn:aws:iam::419974056037:role/service-role/AmazonSageMaker-ExecutionRole-20221206T163436\n"
     ]
    }
   ],
   "source": [
    "print (f'strExecutionRole: {strExecutionRole}')"
   ]
  },
  {
   "cell_type": "markdown",
   "id": "06ca684e-5649-42a4-820d-24b09296967b",
   "metadata": {},
   "source": [
    "## 2. EventBridge - Lambda 설정"
   ]
  },
  {
   "cell_type": "code",
   "execution_count": 55,
   "id": "1ef01535-f5ed-4f8a-bc66-065ecd4a8414",
   "metadata": {
    "tags": []
   },
   "outputs": [],
   "source": [
    "import boto3"
   ]
  },
  {
   "cell_type": "markdown",
   "id": "7efc6819-dda5-4521-bd14-5043f4b92ffc",
   "metadata": {
    "tags": []
   },
   "source": [
    "### 2-1. Lambda function 생성"
   ]
  },
  {
   "cell_type": "code",
   "execution_count": 85,
   "id": "deed5d33-21c6-4354-909e-6170821cc7a6",
   "metadata": {
    "tags": []
   },
   "outputs": [],
   "source": [
    "import shutil\n",
    "import zipfile\n",
    "import tempfile\n",
    "from utils.lambda_func import lambda_handler"
   ]
  },
  {
   "cell_type": "code",
   "execution_count": 86,
   "id": "e13a6e67-1fd6-457b-9451-3dfb5d4867d3",
   "metadata": {
    "tags": []
   },
   "outputs": [],
   "source": [
    "lam_handler = lambda_handler(region_name=strRegionName)"
   ]
  },
  {
   "cell_type": "code",
   "execution_count": 87,
   "id": "a9e0965c-6822-499a-a7ce-4f33d8a233d1",
   "metadata": {
    "tags": []
   },
   "outputs": [],
   "source": [
    "strLambdaRoleArn = pm.get_params(key=\"-\".join([strPrefix, \"LAMBDA-ROLE-ARN\"]))\n",
    "strLambdaFuncName = \"-\".join([strPrefix, \"LAMBDA\"])\n",
    "strLambdaSrcDir = \"./lambda/sources\"\n",
    "strLambdaHandler = \"pipeline_monitor_lambda.lambda_handler\" "
   ]
  },
  {
   "cell_type": "code",
   "execution_count": 88,
   "id": "9c29f623-1849-4d3e-975b-910a28157135",
   "metadata": {
    "tags": []
   },
   "outputs": [
    {
     "name": "stdout",
     "output_type": "stream",
     "text": [
      "strLambdaRoleArn: arn:aws:iam::419974056037:role/DJ-SM-IMD-LabmdaRole\n",
      "strRegionName: us-east-1\n"
     ]
    }
   ],
   "source": [
    "print (f'strLambdaRoleArn: {strLambdaRoleArn}')\n",
    "print (f'strRegionName: {strRegionName}')"
   ]
  },
  {
   "cell_type": "code",
   "execution_count": 89,
   "id": "bbe29e02-8d4c-45fb-a6e3-3d9dd5ece9fd",
   "metadata": {
    "tags": []
   },
   "outputs": [
    {
     "name": "stdout",
     "output_type": "stream",
     "text": [
      "== CREATE LAMBDA FUNCTION ==\n",
      "  lambda function: [DJ-SM-IMD-LAMBDA] is already exist!!, so, this will be deleted and re-created.\n",
      "  lambda function: [DJ-SM-IMD-LAMBDA] is deleted successfully\n",
      "Argments for lambda below:\n",
      "\n",
      "{'Architectures': ['x86_64'],\n",
      " 'CodeSha256': 'hsjVPvwX9+81Cgr3rpV3wN/ssqG+kapJpzKrFESh4tk=',\n",
      " 'CodeSize': 1038,\n",
      " 'Description': 'SageMaker IMD: Lambda for Automating Amazon SageMaker with '\n",
      "                'Amazon EventBridge',\n",
      " 'Environment': {'Variables': {'REGION': 'us-east-1'}},\n",
      " 'EphemeralStorage': {'Size': 512},\n",
      " 'FunctionArn': 'arn:aws:lambda:us-east-1:419974056037:function:DJ-SM-IMD-LAMBDA',\n",
      " 'FunctionName': 'DJ-SM-IMD-LAMBDA',\n",
      " 'Handler': 'pipeline_monitor_lambda.lambda_handler',\n",
      " 'LastModified': '2023-05-04T15:45:48.672+0000',\n",
      " 'MemorySize': 128,\n",
      " 'PackageType': 'Zip',\n",
      " 'ResponseMetadata': {'HTTPHeaders': {'connection': 'keep-alive',\n",
      "                                      'content-length': '1335',\n",
      "                                      'content-type': 'application/json',\n",
      "                                      'date': 'Thu, 04 May 2023 15:45:48 GMT',\n",
      "                                      'x-amzn-requestid': '3f3aa198-6c4b-4a78-8e53-45d0399ada12'},\n",
      "                      'HTTPStatusCode': 201,\n",
      "                      'RequestId': '3f3aa198-6c4b-4a78-8e53-45d0399ada12',\n",
      "                      'RetryAttempts': 0},\n",
      " 'RevisionId': '8187d629-71ca-4fe6-93e6-d3a9cffa7302',\n",
      " 'Role': 'arn:aws:iam::419974056037:role/DJ-SM-IMD-LabmdaRole',\n",
      " 'Runtime': 'python3.9',\n",
      " 'RuntimeVersionConfig': {'RuntimeVersionArn': 'arn:aws:lambda:us-east-1::runtime:e73d5f60c4282fb09ce24a6d3fe8997789616f3a53b903f4ed7c9132a58045f6'},\n",
      " 'SnapStart': {'ApplyOn': 'None', 'OptimizationStatus': 'Off'},\n",
      " 'State': 'Pending',\n",
      " 'StateReason': 'The function is being created.',\n",
      " 'StateReasonCode': 'Creating',\n",
      " 'Timeout': 3,\n",
      " 'TracingConfig': {'Mode': 'PassThrough'},\n",
      " 'Version': '6'}\n",
      "\n",
      "  lambda function: [DJ-SM-IMD-LAMBDA] is created successfully\n",
      "== COMPLETED ==\n",
      "LambdaArn: arn:aws:lambda:us-east-1:419974056037:function:DJ-SM-IMD-LAMBDA\n",
      "strLambdaFuncName: DJ-SM-IMD-LAMBDA\n"
     ]
    },
    {
     "data": {
      "text/plain": [
       "'Store suceess'"
      ]
     },
     "execution_count": 89,
     "metadata": {},
     "output_type": "execute_result"
    }
   ],
   "source": [
    "with tempfile.TemporaryDirectory() as tempDirPath:\n",
    "    \n",
    "    lambda_archive_path = shutil.make_archive(\n",
    "        base_name=tempDirPath,\n",
    "        format=\"zip\",\n",
    "        root_dir=strLambdaSrcDir,\n",
    "    )\n",
    "    \n",
    "    with open(lambda_archive_path, 'rb') as f: zipped_code = f.read()\n",
    "    \n",
    "    strLambdaArn = lam_handler.create_function(\n",
    "        Code=dict(ZipFile=zipped_code),\n",
    "        Description='SageMaker IMD: Lambda for Automating Amazon SageMaker with Amazon EventBridge',\n",
    "        Environment={\n",
    "           'Variables': {\n",
    "               'REGION':strRegionName,\n",
    "           },\n",
    "        },\n",
    "        FunctionName=strLambdaFuncName,\n",
    "        Handler=strLambdaHandler,\n",
    "        Publish=True,\n",
    "        Role=strLambdaRoleArn,\n",
    "        Runtime='python3.9',\n",
    "    )\n",
    "    \n",
    "print (f'LambdaArn: {strLambdaArn}')\n",
    "print (f'strLambdaFuncName: {strLambdaFuncName}')\n",
    "pm.put_params(key=\"-\".join([strPrefix, \"LAMBDA-PIPELINE-MONITOR\"]), value=strLambdaFuncName, overwrite=True)"
   ]
  },
  {
   "cell_type": "markdown",
   "id": "70c84b72-52c0-4207-a128-13638ffef064",
   "metadata": {},
   "source": [
    "### 2-1. Event Rule 생성\n",
    "* [Automating Amazon SageMaker with Amazon EventBridge](https://docs.aws.amazon.com/sagemaker/latest/dg/automating-sagemaker-with-eventbridge.html#eventbridge-pipeline)\n",
    "* [BOTO3 for eventbridge](https://boto3.amazonaws.com/v1/documentation/api/latest/reference/services/events.html)"
   ]
  },
  {
   "cell_type": "code",
   "execution_count": 90,
   "id": "637ae99d-379c-44d3-a42f-547ca1a6023c",
   "metadata": {
    "tags": []
   },
   "outputs": [],
   "source": [
    "client_events = boto3.client('events')"
   ]
  },
  {
   "cell_type": "code",
   "execution_count": 91,
   "id": "6c21780e-e92a-467a-a50a-685cc43bfd72",
   "metadata": {
    "tags": []
   },
   "outputs": [
    {
     "data": {
      "text/plain": [
       "'Store suceess'"
      ]
     },
     "execution_count": 91,
     "metadata": {},
     "output_type": "execute_result"
    }
   ],
   "source": [
    "dicEventPattern = '''\n",
    "{\n",
    "    \"source\": [\"aws.sagemaker\"],\n",
    "    \"detail-type\": [\"SageMaker Model Building Pipeline Execution Step Status Change\"],\n",
    "    \"detail\": {\n",
    "        \"currentStepStatus\": [\"Failed\"] \n",
    "    }\n",
    "}\n",
    "'''\n",
    "strEventBridgeRole = pm.get_params(key=\"-\".join([strPrefix, \"CODE-EVENTBRIDGE-ROLE-ARN\"]))\n",
    "strEventRuleName = \"SAGEMAKER-PIPELINE-STEP-MONITOR\"\n",
    "pm.put_params(key=\"-\".join([strPrefix, \"EVENT-RULE-NAME\"]), value=strEventRuleName, overwrite=True)"
   ]
  },
  {
   "cell_type": "code",
   "execution_count": 92,
   "id": "5a237b69-765f-4af6-a9fe-1646f05fe586",
   "metadata": {
    "tags": []
   },
   "outputs": [
    {
     "name": "stdout",
     "output_type": "stream",
     "text": [
      "strEventBridgeRole: arn:aws:iam::419974056037:role/DJ-SM-IMD-EventBridgeRole\n",
      "strEventRuleName: SAGEMAKER-PIPELINE-STEP-MONITOR\n"
     ]
    }
   ],
   "source": [
    "print (f'strEventBridgeRole: {strEventBridgeRole}')\n",
    "print (f'strEventRuleName: {strEventRuleName}')"
   ]
  },
  {
   "cell_type": "code",
   "execution_count": 93,
   "id": "a194a8a3-ab95-4ce9-ab14-73ca9afd5d53",
   "metadata": {
    "tags": []
   },
   "outputs": [
    {
     "data": {
      "text/plain": [
       "{'RuleArn': 'arn:aws:events:us-east-1:419974056037:rule/SAGEMAKER-PIPELINE-STEP-MONITOR',\n",
       " 'ResponseMetadata': {'RequestId': '6a5ff98a-f2b9-4dee-8086-e43f40aeb72c',\n",
       "  'HTTPStatusCode': 200,\n",
       "  'HTTPHeaders': {'x-amzn-requestid': '6a5ff98a-f2b9-4dee-8086-e43f40aeb72c',\n",
       "   'content-type': 'application/x-amz-json-1.1',\n",
       "   'content-length': '88',\n",
       "   'date': 'Thu, 04 May 2023 15:45:59 GMT'},\n",
       "  'RetryAttempts': 0}}"
      ]
     },
     "execution_count": 93,
     "metadata": {},
     "output_type": "execute_result"
    }
   ],
   "source": [
    "rule_response = client_events.put_rule(\n",
    "    Name=strEventRuleName,\n",
    "    #ScheduleExpression='string',\n",
    "    EventPattern=dicEventPattern,\n",
    "    State=\"ENABLED\", #'ENABLED'|'DISABLED'\n",
    "    Description=\"Trigger when currentStepStatus is Failed\",\n",
    "    RoleArn=strEventBridgeRole\n",
    ")\n",
    "rule_response"
   ]
  },
  {
   "cell_type": "markdown",
   "id": "fa95b41f-6510-4b6a-a9c9-58117ce09aa3",
   "metadata": {
    "tags": []
   },
   "source": [
    "### 2.2 target 설정"
   ]
  },
  {
   "cell_type": "code",
   "execution_count": 94,
   "id": "563ec7df-ee6f-4f95-86f0-5f731e5a14b3",
   "metadata": {
    "tags": []
   },
   "outputs": [],
   "source": [
    "target_response = client_events.put_targets(\n",
    "    Rule=strEventRuleName,\n",
    "    Targets=[\n",
    "        {\n",
    "            'Id': strLambdaFuncName,\n",
    "            'Arn': strLambdaArn\n",
    "        }\n",
    "    ]\n",
    ")"
   ]
  },
  {
   "cell_type": "code",
   "execution_count": 95,
   "id": "5a3831f9-322d-4730-89df-9b16473decef",
   "metadata": {
    "tags": []
   },
   "outputs": [
    {
     "data": {
      "text/plain": [
       "{'FailedEntryCount': 0,\n",
       " 'FailedEntries': [],\n",
       " 'ResponseMetadata': {'RequestId': '28a2e133-7f08-4d0f-890b-448b035ee57f',\n",
       "  'HTTPStatusCode': 200,\n",
       "  'HTTPHeaders': {'x-amzn-requestid': '28a2e133-7f08-4d0f-890b-448b035ee57f',\n",
       "   'content-type': 'application/x-amz-json-1.1',\n",
       "   'content-length': '41',\n",
       "   'date': 'Thu, 04 May 2023 15:46:01 GMT'},\n",
       "  'RetryAttempts': 0}}"
      ]
     },
     "execution_count": 95,
     "metadata": {},
     "output_type": "execute_result"
    }
   ],
   "source": [
    "target_response"
   ]
  },
  {
   "cell_type": "code",
   "execution_count": 96,
   "id": "09553a1b-5110-4184-b8f0-1bd040db6c5a",
   "metadata": {
    "tags": []
   },
   "outputs": [
    {
     "data": {
      "text/plain": [
       "{'ResponseMetadata': {'RequestId': 'dae2dc9c-bc67-4909-9b0e-3c6fb5ae2f1b',\n",
       "  'HTTPStatusCode': 201,\n",
       "  'HTTPHeaders': {'date': 'Thu, 04 May 2023 15:46:03 GMT',\n",
       "   'content-type': 'application/json',\n",
       "   'content-length': '370',\n",
       "   'connection': 'keep-alive',\n",
       "   'x-amzn-requestid': 'dae2dc9c-bc67-4909-9b0e-3c6fb5ae2f1b'},\n",
       "  'RetryAttempts': 0},\n",
       " 'Statement': '{\"Sid\":\"11956DJ-SM-IMD-LAMBDA\",\"Effect\":\"Allow\",\"Principal\":{\"Service\":\"events.amazonaws.com\"},\"Action\":\"lambda:InvokeFunction\",\"Resource\":\"arn:aws:lambda:us-east-1:419974056037:function:DJ-SM-IMD-LAMBDA\",\"Condition\":{\"ArnLike\":{\"AWS:SourceArn\":\"arn:aws:events:us-east-1:419974056037:rule/SAGEMAKER-PIPELINE-STEP-MONITOR\"}}}'}"
      ]
     },
     "execution_count": 96,
     "metadata": {},
     "output_type": "execute_result"
    }
   ],
   "source": [
    "add_lambda_permission = lam_handler.add_permission(\n",
    "    strLambdaArn=strLambdaArn,\n",
    "    strLambdaFuncName=strLambdaFuncName,\n",
    "    SourceArn=rule_response[\"RuleArn\"]\n",
    ")\n",
    "add_lambda_permission"
   ]
  },
  {
   "cell_type": "code",
   "execution_count": null,
   "id": "43c72628-2c07-455d-a8c7-56c80d11bcbe",
   "metadata": {},
   "outputs": [],
   "source": []
  },
  {
   "cell_type": "code",
   "execution_count": null,
   "id": "3ac3597f-444a-4629-a91a-bc20ddfa2407",
   "metadata": {},
   "outputs": [],
   "source": []
  },
  {
   "cell_type": "code",
   "execution_count": null,
   "id": "372db6c3-5ba1-4c8f-b80d-caa6e498e8c8",
   "metadata": {},
   "outputs": [],
   "source": []
  },
  {
   "cell_type": "code",
   "execution_count": null,
   "id": "0385792f-9ce0-4215-8826-46880ab34e04",
   "metadata": {},
   "outputs": [],
   "source": []
  },
  {
   "cell_type": "code",
   "execution_count": 68,
   "id": "0698e29a-e3b9-4725-9c25-310af73a30ca",
   "metadata": {
    "tags": []
   },
   "outputs": [],
   "source": [
    "aa = {'version': '0', 'id': '317a4633-524f-2ac3-2cbb-f038c637920e', 'detail-type': 'SageMaker Model Building Pipeline Execution Step Status Change', 'source': 'aws.sagemaker', 'account': '419974056037', 'time': '2023-05-04T15:31:33Z', 'region': 'us-east-1', 'resources': ['arn:aws:sagemaker:us-east-1:419974056037:pipeline/dj-sm-imd-pipeline', 'arn:aws:sagemaker:us-east-1:419974056037:pipeline/dj-sm-imd-pipeline/execution/x1xt2felyccl'], 'detail': {'failureReason': 'ClientError: Failed to invoke sagemaker:CreateTrainingJob. Error Details: No S3 objects found under S3 URL \"s3://sagemaker-us-east-1-419974056037/dataset/train_.csv\" given in input data source. Please ensure that the bucket exists in the selected region (us-east-1), that objects exist under that S3 prefix, and that the role \"arn:aws:iam::419974056037:role/service-role/AmazonSageMaker-ExecutionRole-20221206T163436\" has \"s3:ListBucket\" permissions on bucket \"sagemaker-us-east-1-419974056037\".', 'metadata': {}, 'stepStartTime': '2023-05-04T15:31:32Z', 'stepEndTime': '2023-05-04T15:31:33Z', 'stepName': 'TrainingProcess', 'stepType': 'Training', 'previousStepStatus': 'Starting', 'currentStepStatus': 'Failed', 'pipelineArn': 'arn:aws:sagemaker:us-east-1:419974056037:pipeline/dj-sm-imd-pipeline', 'pipelineExecutionArn': 'arn:aws:sagemaker:us-east-1:419974056037:pipeline/dj-sm-imd-pipeline/execution/x1xt2felyccl'}}"
   ]
  },
  {
   "cell_type": "code",
   "execution_count": 97,
   "id": "31fc68c0-98d6-4941-9bf5-6c3eca896281",
   "metadata": {
    "tags": []
   },
   "outputs": [],
   "source": [
    "strPipelineArn = aa[\"detail\"][\"pipelineArn\"]\n",
    "strStepName = aa[\"detail\"][\"stepName\"]\n",
    "strCurrentStepStatus = aa[\"detail\"][\"currentStepStatus\"]\n",
    "strFailReasion = aa[\"detail\"][\"failureReason\"]\n",
    "strEndTime = aa[\"detail\"][\"stepEndTime\"]"
   ]
  },
  {
   "cell_type": "code",
   "execution_count": 69,
   "id": "894927a9-6840-444e-8c31-b2568bde01f6",
   "metadata": {
    "tags": []
   },
   "outputs": [],
   "source": [
    "import pprint"
   ]
  },
  {
   "cell_type": "code",
   "execution_count": 71,
   "id": "f2bc0d90-672f-48c3-a8fc-5bf207d3613d",
   "metadata": {
    "tags": []
   },
   "outputs": [
    {
     "name": "stdout",
     "output_type": "stream",
     "text": [
      "{'account': '419974056037',\n",
      " 'detail': {'currentStepStatus': 'Failed',\n",
      "            'failureReason': 'ClientError: Failed to invoke '\n",
      "                             'sagemaker:CreateTrainingJob. Error Details: No '\n",
      "                             'S3 objects found under S3 URL '\n",
      "                             '\"s3://sagemaker-us-east-1-419974056037/dataset/train_.csv\" '\n",
      "                             'given in input data source. Please ensure that '\n",
      "                             'the bucket exists in the selected region '\n",
      "                             '(us-east-1), that objects exist under that S3 '\n",
      "                             'prefix, and that the role '\n",
      "                             '\"arn:aws:iam::419974056037:role/service-role/AmazonSageMaker-ExecutionRole-20221206T163436\" '\n",
      "                             'has \"s3:ListBucket\" permissions on bucket '\n",
      "                             '\"sagemaker-us-east-1-419974056037\".',\n",
      "            'metadata': {},\n",
      "            'pipelineArn': 'arn:aws:sagemaker:us-east-1:419974056037:pipeline/dj-sm-imd-pipeline',\n",
      "            'pipelineExecutionArn': 'arn:aws:sagemaker:us-east-1:419974056037:pipeline/dj-sm-imd-pipeline/execution/x1xt2felyccl',\n",
      "            'previousStepStatus': 'Starting',\n",
      "            'stepEndTime': '2023-05-04T15:31:33Z',\n",
      "            'stepName': 'TrainingProcess',\n",
      "            'stepStartTime': '2023-05-04T15:31:32Z',\n",
      "            'stepType': 'Training'},\n",
      " 'detail-type': 'SageMaker Model Building Pipeline Execution Step Status '\n",
      "                'Change',\n",
      " 'id': '317a4633-524f-2ac3-2cbb-f038c637920e',\n",
      " 'region': 'us-east-1',\n",
      " 'resources': ['arn:aws:sagemaker:us-east-1:419974056037:pipeline/dj-sm-imd-pipeline',\n",
      "               'arn:aws:sagemaker:us-east-1:419974056037:pipeline/dj-sm-imd-pipeline/execution/x1xt2felyccl'],\n",
      " 'source': 'aws.sagemaker',\n",
      " 'time': '2023-05-04T15:31:33Z',\n",
      " 'version': '0'}\n"
     ]
    }
   ],
   "source": [
    "pprint.pprint(aa)"
   ]
  },
  {
   "cell_type": "code",
   "execution_count": null,
   "id": "9481353e-670f-44f3-8339-07c4a0954cde",
   "metadata": {},
   "outputs": [],
   "source": []
  }
 ],
 "metadata": {
  "kernelspec": {
   "display_name": "conda_python3",
   "language": "python",
   "name": "conda_python3"
  },
  "language_info": {
   "codemirror_mode": {
    "name": "ipython",
    "version": 3
   },
   "file_extension": ".py",
   "mimetype": "text/x-python",
   "name": "python",
   "nbconvert_exporter": "python",
   "pygments_lexer": "ipython3",
   "version": "3.10.8"
  }
 },
 "nbformat": 4,
 "nbformat_minor": 5
}
