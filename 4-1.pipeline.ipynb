{
 "cells": [
  {
   "cell_type": "markdown",
   "id": "327dd0be-8ba8-43e5-b178-eb1db8d3d40a",
   "metadata": {
    "tags": []
   },
   "source": [
    "# <B> # SageMaker pipeline </B>\n",
    "* Container: codna_python3"
   ]
  },
  {
   "cell_type": "markdown",
   "id": "52ecd494-5ac0-4f66-a3cc-340e847e3c46",
   "metadata": {},
   "source": [
    "## AutoReload"
   ]
  },
  {
   "cell_type": "code",
   "execution_count": 11,
   "id": "c07a9ee3-c178-41b6-a212-2a33f65dc377",
   "metadata": {
    "tags": []
   },
   "outputs": [
    {
     "name": "stdout",
     "output_type": "stream",
     "text": [
      "The autoreload extension is already loaded. To reload it, use:\n",
      "  %reload_ext autoreload\n"
     ]
    }
   ],
   "source": [
    "%load_ext autoreload\n",
    "%autoreload 2"
   ]
  },
  {
   "cell_type": "markdown",
   "id": "044d087e-68b7-42f2-89a7-4f0a84345ed4",
   "metadata": {},
   "source": [
    "## 0. Install packages"
   ]
  },
  {
   "cell_type": "code",
   "execution_count": 2,
   "id": "cbbc26ef-076a-4962-a893-e7db013534cf",
   "metadata": {
    "tags": []
   },
   "outputs": [],
   "source": [
    "install_needed = False  # should only be True once\n",
    "# install_needed = False"
   ]
  },
  {
   "cell_type": "code",
   "execution_count": 3,
   "id": "49be1d23-7472-47f2-889e-48b92f48a183",
   "metadata": {
    "tags": []
   },
   "outputs": [
    {
     "name": "stdout",
     "output_type": "stream",
     "text": [
      "Already revised\n"
     ]
    }
   ],
   "source": [
    "%%bash\n",
    "#!/bin/bash\n",
    "\n",
    "DAEMON_PATH=\"/etc/docker\"\n",
    "MEMORY_SIZE=10G\n",
    "\n",
    "FLAG=$(cat $DAEMON_PATH/daemon.json | jq 'has(\"data-root\")')\n",
    "# echo $FLAG\n",
    "\n",
    "if [ \"$FLAG\" == true ]; then\n",
    "    echo \"Already revised\"\n",
    "else\n",
    "    echo \"Add data-root and default-shm-size=$MEMORY_SIZE\"\n",
    "    sudo cp $DAEMON_PATH/daemon.json $DAEMON_PATH/daemon.json.bak\n",
    "    sudo cat $DAEMON_PATH/daemon.json.bak | jq '. += {\"data-root\":\"/home/ec2-user/SageMaker/.container/docker\",\"default-shm-size\":\"'$MEMORY_SIZE'\"}' | sudo tee $DAEMON_PATH/daemon.json > /dev/null\n",
    "    sudo service docker restart\n",
    "    echo \"Docker Restart\"\n",
    "fi"
   ]
  },
  {
   "cell_type": "code",
   "execution_count": 4,
   "id": "fe9fe5bf-a8f8-4275-953f-0470438c4e80",
   "metadata": {
    "collapsed": true,
    "jupyter": {
     "outputs_hidden": true
    },
    "tags": []
   },
   "outputs": [
    {
     "name": "stdout",
     "output_type": "stream",
     "text": [
      "installing deps and restarting kernel\n",
      "Looking in indexes: https://pypi.org/simple, https://pip.repos.neuron.amazonaws.com\n",
      "Requirement already satisfied: pip in /home/ec2-user/anaconda3/envs/python3/lib/python3.10/site-packages (23.0.1)\n",
      "Looking in indexes: https://pypi.org/simple, https://pip.repos.neuron.amazonaws.com\n",
      "Requirement already satisfied: smdebug in /home/ec2-user/anaconda3/envs/python3/lib/python3.10/site-packages (1.0.12)\n",
      "Requirement already satisfied: sagemaker-experiments in /home/ec2-user/anaconda3/envs/python3/lib/python3.10/site-packages (0.1.43)\n",
      "Requirement already satisfied: protobuf>=3.6.0 in /home/ec2-user/anaconda3/envs/python3/lib/python3.10/site-packages (from smdebug) (3.20.3)\n",
      "Requirement already satisfied: boto3>=1.10.32 in /home/ec2-user/anaconda3/envs/python3/lib/python3.10/site-packages (from smdebug) (1.26.71)\n",
      "Requirement already satisfied: numpy>=1.16.0 in /home/ec2-user/anaconda3/envs/python3/lib/python3.10/site-packages (from smdebug) (1.22.3)\n",
      "Requirement already satisfied: packaging in /home/ec2-user/anaconda3/envs/python3/lib/python3.10/site-packages (from smdebug) (21.3)\n",
      "Requirement already satisfied: pyinstrument==3.4.2 in /home/ec2-user/anaconda3/envs/python3/lib/python3.10/site-packages (from smdebug) (3.4.2)\n",
      "Requirement already satisfied: pyinstrument-cext>=0.2.2 in /home/ec2-user/anaconda3/envs/python3/lib/python3.10/site-packages (from pyinstrument==3.4.2->smdebug) (0.2.4)\n",
      "Requirement already satisfied: botocore<1.30.0,>=1.29.71 in /home/ec2-user/anaconda3/envs/python3/lib/python3.10/site-packages (from boto3>=1.10.32->smdebug) (1.29.71)\n",
      "Requirement already satisfied: jmespath<2.0.0,>=0.7.1 in /home/ec2-user/anaconda3/envs/python3/lib/python3.10/site-packages (from boto3>=1.10.32->smdebug) (1.0.1)\n",
      "Requirement already satisfied: s3transfer<0.7.0,>=0.6.0 in /home/ec2-user/anaconda3/envs/python3/lib/python3.10/site-packages (from boto3>=1.10.32->smdebug) (0.6.0)\n",
      "Requirement already satisfied: pyparsing!=3.0.5,>=2.0.2 in /home/ec2-user/anaconda3/envs/python3/lib/python3.10/site-packages (from packaging->smdebug) (3.0.9)\n",
      "Requirement already satisfied: python-dateutil<3.0.0,>=2.1 in /home/ec2-user/anaconda3/envs/python3/lib/python3.10/site-packages (from botocore<1.30.0,>=1.29.71->boto3>=1.10.32->smdebug) (2.8.2)\n",
      "Requirement already satisfied: urllib3<1.27,>=1.25.4 in /home/ec2-user/anaconda3/envs/python3/lib/python3.10/site-packages (from botocore<1.30.0,>=1.29.71->boto3>=1.10.32->smdebug) (1.26.8)\n",
      "Requirement already satisfied: six>=1.5 in /home/ec2-user/anaconda3/envs/python3/lib/python3.10/site-packages (from python-dateutil<3.0.0,>=2.1->botocore<1.30.0,>=1.29.71->boto3>=1.10.32->smdebug) (1.16.0)\n",
      "Looking in indexes: https://pypi.org/simple, https://pip.repos.neuron.amazonaws.com\n",
      "Requirement already satisfied: sagemaker in /home/ec2-user/anaconda3/envs/python3/lib/python3.10/site-packages (2.145.0)\n",
      "Collecting sagemaker\n",
      "  Downloading sagemaker-2.146.0.tar.gz (718 kB)\n",
      "\u001b[2K     \u001b[90m━━━━━━━━━━━━━━━━━━━━━━━━━━━━━━━━━━━━━━\u001b[0m \u001b[32m718.5/718.5 kB\u001b[0m \u001b[31m27.0 MB/s\u001b[0m eta \u001b[36m0:00:00\u001b[0m\n",
      "\u001b[?25h  Preparing metadata (setup.py) ... \u001b[?25ldone\n",
      "\u001b[?25hRequirement already satisfied: attrs<23,>=20.3.0 in /home/ec2-user/anaconda3/envs/python3/lib/python3.10/site-packages (from sagemaker) (22.2.0)\n",
      "Requirement already satisfied: boto3<2.0,>=1.26.28 in /home/ec2-user/anaconda3/envs/python3/lib/python3.10/site-packages (from sagemaker) (1.26.71)\n",
      "Requirement already satisfied: google-pasta in /home/ec2-user/anaconda3/envs/python3/lib/python3.10/site-packages (from sagemaker) (0.2.0)\n",
      "Requirement already satisfied: numpy<2.0,>=1.9.0 in /home/ec2-user/anaconda3/envs/python3/lib/python3.10/site-packages (from sagemaker) (1.22.3)\n",
      "Requirement already satisfied: protobuf<4.0,>=3.1 in /home/ec2-user/anaconda3/envs/python3/lib/python3.10/site-packages (from sagemaker) (3.20.3)\n",
      "Requirement already satisfied: protobuf3-to-dict<1.0,>=0.1.5 in /home/ec2-user/anaconda3/envs/python3/lib/python3.10/site-packages (from sagemaker) (0.1.5)\n",
      "Requirement already satisfied: smdebug_rulesconfig==1.0.1 in /home/ec2-user/anaconda3/envs/python3/lib/python3.10/site-packages (from sagemaker) (1.0.1)\n",
      "Requirement already satisfied: importlib-metadata<5.0,>=1.4.0 in /home/ec2-user/anaconda3/envs/python3/lib/python3.10/site-packages (from sagemaker) (4.13.0)\n",
      "Requirement already satisfied: packaging>=20.0 in /home/ec2-user/anaconda3/envs/python3/lib/python3.10/site-packages (from sagemaker) (21.3)\n",
      "Requirement already satisfied: pandas in /home/ec2-user/anaconda3/envs/python3/lib/python3.10/site-packages (from sagemaker) (1.5.2)\n",
      "Requirement already satisfied: pathos in /home/ec2-user/anaconda3/envs/python3/lib/python3.10/site-packages (from sagemaker) (0.3.0)\n",
      "Requirement already satisfied: schema in /home/ec2-user/anaconda3/envs/python3/lib/python3.10/site-packages (from sagemaker) (0.7.5)\n",
      "Requirement already satisfied: PyYAML==5.4.1 in /home/ec2-user/anaconda3/envs/python3/lib/python3.10/site-packages (from sagemaker) (5.4.1)\n",
      "Requirement already satisfied: jsonschema in /home/ec2-user/anaconda3/envs/python3/lib/python3.10/site-packages (from sagemaker) (3.2.0)\n",
      "Requirement already satisfied: platformdirs in /home/ec2-user/anaconda3/envs/python3/lib/python3.10/site-packages (from sagemaker) (2.6.2)\n",
      "Requirement already satisfied: s3transfer<0.7.0,>=0.6.0 in /home/ec2-user/anaconda3/envs/python3/lib/python3.10/site-packages (from boto3<2.0,>=1.26.28->sagemaker) (0.6.0)\n",
      "Requirement already satisfied: jmespath<2.0.0,>=0.7.1 in /home/ec2-user/anaconda3/envs/python3/lib/python3.10/site-packages (from boto3<2.0,>=1.26.28->sagemaker) (1.0.1)\n",
      "Requirement already satisfied: botocore<1.30.0,>=1.29.71 in /home/ec2-user/anaconda3/envs/python3/lib/python3.10/site-packages (from boto3<2.0,>=1.26.28->sagemaker) (1.29.71)\n",
      "Requirement already satisfied: zipp>=0.5 in /home/ec2-user/anaconda3/envs/python3/lib/python3.10/site-packages (from importlib-metadata<5.0,>=1.4.0->sagemaker) (3.11.0)\n",
      "Requirement already satisfied: pyparsing!=3.0.5,>=2.0.2 in /home/ec2-user/anaconda3/envs/python3/lib/python3.10/site-packages (from packaging>=20.0->sagemaker) (3.0.9)\n",
      "Requirement already satisfied: six in /home/ec2-user/anaconda3/envs/python3/lib/python3.10/site-packages (from protobuf3-to-dict<1.0,>=0.1.5->sagemaker) (1.16.0)\n",
      "Requirement already satisfied: pyrsistent>=0.14.0 in /home/ec2-user/anaconda3/envs/python3/lib/python3.10/site-packages (from jsonschema->sagemaker) (0.19.3)\n",
      "Requirement already satisfied: setuptools in /home/ec2-user/anaconda3/envs/python3/lib/python3.10/site-packages (from jsonschema->sagemaker) (65.6.3)\n",
      "Requirement already satisfied: python-dateutil>=2.8.1 in /home/ec2-user/anaconda3/envs/python3/lib/python3.10/site-packages (from pandas->sagemaker) (2.8.2)\n",
      "Requirement already satisfied: pytz>=2020.1 in /home/ec2-user/anaconda3/envs/python3/lib/python3.10/site-packages (from pandas->sagemaker) (2022.7)\n",
      "Requirement already satisfied: dill>=0.3.6 in /home/ec2-user/anaconda3/envs/python3/lib/python3.10/site-packages (from pathos->sagemaker) (0.3.6)\n",
      "Requirement already satisfied: pox>=0.3.2 in /home/ec2-user/anaconda3/envs/python3/lib/python3.10/site-packages (from pathos->sagemaker) (0.3.2)\n",
      "Requirement already satisfied: multiprocess>=0.70.14 in /home/ec2-user/anaconda3/envs/python3/lib/python3.10/site-packages (from pathos->sagemaker) (0.70.14)\n",
      "Requirement already satisfied: ppft>=1.7.6.6 in /home/ec2-user/anaconda3/envs/python3/lib/python3.10/site-packages (from pathos->sagemaker) (1.7.6.6)\n",
      "Requirement already satisfied: contextlib2>=0.5.5 in /home/ec2-user/anaconda3/envs/python3/lib/python3.10/site-packages (from schema->sagemaker) (21.6.0)\n",
      "Requirement already satisfied: urllib3<1.27,>=1.25.4 in /home/ec2-user/anaconda3/envs/python3/lib/python3.10/site-packages (from botocore<1.30.0,>=1.29.71->boto3<2.0,>=1.26.28->sagemaker) (1.26.8)\n",
      "Building wheels for collected packages: sagemaker\n",
      "  Building wheel for sagemaker (setup.py) ... \u001b[?25ldone\n",
      "\u001b[?25h  Created wheel for sagemaker: filename=sagemaker-2.146.0-py2.py3-none-any.whl size=964936 sha256=d3a9669420018e3c5e20828dddd14289133eb66b2cdc3c6309016c0923d44bc4\n",
      "  Stored in directory: /home/ec2-user/.cache/pip/wheels/3a/04/13/2066fc4ef9ed243c9e8710b9c269f29e7711bca655da2eb416\n",
      "Successfully built sagemaker\n",
      "Installing collected packages: sagemaker\n",
      "  Attempting uninstall: sagemaker\n",
      "    Found existing installation: sagemaker 2.145.0\n",
      "    Uninstalling sagemaker-2.145.0:\n",
      "      Successfully uninstalled sagemaker-2.145.0\n",
      "Successfully installed sagemaker-2.146.0\n",
      "Looking in indexes: https://pypi.org/simple, https://pip.repos.neuron.amazonaws.com\n",
      "Requirement already satisfied: xgboost==1.3.1 in /home/ec2-user/anaconda3/envs/python3/lib/python3.10/site-packages (1.3.1)\n",
      "Requirement already satisfied: scipy in /home/ec2-user/anaconda3/envs/python3/lib/python3.10/site-packages (from xgboost==1.3.1) (1.10.0)\n",
      "Requirement already satisfied: numpy in /home/ec2-user/anaconda3/envs/python3/lib/python3.10/site-packages (from xgboost==1.3.1) (1.22.3)\n"
     ]
    }
   ],
   "source": [
    "import sys\n",
    "import IPython\n",
    "\n",
    "if install_needed:\n",
    "    print(\"installing deps and restarting kernel\")\n",
    "    !{sys.executable} -m pip install -U pip\n",
    "    !{sys.executable} -m pip install -U smdebug sagemaker-experiments\n",
    "    !{sys.executable} -m pip install -U sagemaker\n",
    "\n",
    "    IPython.Application.instance().kernel.do_shutdown(True)"
   ]
  },
  {
   "cell_type": "markdown",
   "id": "bccc9dda-9dad-4f81-8dd5-53b5623f1d93",
   "metadata": {
    "tags": []
   },
   "source": [
    "## 1. parameter store 설정"
   ]
  },
  {
   "cell_type": "code",
   "execution_count": 12,
   "id": "1d6e737a-557b-44c7-a5c2-f6798bf0c430",
   "metadata": {
    "tags": []
   },
   "outputs": [],
   "source": [
    "import boto3\n",
    "from utils.ssm import parameter_store"
   ]
  },
  {
   "cell_type": "code",
   "execution_count": 13,
   "id": "3f9894a8-4249-4fcc-9b44-d5f43f4fd867",
   "metadata": {
    "tags": []
   },
   "outputs": [],
   "source": [
    "strRegionName=boto3.Session().region_name\n",
    "pm = parameter_store(strRegionName)\n",
    "strPrefix = pm.get_params(key=\"PREFIX\")"
   ]
  },
  {
   "cell_type": "code",
   "execution_count": 14,
   "id": "6fe3068d-8afa-4cdd-a13e-ba2db61ed822",
   "metadata": {
    "tags": []
   },
   "outputs": [],
   "source": [
    "strBucketName = pm.get_params(key=\"-\".join([strPrefix, \"BUCKET\"]))\n",
    "strExecutionRole = pm.get_params(key=\"-\".join([strPrefix, \"SAGEMAKER-ROLE-ARN\"]))"
   ]
  },
  {
   "cell_type": "markdown",
   "id": "968b6452-fb2f-4ed9-aae9-55e310d567ba",
   "metadata": {},
   "source": [
    "## 2. Dataset"
   ]
  },
  {
   "cell_type": "code",
   "execution_count": 15,
   "id": "e227473a-2ddc-48aa-bc76-4ba310454749",
   "metadata": {
    "tags": []
   },
   "outputs": [],
   "source": [
    "import os"
   ]
  },
  {
   "cell_type": "code",
   "execution_count": 16,
   "id": "aaecc942-d54d-44d0-8552-ec183e833bf2",
   "metadata": {
    "tags": []
   },
   "outputs": [],
   "source": [
    "strS3DataPath = f\"s3://{strBucketName}/dataset\" \n",
    "strLocalDataPath = os.path.join(os.getcwd(), \"data\")"
   ]
  },
  {
   "cell_type": "markdown",
   "id": "c0674243-6019-4e5e-8563-2fd17ca8ae95",
   "metadata": {
    "tags": []
   },
   "source": [
    "## 3. MLOps pipeline\n",
    "* pipeline:\n",
    "    * https://sagemaker.readthedocs.io/en/stable/amazon_sagemaker_model_building_pipeline.html#id2 \n",
    "    * [Amazon SageMaker 모델 구축 파이프라인](https://docs.aws.amazon.com/ko_kr/sagemaker/latest/dg/pipelines.html)\n",
    "    "
   ]
  },
  {
   "cell_type": "code",
   "execution_count": 17,
   "id": "8961f686-20e3-4d4f-ba90-69daef99f0f3",
   "metadata": {
    "tags": []
   },
   "outputs": [],
   "source": [
    "import os\n",
    "import time\n",
    "import sagemaker\n",
    "from sagemaker.inputs import TrainingInput\n",
    "from sagemaker.xgboost.estimator import XGBoost\n",
    "from sagemaker.workflow.pipeline import Pipeline\n",
    "from sagemaker.workflow.properties import PropertyFile\n",
    "from sagemaker.processing import ProcessingInput, ProcessingOutput, FrameworkProcessor\n",
    "from sagemaker.workflow.steps import CacheConfig, ProcessingStep, TrainingStep\n",
    "from sagemaker.workflow.pipeline_context import PipelineSession, LocalPipelineSession\n",
    "from sagemaker.workflow.retry import StepRetryPolicy, StepExceptionTypeEnum, SageMakerJobExceptionTypeEnum, SageMakerJobStepRetryPolicy"
   ]
  },
  {
   "cell_type": "code",
   "execution_count": 32,
   "id": "3cf32479-0199-4e3d-a938-f3c9f9e8e803",
   "metadata": {
    "tags": []
   },
   "outputs": [],
   "source": [
    "class pipeline():\n",
    "\n",
    "    def __init__(self, strPipelineName):\n",
    "\n",
    "        self.strRegionName = boto3.Session().region_name\n",
    "        self.pm = parameter_store(self.strRegionName)\n",
    "        self.strPrefix = self.pm.get_params(key=\"PREFIX\")\n",
    "        \n",
    "        self.strExecutionRole = self.pm.get_params(key=\"-\".join([self.strPrefix, \"SAGEMAKER-ROLE-ARN\"]))\n",
    "        self.strBucketName = self.pm.get_params(key=\"-\".join([self.strPrefix, \"BUCKET\"]))\n",
    "        self.strPipelineName = strPipelineName\n",
    "        \n",
    "        self.pipeline_session = PipelineSession()\n",
    "        self.strDataPath = f\"s3://{self.strBucketName}/dataset\" \n",
    "        self.cache_config = CacheConfig(\n",
    "            enable_caching=True,\n",
    "            expire_after=\"T48H\"\n",
    "        )\n",
    "        \n",
    "        self.retry_policies=[                \n",
    "            # retry when resource limit quota gets exceeded\n",
    "            SageMakerJobStepRetryPolicy(\n",
    "                exception_types=[SageMakerJobExceptionTypeEnum.RESOURCE_LIMIT],\n",
    "                expire_after_mins=180,\n",
    "                interval_seconds=60,\n",
    "                backoff_rate=1.0\n",
    "            ),\n",
    "        ]\n",
    "        \n",
    "        self.pm.put_params(key=\"-\".join([self.strPrefix, \"PIPELINE-NAME\"]), value=self.strPipelineName, overwrite=True)\n",
    "        \n",
    "    def _step_training(self, ):\n",
    "        \n",
    "        strInstanceType = \"ml.m5.2xlarge\"\n",
    "        nInstanceCount = 1\n",
    "        bSpotTraining = False\n",
    "        \n",
    "        dicDataChannels = {\n",
    "            \"training\": os.path.join(self.strDataPath, \"train_.csv\"),\n",
    "            \"testing\": os.path.join(self.strDataPath, \"test.csv\"),\n",
    "        }\n",
    "        \n",
    "        if bSpotTraining:\n",
    "            nMaxWait = 1*60*60\n",
    "            nMaxRun = 1*60*60\n",
    "        else:\n",
    "            nMaxWait = None\n",
    "            nMaxRun = 1*60*60\n",
    "    \n",
    "        strOutputPath = os.path.join(\n",
    "            \"s3://{}\".format(self.strBucketName),\n",
    "            self.strPipelineName,\n",
    "            \"training\",\n",
    "            \"model-output\"\n",
    "        )\n",
    "\n",
    "        strCodeLocation = os.path.join(\n",
    "            \"s3://{}\".format(self.strBucketName),\n",
    "            self.strPipelineName,\n",
    "            \"training\",\n",
    "            \"backup_codes\"\n",
    "        )\n",
    "        \n",
    "        dicHyperparameters = {\n",
    "            \"scale_pos_weight\" : \"19\",    \n",
    "            \"max_depth\": \"2\",\n",
    "            \"eta\": \"0.3\",\n",
    "            \"objective\": \"binary:logistic\",\n",
    "            \"num_round\": \"100\",\n",
    "        }\n",
    "        \n",
    "        self.estimator = XGBoost(\n",
    "            entry_point=\"xgboost_starter_script.py\",\n",
    "            source_dir=\"source/train/\",\n",
    "            output_path=strOutputPath,\n",
    "            code_location=strCodeLocation,\n",
    "            hyperparameters=dicHyperparameters, ## Contatiner내 env. variable로 들어 감\n",
    "            role=self.strExecutionRole,\n",
    "            instance_count=nInstanceCount,\n",
    "            instance_type=strInstanceType,\n",
    "            framework_version=\"1.3-1\",\n",
    "            max_run=nMaxRun,\n",
    "            use_spot_instances=bSpotTraining,\n",
    "            max_wait=nMaxWait,\n",
    "            #keep_alive_period_in_seconds=nKeepAliveSeconds,\n",
    "            enable_sagemaker_metrics=True,\n",
    "            volume_size=64, ## GB\n",
    "            \n",
    "            sagemaker_session=self.pipeline_session\n",
    "            \n",
    "        )\n",
    "        \n",
    "        job_name = \"-\".join([self.strPipelineName, \"training-job\"])\n",
    "        step_training_args = self.estimator.fit(\n",
    "            inputs=dicDataChannels,\n",
    "            job_name=job_name,\n",
    "            experiment_config={\n",
    "              'TrialName': job_name,\n",
    "              'TrialComponentDisplayName': job_name,\n",
    "            },\n",
    "            logs=\"All\",\n",
    "        )\n",
    "        \n",
    "        self.training_process = TrainingStep(\n",
    "            name=\"TrainingProcess\",\n",
    "            step_args=step_training_args,\n",
    "            cache_config=self.cache_config,\n",
    "            retry_policies=self.retry_policies\n",
    "        )\n",
    "            \n",
    "        print (\"  \\n== Training Step ==\")\n",
    "        print (\"   \\nArgs: \", self.training_process.arguments.items())   \n",
    "        \n",
    "    \n",
    "    def _step_evaluation(self, ):\n",
    "        \n",
    "        strInstanceType = \"ml.m5.2xlarge\"\n",
    "        nInstanceCount = 1\n",
    "        \n",
    "        strProcPrefixPath = \"/opt/ml/processing\"\n",
    "        strTestDataPath = os.path.join(self.strDataPath, \"test.csv\")\n",
    "        \n",
    "        strOutputPath = os.path.join(\n",
    "            \"s3://{}\".format(self.strBucketName),\n",
    "            self.strPipelineName,\n",
    "            \"evaluation\",\n",
    "            \"output\"\n",
    "        )\n",
    "\n",
    "        strCodeLocation = os.path.join(\n",
    "            \"s3://{}\".format(self.strBucketName),\n",
    "            self.strPipelineName,\n",
    "            \"evaluation\",\n",
    "            \"backup_codes\"\n",
    "        )\n",
    "        \n",
    "        evaluation_processor = FrameworkProcessor(\n",
    "            estimator_cls=XGBoost,\n",
    "            framework_version=\"1.3-1\",\n",
    "            image_uri=None,\n",
    "            role=self.strExecutionRole,\n",
    "            instance_type=strInstanceType,\n",
    "            instance_count=nInstanceCount,\n",
    "            base_job_name=\"evaluation\", # bucket에 보이는 이름 (pipeline으로 묶으면 pipeline에서 정의한 이름으로 bucket에 보임)\n",
    "            \n",
    "            sagemaker_session=self.pipeline_session\n",
    "        )\n",
    "        \n",
    "        step_evaluation_args = evaluation_processor.run(\n",
    "            code=\"evaluation.py\",\n",
    "            source_dir=\"source/evaluation/\",\n",
    "            inputs=[\n",
    "                ProcessingInput(\n",
    "                    source=strTestDataPath,\n",
    "                    input_name=\"test_data\",\n",
    "                    destination=os.path.join(strProcPrefixPath, \"test\")\n",
    "                ),\n",
    "                ProcessingInput(\n",
    "                    source=self.training_process.properties.ModelArtifacts.S3ModelArtifacts,\n",
    "                    input_name=\"model_weight\",\n",
    "                    destination=os.path.join(strProcPrefixPath, \"model\")\n",
    "                )\n",
    "            ],\n",
    "            outputs=[\n",
    "                ProcessingOutput(\n",
    "                    source=os.path.join(strProcPrefixPath, \"output\"),\n",
    "                    output_name='evaluation',\n",
    "                    destination=strOutputPath,\n",
    "                )\n",
    "            ],\n",
    "        )\n",
    "        \n",
    "        self.evaluation_report = PropertyFile(\n",
    "            name=\"EvaluationReport\",\n",
    "            output_name=\"evaluation\", ## evaluation의 ProcessingOutput의 output_name\n",
    "            path=\"evaluation.json\", ## evaluate.py 에서 write하는 부분\n",
    "        )\n",
    "        \n",
    "        self.evaluation_process = ProcessingStep(\n",
    "            name=\"EvaluationProcess\", ## Processing job이름\n",
    "            step_args=step_evaluation_args,\n",
    "            depends_on=[self.training_process],\n",
    "            property_files=[self.evaluation_report],\n",
    "            cache_config=self.cache_config,\n",
    "            retry_policies=self.retry_policies\n",
    "        )\n",
    "    \n",
    "        print (\"  \\n== Evaluation Step ==\")\n",
    "        print (\"   \\nArgs: \", self.evaluation_process.arguments.items())\n",
    "        \n",
    "    \n",
    "    def _step_deploy(self, ):\n",
    "        \n",
    "        strInstanceType = \"ml.m5.2xlarge\"\n",
    "        nInstanceCount = 1\n",
    "        strEndpointName = f'endpoint--{self.strPipelineName}-{int(time.time())}'\n",
    "        strProcPrefixPath = \"/opt/ml/processing\"\n",
    "        \n",
    "        deploy_processor = FrameworkProcessor(\n",
    "            estimator_cls=XGBoost,\n",
    "            framework_version=\"1.3-1\",\n",
    "            image_uri=None,\n",
    "            role=self.strExecutionRole,\n",
    "            instance_type=strInstanceType,\n",
    "            instance_count=nInstanceCount,\n",
    "            base_job_name=\"deploy\", # bucket에 보이는 이름 (pipeline으로 묶으면 pipeline에서 정의한 이름으로 bucket에 보임)\n",
    "            sagemaker_session=self.pipeline_session\n",
    "        )\n",
    "        \n",
    "        step_deploy_args = deploy_processor.run(\n",
    "            code=\"deploy.py\",\n",
    "            source_dir=\"source/deploy/\",\n",
    "            inputs=[\n",
    "                ProcessingInput(\n",
    "                    source=\"source/deploy/inference.py\",\n",
    "                    input_name=\"inference-py\",\n",
    "                    destination=os.path.join(strProcPrefixPath, \"inference\")\n",
    "                ),\n",
    "                ProcessingInput(\n",
    "                    source=\"source/deploy/requirements.txt\",\n",
    "                    input_name=\"requirements-txt\",\n",
    "                    destination=os.path.join(strProcPrefixPath, \"requirements\")\n",
    "                ),\n",
    "            ],\n",
    "            arguments=[\n",
    "                \"--prefix_deploy\", strProcPrefixPath, \\\n",
    "                \"--region\", self.strRegionName, \\\n",
    "                \"--instance_type\", strInstanceType, \\\n",
    "                \"--model_data\", self.training_process.properties.ModelArtifacts.S3ModelArtifacts, \\\n",
    "                \"--endpoint_name\", strEndpointName, \\\n",
    "                \"--execution_role\", self.strExecutionRole, \\\n",
    "            ],\n",
    "            job_name=\"deploy\",\n",
    "        )\n",
    "        \n",
    "        self.pm.put_params(key=self.strPrefix + \"-ENDPOINT-NAME\", value=strEndpointName, overwrite=True)\n",
    "        \n",
    "        self.deploy_process = ProcessingStep(\n",
    "            name=\"DeployProcess\", ## Processing job이름\n",
    "            step_args=step_deploy_args,\n",
    "            depends_on=[self.evaluation_process],\n",
    "            cache_config=self.cache_config,\n",
    "            retry_policies=self.retry_policies\n",
    "        )\n",
    "        \n",
    "        print (\"  \\n== Deploy Step ==\")\n",
    "        print (\"   \\nArgs: \", self.deploy_process.arguments.items())\n",
    "    \n",
    "    def _get_pipeline(self, ):\n",
    "        \n",
    "        pipeline = Pipeline(\n",
    "            name=self.strPipelineName,\n",
    "            steps=[self.training_process, self.evaluation_process, self.deploy_process],\n",
    "            sagemaker_session=self.pipeline_session\n",
    "        )\n",
    "\n",
    "        return pipeline\n",
    "                      \n",
    "    def execution(self, ):\n",
    "    \n",
    "        self._step_training()\n",
    "        self._step_evaluation()\n",
    "        self._step_deploy()\n",
    "        \n",
    "        pipeline = self._get_pipeline()\n",
    "        pipeline.upsert(role_arn=self.strExecutionRole) ## Submit the pipeline definition to the SageMaker Pipelines service \n",
    "        execution = pipeline.start()\n",
    "        \n",
    "        desc = execution.describe()\n",
    "        pm.put_params(\n",
    "            key=\"-\".join([strPrefix, \"PIPELINE-ARN\"]),\n",
    "            value=desc[\"PipelineArn\"],\n",
    "            overwrite=True\n",
    "        )\n",
    "        print (execution.describe())\n",
    "     "
   ]
  },
  {
   "cell_type": "code",
   "execution_count": 33,
   "id": "0270236b-59f0-4524-8f0c-8cc77b6b8eee",
   "metadata": {
    "tags": []
   },
   "outputs": [
    {
     "name": "stderr",
     "output_type": "stream",
     "text": [
      "INFO:sagemaker.image_uris:Ignoring unnecessary Python version: py3.\n",
      "INFO:sagemaker.image_uris:Ignoring unnecessary instance type: ml.m5.2xlarge.\n",
      "INFO:sagemaker.image_uris:Ignoring unnecessary Python version: py3.\n",
      "INFO:sagemaker.image_uris:Ignoring unnecessary instance type: ml.m5.2xlarge.\n"
     ]
    },
    {
     "name": "stdout",
     "output_type": "stream",
     "text": [
      "  \n",
      "== Training Step ==\n",
      "   \n",
      "Args:  dict_items([('AlgorithmSpecification', {'TrainingInputMode': 'File', 'TrainingImage': '683313688378.dkr.ecr.us-east-1.amazonaws.com/sagemaker-xgboost:1.3-1', 'EnableSageMakerMetricsTimeSeries': True}), ('OutputDataConfig', {'S3OutputPath': 's3://sagemaker-us-east-1-419974056037/DJ-SM-IMD-PIPELINE/training/model-output'}), ('StoppingCondition', {'MaxRuntimeInSeconds': 3600}), ('ResourceConfig', {'VolumeSizeInGB': 64, 'InstanceCount': 1, 'InstanceType': 'ml.m5.2xlarge'}), ('RoleArn', 'arn:aws:iam::419974056037:role/service-role/AmazonSageMaker-ExecutionRole-20221206T163436'), ('InputDataConfig', [{'DataSource': {'S3DataSource': {'S3DataType': 'S3Prefix', 'S3Uri': 's3://sagemaker-us-east-1-419974056037/dataset/train_.csv', 'S3DataDistributionType': 'FullyReplicated'}}, 'ChannelName': 'training'}, {'DataSource': {'S3DataSource': {'S3DataType': 'S3Prefix', 'S3Uri': 's3://sagemaker-us-east-1-419974056037/dataset/test.csv', 'S3DataDistributionType': 'FullyReplicated'}}, 'ChannelName': 'testing'}]), ('HyperParameters', {'scale_pos_weight': '\"19\"', 'max_depth': '\"2\"', 'eta': '\"0.3\"', 'objective': '\"binary:logistic\"', 'num_round': '\"100\"', 'sagemaker_submit_directory': '\"s3://sagemaker-us-east-1-419974056037/DJ-SM-IMD-PIPELINE/training/backup_codes/DJ-SM-IMD-PIPELINE-training-job/source/sourcedir.tar.gz\"', 'sagemaker_program': '\"xgboost_starter_script.py\"', 'sagemaker_container_log_level': '20', 'sagemaker_region': '\"us-east-1\"'}), ('ExperimentConfig', {'TrialComponentDisplayName': 'DJ-SM-IMD-PIPELINE-training-job'}), ('DebugHookConfig', {'S3OutputPath': 's3://sagemaker-us-east-1-419974056037/DJ-SM-IMD-PIPELINE/training/model-output', 'CollectionConfigurations': []}), ('ProfilerConfig', {'S3OutputPath': 's3://sagemaker-us-east-1-419974056037/DJ-SM-IMD-PIPELINE/training/model-output', 'DisableProfiler': False})])\n",
      "  \n",
      "== Evaluation Step ==\n"
     ]
    },
    {
     "name": "stderr",
     "output_type": "stream",
     "text": [
      "INFO:sagemaker.processing:Uploaded source/evaluation/ to s3://sagemaker-us-east-1-419974056037/evaluation-2023-05-04-15-46-30-298/source/sourcedir.tar.gz\n",
      "INFO:sagemaker.processing:runproc.sh uploaded to s3://sagemaker-us-east-1-419974056037/evaluation-2023-05-04-15-46-30-298/source/runproc.sh\n",
      "INFO:sagemaker.image_uris:Ignoring unnecessary Python version: py3.\n",
      "INFO:sagemaker.image_uris:Ignoring unnecessary instance type: ml.m5.2xlarge.\n"
     ]
    },
    {
     "name": "stdout",
     "output_type": "stream",
     "text": [
      "   \n",
      "Args:  dict_items([('ProcessingResources', {'ClusterConfig': {'InstanceType': 'ml.m5.2xlarge', 'InstanceCount': 1, 'VolumeSizeInGB': 30}}), ('AppSpecification', {'ImageUri': '683313688378.dkr.ecr.us-east-1.amazonaws.com/sagemaker-xgboost:1.3-1', 'ContainerEntrypoint': ['/bin/bash', '/opt/ml/processing/input/entrypoint/runproc.sh']}), ('RoleArn', 'arn:aws:iam::419974056037:role/service-role/AmazonSageMaker-ExecutionRole-20221206T163436'), ('ProcessingInputs', [{'InputName': 'test_data', 'AppManaged': False, 'S3Input': {'S3Uri': 's3://sagemaker-us-east-1-419974056037/dataset/test.csv', 'LocalPath': '/opt/ml/processing/test', 'S3DataType': 'S3Prefix', 'S3InputMode': 'File', 'S3DataDistributionType': 'FullyReplicated', 'S3CompressionType': 'None'}}, {'InputName': 'model_weight', 'AppManaged': False, 'S3Input': {'S3Uri': <sagemaker.workflow.properties.Properties object at 0x7f4bb3fdcb50>, 'LocalPath': '/opt/ml/processing/model', 'S3DataType': 'S3Prefix', 'S3InputMode': 'File', 'S3DataDistributionType': 'FullyReplicated', 'S3CompressionType': 'None'}}, {'InputName': 'code', 'AppManaged': False, 'S3Input': {'S3Uri': 's3://sagemaker-us-east-1-419974056037/evaluation-2023-05-04-15-46-30-298/source/sourcedir.tar.gz', 'LocalPath': '/opt/ml/processing/input/code/', 'S3DataType': 'S3Prefix', 'S3InputMode': 'File', 'S3DataDistributionType': 'FullyReplicated', 'S3CompressionType': 'None'}}, {'InputName': 'entrypoint', 'AppManaged': False, 'S3Input': {'S3Uri': 's3://sagemaker-us-east-1-419974056037/evaluation-2023-05-04-15-46-30-298/source/runproc.sh', 'LocalPath': '/opt/ml/processing/input/entrypoint', 'S3DataType': 'S3Prefix', 'S3InputMode': 'File', 'S3DataDistributionType': 'FullyReplicated', 'S3CompressionType': 'None'}}]), ('ProcessingOutputConfig', {'Outputs': [{'OutputName': 'evaluation', 'AppManaged': False, 'S3Output': {'S3Uri': 's3://sagemaker-us-east-1-419974056037/DJ-SM-IMD-PIPELINE/evaluation/output', 'LocalPath': '/opt/ml/processing/output', 'S3UploadMode': 'EndOfJob'}}]})])\n"
     ]
    },
    {
     "name": "stderr",
     "output_type": "stream",
     "text": [
      "INFO:sagemaker.processing:Uploaded source/deploy/ to s3://sagemaker-us-east-1-419974056037/deploy/source/sourcedir.tar.gz\n"
     ]
    },
    {
     "name": "stdout",
     "output_type": "stream",
     "text": [
      "  \n",
      "== Deploy Step ==\n"
     ]
    },
    {
     "name": "stderr",
     "output_type": "stream",
     "text": [
      "INFO:sagemaker.processing:runproc.sh uploaded to s3://sagemaker-us-east-1-419974056037/deploy/source/runproc.sh\n"
     ]
    },
    {
     "name": "stdout",
     "output_type": "stream",
     "text": [
      "   \n",
      "Args:  dict_items([('ProcessingResources', {'ClusterConfig': {'InstanceType': 'ml.m5.2xlarge', 'InstanceCount': 1, 'VolumeSizeInGB': 30}}), ('AppSpecification', {'ImageUri': '683313688378.dkr.ecr.us-east-1.amazonaws.com/sagemaker-xgboost:1.3-1', 'ContainerArguments': ['--prefix_deploy', '/opt/ml/processing', '--region', 'us-east-1', '--instance_type', 'ml.m5.2xlarge', '--model_data', <sagemaker.workflow.properties.Properties object at 0x7f4bb3fdcb50>, '--endpoint_name', 'endpoint--DJ-SM-IMD-PIPELINE-1683215190', '--execution_role', 'arn:aws:iam::419974056037:role/service-role/AmazonSageMaker-ExecutionRole-20221206T163436'], 'ContainerEntrypoint': ['/bin/bash', '/opt/ml/processing/input/entrypoint/runproc.sh']}), ('RoleArn', 'arn:aws:iam::419974056037:role/service-role/AmazonSageMaker-ExecutionRole-20221206T163436'), ('ProcessingInputs', [{'InputName': 'inference-py', 'AppManaged': False, 'S3Input': {'S3Uri': 's3://sagemaker-us-east-1-419974056037/deploy/input/inference-py/inference.py', 'LocalPath': '/opt/ml/processing/inference', 'S3DataType': 'S3Prefix', 'S3InputMode': 'File', 'S3DataDistributionType': 'FullyReplicated', 'S3CompressionType': 'None'}}, {'InputName': 'requirements-txt', 'AppManaged': False, 'S3Input': {'S3Uri': 's3://sagemaker-us-east-1-419974056037/deploy/input/requirements-txt/requirements.txt', 'LocalPath': '/opt/ml/processing/requirements', 'S3DataType': 'S3Prefix', 'S3InputMode': 'File', 'S3DataDistributionType': 'FullyReplicated', 'S3CompressionType': 'None'}}, {'InputName': 'code', 'AppManaged': False, 'S3Input': {'S3Uri': 's3://sagemaker-us-east-1-419974056037/deploy/source/sourcedir.tar.gz', 'LocalPath': '/opt/ml/processing/input/code/', 'S3DataType': 'S3Prefix', 'S3InputMode': 'File', 'S3DataDistributionType': 'FullyReplicated', 'S3CompressionType': 'None'}}, {'InputName': 'entrypoint', 'AppManaged': False, 'S3Input': {'S3Uri': 's3://sagemaker-us-east-1-419974056037/deploy/source/runproc.sh', 'LocalPath': '/opt/ml/processing/input/entrypoint', 'S3DataType': 'S3Prefix', 'S3InputMode': 'File', 'S3DataDistributionType': 'FullyReplicated', 'S3CompressionType': 'None'}}])])\n"
     ]
    },
    {
     "name": "stderr",
     "output_type": "stream",
     "text": [
      "INFO:sagemaker.processing:Uploaded source/evaluation/ to s3://sagemaker-us-east-1-419974056037/DJ-SM-IMD-PIPELINE/code/0e7bf581858560b392b8bc18209c4aaf/sourcedir.tar.gz\n",
      "INFO:sagemaker.processing:runproc.sh uploaded to s3://sagemaker-us-east-1-419974056037/DJ-SM-IMD-PIPELINE/code/2c207c809cb0e0e9a1d77e5247f961f9/runproc.sh\n",
      "INFO:sagemaker.processing:Uploaded source/deploy/ to s3://sagemaker-us-east-1-419974056037/DJ-SM-IMD-PIPELINE/code/aeadf6a9077978739a1abd63ee2f9113/sourcedir.tar.gz\n",
      "INFO:sagemaker.processing:runproc.sh uploaded to s3://sagemaker-us-east-1-419974056037/DJ-SM-IMD-PIPELINE/code/be2cbd35f419f747dca87a487b64f344/runproc.sh\n",
      "INFO:sagemaker.processing:Uploaded source/evaluation/ to s3://sagemaker-us-east-1-419974056037/DJ-SM-IMD-PIPELINE/code/0e7bf581858560b392b8bc18209c4aaf/sourcedir.tar.gz\n",
      "INFO:sagemaker.processing:runproc.sh uploaded to s3://sagemaker-us-east-1-419974056037/DJ-SM-IMD-PIPELINE/code/2c207c809cb0e0e9a1d77e5247f961f9/runproc.sh\n",
      "INFO:sagemaker.processing:Uploaded source/deploy/ to s3://sagemaker-us-east-1-419974056037/DJ-SM-IMD-PIPELINE/code/aeadf6a9077978739a1abd63ee2f9113/sourcedir.tar.gz\n",
      "INFO:sagemaker.processing:runproc.sh uploaded to s3://sagemaker-us-east-1-419974056037/DJ-SM-IMD-PIPELINE/code/be2cbd35f419f747dca87a487b64f344/runproc.sh\n"
     ]
    },
    {
     "name": "stdout",
     "output_type": "stream",
     "text": [
      "{'PipelineArn': 'arn:aws:sagemaker:us-east-1:419974056037:pipeline/dj-sm-imd-pipeline', 'PipelineExecutionArn': 'arn:aws:sagemaker:us-east-1:419974056037:pipeline/dj-sm-imd-pipeline/execution/5llmkchihygb', 'PipelineExecutionDisplayName': 'execution-1683215194867', 'PipelineExecutionStatus': 'Executing', 'PipelineExperimentConfig': {'ExperimentName': 'dj-sm-imd-pipeline', 'TrialName': '5llmkchihygb'}, 'CreationTime': datetime.datetime(2023, 5, 4, 15, 46, 34, 735000, tzinfo=tzlocal()), 'LastModifiedTime': datetime.datetime(2023, 5, 4, 15, 46, 34, 735000, tzinfo=tzlocal()), 'CreatedBy': {}, 'LastModifiedBy': {}, 'ResponseMetadata': {'RequestId': '13be44d2-2a88-47f5-ae82-345e1815b793', 'HTTPStatusCode': 200, 'HTTPHeaders': {'x-amzn-requestid': '13be44d2-2a88-47f5-ae82-345e1815b793', 'content-type': 'application/x-amz-json-1.1', 'content-length': '495', 'date': 'Thu, 04 May 2023 15:46:35 GMT'}, 'RetryAttempts': 0}}\n"
     ]
    }
   ],
   "source": [
    "pipe = pipeline(\n",
    "    strPipelineName=f'{strPrefix}-PIPELINE'\n",
    ")\n",
    "pipe.execution()"
   ]
  },
  {
   "cell_type": "code",
   "execution_count": 34,
   "id": "6b76d567-5c8c-418c-a83f-fa57470fdfda",
   "metadata": {
    "tags": []
   },
   "outputs": [
    {
     "name": "stdout",
     "output_type": "stream",
     "text": [
      "pipeline-arn: arn:aws:sagemaker:us-east-1:419974056037:pipeline/dj-sm-imd-pipeline\n"
     ]
    }
   ],
   "source": [
    "print (f'pipeline-arn: {pm.get_params(key=\"-\".join([strPrefix, \"PIPELINE-ARN\"]))}')"
   ]
  },
  {
   "cell_type": "markdown",
   "id": "5d685749-f22f-4247-9174-154ba2b88518",
   "metadata": {},
   "source": [
    "## 4. Inference by boto3"
   ]
  },
  {
   "cell_type": "code",
   "execution_count": 37,
   "id": "ea0bd267-7c6b-4dd6-b961-9518c210afe1",
   "metadata": {
    "tags": []
   },
   "outputs": [],
   "source": [
    "import os\n",
    "import json\n",
    "import boto3\n",
    "import pandas as pd"
   ]
  },
  {
   "cell_type": "code",
   "execution_count": 44,
   "id": "50aa2969-33a2-473d-9613-a237f943cfc8",
   "metadata": {
    "tags": []
   },
   "outputs": [],
   "source": [
    "pdTest = pd.read_csv(f'{strLocalDataPath}/test.csv')\n",
    "pdLabel = pdTest.iloc[:, 0].astype('int')\n",
    "pdTest = pdTest.drop('fraud', axis=1)\n",
    "payload = pdTest.values[0, :].tobytes() "
   ]
  },
  {
   "cell_type": "code",
   "execution_count": 45,
   "id": "4b713551-455f-42f3-bd28-4dbb084dbdf6",
   "metadata": {
    "tags": []
   },
   "outputs": [
    {
     "name": "stderr",
     "output_type": "stream",
     "text": [
      "INFO:botocore.credentials:Found credentials from IAM Role: BaseNotebookInstanceEc2InstanceRole\n"
     ]
    },
    {
     "data": {
      "text/plain": [
       "'endpoint--DJ-SM-IMD-PIPELINE-1682324962'"
      ]
     },
     "execution_count": 45,
     "metadata": {},
     "output_type": "execute_result"
    }
   ],
   "source": [
    "runtime_client = boto3.Session().client('sagemaker-runtime')\n",
    "strEndpointName = pm.get_params(key=\"-\".join([strPrefix, \"ENDPOINT-NAME\"]))\n",
    "strEndpointName"
   ]
  },
  {
   "cell_type": "code",
   "execution_count": 49,
   "id": "ca0cf1e2-662b-4d5e-b302-160eb1eb140c",
   "metadata": {
    "tags": []
   },
   "outputs": [
    {
     "name": "stdout",
     "output_type": "stream",
     "text": [
      "Response: ['0.6454359889030457', '1.0']\n"
     ]
    }
   ],
   "source": [
    "strDeserializer = \"text/csv\"\n",
    "#strDeserializer = \"application/json\"\n",
    "\n",
    "response = runtime_client.invoke_endpoint(\n",
    "    EndpointName=strEndpointName, \n",
    "    ContentType='application/x-npy',\n",
    "    #Accept='application/json',\n",
    "    Accept=strDeserializer,\n",
    "    Body=payload\n",
    ")\n",
    "\n",
    "## deserialization\n",
    "if strDeserializer == \"application/json\":\n",
    "    out = json.loads(response['Body'].read().decode()) ## for json\n",
    "elif strDeserializer == \"text/csv\":\n",
    "    out =response['Body'].read().decode().split(\",\") ## for csv\n",
    "\n",
    "print (f'Response: {out}')"
   ]
  },
  {
   "cell_type": "code",
   "execution_count": null,
   "id": "3ea65b15-bfd7-4c9b-a29a-46c0bfc08aab",
   "metadata": {},
   "outputs": [],
   "source": []
  }
 ],
 "metadata": {
  "instance_type": "ml.t3.medium",
  "kernelspec": {
   "display_name": "conda_python3",
   "language": "python",
   "name": "conda_python3"
  },
  "language_info": {
   "codemirror_mode": {
    "name": "ipython",
    "version": 3
   },
   "file_extension": ".py",
   "mimetype": "text/x-python",
   "name": "python",
   "nbconvert_exporter": "python",
   "pygments_lexer": "ipython3",
   "version": "3.10.8"
  }
 },
 "nbformat": 4,
 "nbformat_minor": 5
}
