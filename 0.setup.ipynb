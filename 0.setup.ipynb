{
 "cells": [
  {
   "cell_type": "markdown",
   "id": "8f3dd71b-f63a-4106-b323-67be004b482e",
   "metadata": {},
   "source": [
    "# <B> Setup for SageMaker BYOM examples </B>\n",
    "* Container: pytorch_p39"
   ]
  },
  {
   "cell_type": "markdown",
   "id": "aaeaff49-a119-4a0c-b48a-f66ab721c458",
   "metadata": {},
   "source": [
    "## AutoReload"
   ]
  },
  {
   "cell_type": "code",
   "execution_count": 1,
   "id": "9f8f8f99-aaa0-42f9-8695-c8bd1884504c",
   "metadata": {
    "tags": []
   },
   "outputs": [],
   "source": [
    "%load_ext autoreload\n",
    "%autoreload 2"
   ]
  },
  {
   "cell_type": "markdown",
   "id": "9d235cc4-356c-43e0-99ca-fea913797c99",
   "metadata": {},
   "source": [
    "## 1. Set roles"
   ]
  },
  {
   "cell_type": "code",
   "execution_count": 2,
   "id": "1f3a2019-2337-4b48-9bd8-f577ac13daed",
   "metadata": {
    "tags": []
   },
   "outputs": [],
   "source": [
    "from sagemaker import get_execution_role"
   ]
  },
  {
   "cell_type": "code",
   "execution_count": 3,
   "id": "3be71d18-b4b7-4196-abf1-1922f3013c4e",
   "metadata": {
    "tags": []
   },
   "outputs": [
    {
     "name": "stdout",
     "output_type": "stream",
     "text": [
      "SageMaker Execution Role Name: AmazonSageMaker-ExecutionRole-20221206T163436\n"
     ]
    }
   ],
   "source": [
    "strSageMakerRoleName = get_execution_role().rsplit('/', 1)[-1]\n",
    "print (f\"SageMaker Execution Role Name: {strSageMakerRoleName}\")"
   ]
  },
  {
   "cell_type": "markdown",
   "id": "8acda191-5a24-4904-b637-92e9bfd580e2",
   "metadata": {},
   "source": [
    "### 1.1 Attach IAM polich to sagemaker execution role (<b>with console</b>)\n",
    "> step 1. IAM console 로 이동    \n",
    ">\n",
    "> step 2. 왼쪽 네비게이터에서  \"Role\" 선택  \n",
    "> ![nn](images/Role.png)  \n",
    ">\n",
    "> step 3. SageMaker Execution Role 검색 후 role 선택 (상위 cell output 참조)  \n",
    "> ![nn](images/search-by-rolename.png)  \n",
    ">\n",
    "> step 4. \"attach policies\" 메뉴 선택 \n",
    "> ![nn](images/attach-policy-menu.png)  \n",
    ">\n",
    "> step 5. \"IAMFullAccess\" policy 검색 후 attach \n",
    "> ![nn](images/attach-policy.png) "
   ]
  },
  {
   "cell_type": "code",
   "execution_count": 4,
   "id": "c258dc86-c198-4458-8679-ae99eddfd01c",
   "metadata": {
    "tags": []
   },
   "outputs": [],
   "source": [
    "from utils.iam import iam_handler"
   ]
  },
  {
   "cell_type": "code",
   "execution_count": 5,
   "id": "a54390cd-9d8b-49c3-8f2c-1bfaed27936e",
   "metadata": {
    "tags": []
   },
   "outputs": [],
   "source": [
    "iam = iam_handler()"
   ]
  },
  {
   "cell_type": "code",
   "execution_count": 6,
   "id": "8e152954-1c5f-4408-acf1-96a946b389cc",
   "metadata": {
    "tags": []
   },
   "outputs": [],
   "source": [
    "strID = \"DJ\"\n",
    "strPrefix = f'{strID}-SM-IMD'"
   ]
  },
  {
   "cell_type": "markdown",
   "id": "b227ef91-1417-4295-9534-3196766279f8",
   "metadata": {},
   "source": [
    "### 1.2 Attach policy - sagemaker execution role\n",
    "> SSM  \n",
    "> S3 <BR>\n",
    "> CodeCommit <BR>\n",
    "> CodeBuild <BR>\n",
    "> CodePipeline <BR>"
   ]
  },
  {
   "cell_type": "code",
   "execution_count": 10,
   "id": "6c963c5c-ff7c-4622-b45f-6ead188d3e75",
   "metadata": {
    "tags": []
   },
   "outputs": [],
   "source": [
    "listPolicyArn=[\n",
    "    \"arn:aws:iam::aws:policy/AmazonSSMFullAccess\",\n",
    "    \"arn:aws:iam::aws:policy/AmazonS3FullAccess\",\n",
    "    \"arn:aws:iam::aws:policy/AWSCodeCommitFullAccess\",\n",
    "    \"arn:aws:iam::aws:policy/AWSCodeBuildAdminAccess\",\n",
    "    \"arn:aws:iam::aws:policy/AWSCodePipeline_FullAccess\",\n",
    "]\n",
    "for strPolicyArn in listPolicyArn: iam.attach_policy(strSageMakerRoleName, strPolicyArn)"
   ]
  },
  {
   "cell_type": "markdown",
   "id": "be7efd68-8807-4df9-b44c-a0e390467ad4",
   "metadata": {},
   "source": [
    "### 1.3 Create role for lambda"
   ]
  },
  {
   "cell_type": "code",
   "execution_count": 11,
   "id": "26b57063-9b68-48ce-96a6-03de36614436",
   "metadata": {
    "tags": []
   },
   "outputs": [],
   "source": [
    "listService = [\"lambda.amazonaws.com\"]\n",
    "strRoleName = \"-\".join([strPrefix, \"LabmdaRole\"])\n",
    "listPolicyArn = [\n",
    "    \"arn:aws:iam::aws:policy/service-role/AWSLambdaBasicExecutionRole\",\n",
    "    \"arn:aws:iam::aws:policy/AWSLambda_FullAccess\",\n",
    "    \"arn:aws:iam::aws:policy/AmazonSageMakerFullAccess\",\n",
    "]\n",
    "strDescription=\"Role for Lambda to call SageMaker functions'\""
   ]
  },
  {
   "cell_type": "code",
   "execution_count": 12,
   "id": "cca0ef7d-41c7-4338-b157-43a2fc049dc2",
   "metadata": {
    "tags": []
   },
   "outputs": [
    {
     "name": "stdout",
     "output_type": "stream",
     "text": [
      "== CREATE ROLE ==\n",
      "  Role Name: [DJ-SM-IMD-LabmdaRole] is already exist!!, so, this will be deleted and re-created.\n",
      "{'ResponseMetadata': {'RequestId': '58aac7f5-dfd6-45b5-8b62-c8e6e585a4dc', 'HTTPStatusCode': 200, 'HTTPHeaders': {'x-amzn-requestid': '58aac7f5-dfd6-45b5-8b62-c8e6e585a4dc', 'content-type': 'text/xml', 'content-length': '212', 'date': 'Sun, 16 Apr 2023 06:40:11 GMT'}, 'RetryAttempts': 0}}\n",
      "arn:aws:iam::aws:policy/service-role/AWSLambdaBasicExecutionRole\n",
      "{'ResponseMetadata': {'RequestId': '99c516ad-607d-4181-87db-9c1d0bb71d90', 'HTTPStatusCode': 200, 'HTTPHeaders': {'x-amzn-requestid': '99c516ad-607d-4181-87db-9c1d0bb71d90', 'content-type': 'text/xml', 'content-length': '212', 'date': 'Sun, 16 Apr 2023 06:40:11 GMT'}, 'RetryAttempts': 0}}\n",
      "arn:aws:iam::aws:policy/AmazonSageMakerFullAccess\n",
      "{'ResponseMetadata': {'RequestId': '5f0a5544-7678-4819-9e1c-41eb9bbe2208', 'HTTPStatusCode': 200, 'HTTPHeaders': {'x-amzn-requestid': '5f0a5544-7678-4819-9e1c-41eb9bbe2208', 'content-type': 'text/xml', 'content-length': '212', 'date': 'Sun, 16 Apr 2023 06:40:11 GMT'}, 'RetryAttempts': 0}}\n",
      "arn:aws:iam::aws:policy/AWSLambda_FullAccess\n",
      "  Service name: ['lambda.amazonaws.com'], \n",
      "  Role name: DJ-SM-IMD-LabmdaRole, \n",
      "  Policys: ['arn:aws:iam::aws:policy/service-role/AWSLambdaBasicExecutionRole', 'arn:aws:iam::aws:policy/AWSLambda_FullAccess', 'arn:aws:iam::aws:policy/AmazonSageMakerFullAccess'], \n",
      "  Role ARN: arn:aws:iam::419974056037:role/DJ-SM-IMD-LabmdaRole\n",
      "== COMPLETED ==\n"
     ]
    }
   ],
   "source": [
    "lambdaRoleArn = iam.create_role(\n",
    "    listService=listService,\n",
    "    strRoleName=strRoleName,\n",
    "    listPolicyArn = listPolicyArn,\n",
    "    strDescription=strDescription\n",
    ")"
   ]
  },
  {
   "cell_type": "markdown",
   "id": "b3f8125a-f642-4e5e-96a9-342ba4286e1d",
   "metadata": {
    "tags": []
   },
   "source": [
    "### 1.4 role-codebuild"
   ]
  },
  {
   "cell_type": "code",
   "execution_count": 13,
   "id": "641cf8dd-7fcf-4851-b90b-3ea82fe99726",
   "metadata": {
    "tags": []
   },
   "outputs": [],
   "source": [
    "listService = [\"codebuild.amazonaws.com\", \"sagemaker.amazonaws.com\"]\n",
    "strRoleName = \"-\".join([strPrefix, \"CodeBuildRole\"])\n",
    "listPolicyArn = [\n",
    "    \"arn:aws:iam::aws:policy/AWSCodeCommitFullAccess\",\n",
    "    \"arn:aws:iam::aws:policy/AWSCodeBuildAdminAccess\",\n",
    "    \"arn:aws:iam::aws:policy/AmazonS3FullAccess\",\n",
    "    \"arn:aws:iam::aws:policy/CloudWatchFullAccess\",\n",
    "    \"arn:aws:iam::aws:policy/AmazonSageMakerFullAccess\",\n",
    "    \"arn:aws:iam::aws:policy/AWSLambda_FullAccess\",\n",
    "    \"arn:aws:iam::aws:policy/AmazonSSMFullAccess\",\n",
    "]\n",
    "strDescription=\"Role for CodeBuild\""
   ]
  },
  {
   "cell_type": "code",
   "execution_count": 14,
   "id": "d6e4a6a5-fa94-4cd0-b123-a0997f7afe42",
   "metadata": {
    "tags": []
   },
   "outputs": [
    {
     "name": "stdout",
     "output_type": "stream",
     "text": [
      "== CREATE ROLE ==\n",
      "  Role Name: [DJ-SM-IMD-CodeBuildRole] is already exist!!, so, this will be deleted and re-created.\n",
      "{'ResponseMetadata': {'RequestId': '0986878d-4c95-48b1-8eba-6a04daa63f02', 'HTTPStatusCode': 200, 'HTTPHeaders': {'x-amzn-requestid': '0986878d-4c95-48b1-8eba-6a04daa63f02', 'content-type': 'text/xml', 'content-length': '212', 'date': 'Sun, 16 Apr 2023 06:40:18 GMT'}, 'RetryAttempts': 0}}\n",
      "arn:aws:iam::aws:policy/AmazonSSMFullAccess\n",
      "{'ResponseMetadata': {'RequestId': '12616141-4c4a-49c7-b68a-31fe01423d93', 'HTTPStatusCode': 200, 'HTTPHeaders': {'x-amzn-requestid': '12616141-4c4a-49c7-b68a-31fe01423d93', 'content-type': 'text/xml', 'content-length': '212', 'date': 'Sun, 16 Apr 2023 06:40:18 GMT'}, 'RetryAttempts': 0}}\n",
      "arn:aws:iam::aws:policy/AWSCodeBuildAdminAccess\n",
      "{'ResponseMetadata': {'RequestId': '065fc8f0-e8a4-46dc-9cdc-dcb3ded58914', 'HTTPStatusCode': 200, 'HTTPHeaders': {'x-amzn-requestid': '065fc8f0-e8a4-46dc-9cdc-dcb3ded58914', 'content-type': 'text/xml', 'content-length': '212', 'date': 'Sun, 16 Apr 2023 06:40:18 GMT'}, 'RetryAttempts': 0}}\n",
      "arn:aws:iam::aws:policy/AWSCodeCommitFullAccess\n",
      "{'ResponseMetadata': {'RequestId': '10b95e91-8546-4486-a481-6106d679dcce', 'HTTPStatusCode': 200, 'HTTPHeaders': {'x-amzn-requestid': '10b95e91-8546-4486-a481-6106d679dcce', 'content-type': 'text/xml', 'content-length': '212', 'date': 'Sun, 16 Apr 2023 06:40:18 GMT'}, 'RetryAttempts': 0}}\n",
      "arn:aws:iam::aws:policy/CloudWatchFullAccess\n",
      "{'ResponseMetadata': {'RequestId': '4f3a4a3c-6f9b-47dd-bc0c-9adad9ab3306', 'HTTPStatusCode': 200, 'HTTPHeaders': {'x-amzn-requestid': '4f3a4a3c-6f9b-47dd-bc0c-9adad9ab3306', 'content-type': 'text/xml', 'content-length': '212', 'date': 'Sun, 16 Apr 2023 06:40:18 GMT'}, 'RetryAttempts': 0}}\n",
      "arn:aws:iam::aws:policy/AmazonSageMakerFullAccess\n",
      "{'ResponseMetadata': {'RequestId': '09b9bb36-3d56-4d64-913b-d9c58a2768e4', 'HTTPStatusCode': 200, 'HTTPHeaders': {'x-amzn-requestid': '09b9bb36-3d56-4d64-913b-d9c58a2768e4', 'content-type': 'text/xml', 'content-length': '212', 'date': 'Sun, 16 Apr 2023 06:40:18 GMT'}, 'RetryAttempts': 0}}\n",
      "arn:aws:iam::aws:policy/AmazonS3FullAccess\n",
      "{'ResponseMetadata': {'RequestId': 'd6abffd6-a66a-4b8f-9fd8-1c6ad4e08fb4', 'HTTPStatusCode': 200, 'HTTPHeaders': {'x-amzn-requestid': 'd6abffd6-a66a-4b8f-9fd8-1c6ad4e08fb4', 'content-type': 'text/xml', 'content-length': '212', 'date': 'Sun, 16 Apr 2023 06:40:18 GMT'}, 'RetryAttempts': 0}}\n",
      "arn:aws:iam::aws:policy/AWSLambda_FullAccess\n",
      "  Service name: ['codebuild.amazonaws.com', 'sagemaker.amazonaws.com'], \n",
      "  Role name: DJ-SM-IMD-CodeBuildRole, \n",
      "  Policys: ['arn:aws:iam::aws:policy/AWSCodeCommitFullAccess', 'arn:aws:iam::aws:policy/AWSCodeBuildAdminAccess', 'arn:aws:iam::aws:policy/AmazonS3FullAccess', 'arn:aws:iam::aws:policy/CloudWatchFullAccess', 'arn:aws:iam::aws:policy/AmazonSageMakerFullAccess', 'arn:aws:iam::aws:policy/AWSLambda_FullAccess', 'arn:aws:iam::aws:policy/AmazonSSMFullAccess'], \n",
      "  Role ARN: arn:aws:iam::419974056037:role/DJ-SM-IMD-CodeBuildRole\n",
      "== COMPLETED ==\n",
      "CODE-BUILD-ROLE-ARN: arn:aws:iam::419974056037:role/DJ-SM-IMD-CodeBuildRole\n"
     ]
    }
   ],
   "source": [
    "buildRoleArn = iam.create_role(\n",
    "    listService=listService,\n",
    "    strRoleName=strRoleName,\n",
    "    listPolicyArn = listPolicyArn,\n",
    "    strDescription=strDescription\n",
    ")\n",
    "print (f\"CODE-BUILD-ROLE-ARN: {buildRoleArn}\")"
   ]
  },
  {
   "cell_type": "markdown",
   "id": "b9a09e07-80a0-40a2-a8a2-9cf763aa11a6",
   "metadata": {
    "tags": []
   },
   "source": [
    "### 1.5 role-codepipeline"
   ]
  },
  {
   "cell_type": "code",
   "execution_count": 15,
   "id": "12eb5771-59de-4e66-aa2d-bfad4d9ac422",
   "metadata": {
    "tags": []
   },
   "outputs": [],
   "source": [
    "listService = [\"codepipeline.amazonaws.com\", \"codebuild.amazonaws.com\"]\n",
    "strRoleName = \"-\".join([strPrefix, \"CodePipelineRole\"])\n",
    "listPolicyArn = [\n",
    "    \"arn:aws:iam::aws:policy/AWSCodeCommitFullAccess\",\n",
    "    \"arn:aws:iam::aws:policy/AmazonS3FullAccess\",\n",
    "    \"arn:aws:iam::aws:policy/AWSCodeBuildAdminAccess\",\n",
    "    \"arn:aws:iam::aws:policy/AWSCodeDeployFullAccess\",\n",
    "    \"arn:aws:iam::aws:policy/AWSCodePipeline_FullAccess\"\n",
    "]\n",
    "strDescription=\"Role for CodePipeline\""
   ]
  },
  {
   "cell_type": "code",
   "execution_count": 16,
   "id": "b144f1f6-660d-4d82-b233-4cda985f62ad",
   "metadata": {
    "tags": []
   },
   "outputs": [
    {
     "name": "stdout",
     "output_type": "stream",
     "text": [
      "== CREATE ROLE ==\n",
      "  Role Name: [DJ-SM-IMD-CodePipelineRole] is already exist!!, so, this will be deleted and re-created.\n",
      "{'ResponseMetadata': {'RequestId': '14c65c24-399b-47c4-812d-adf7a4c81a01', 'HTTPStatusCode': 200, 'HTTPHeaders': {'x-amzn-requestid': '14c65c24-399b-47c4-812d-adf7a4c81a01', 'content-type': 'text/xml', 'content-length': '212', 'date': 'Sun, 16 Apr 2023 06:40:24 GMT'}, 'RetryAttempts': 0}}\n",
      "arn:aws:iam::aws:policy/AWSCodeBuildAdminAccess\n",
      "{'ResponseMetadata': {'RequestId': 'ac0bb909-ba42-48b5-97ae-817cbf0b868c', 'HTTPStatusCode': 200, 'HTTPHeaders': {'x-amzn-requestid': 'ac0bb909-ba42-48b5-97ae-817cbf0b868c', 'content-type': 'text/xml', 'content-length': '212', 'date': 'Sun, 16 Apr 2023 06:40:25 GMT'}, 'RetryAttempts': 0}}\n",
      "arn:aws:iam::aws:policy/AWSCodeCommitFullAccess\n",
      "{'ResponseMetadata': {'RequestId': '7d777f30-1b3d-488e-ad94-c4874bfe7e3b', 'HTTPStatusCode': 200, 'HTTPHeaders': {'x-amzn-requestid': '7d777f30-1b3d-488e-ad94-c4874bfe7e3b', 'content-type': 'text/xml', 'content-length': '212', 'date': 'Sun, 16 Apr 2023 06:40:25 GMT'}, 'RetryAttempts': 0}}\n",
      "arn:aws:iam::aws:policy/AWSCodeDeployFullAccess\n",
      "{'ResponseMetadata': {'RequestId': '31612306-c8f7-4f8c-895c-f29ce877c434', 'HTTPStatusCode': 200, 'HTTPHeaders': {'x-amzn-requestid': '31612306-c8f7-4f8c-895c-f29ce877c434', 'content-type': 'text/xml', 'content-length': '212', 'date': 'Sun, 16 Apr 2023 06:40:25 GMT'}, 'RetryAttempts': 0}}\n",
      "arn:aws:iam::aws:policy/AmazonS3FullAccess\n",
      "{'ResponseMetadata': {'RequestId': '35978685-79af-4596-90f3-b16df0e506ee', 'HTTPStatusCode': 200, 'HTTPHeaders': {'x-amzn-requestid': '35978685-79af-4596-90f3-b16df0e506ee', 'content-type': 'text/xml', 'content-length': '212', 'date': 'Sun, 16 Apr 2023 06:40:25 GMT'}, 'RetryAttempts': 0}}\n",
      "arn:aws:iam::aws:policy/AWSCodePipeline_FullAccess\n",
      "  Service name: ['codepipeline.amazonaws.com', 'codebuild.amazonaws.com'], \n",
      "  Role name: DJ-SM-IMD-CodePipelineRole, \n",
      "  Policys: ['arn:aws:iam::aws:policy/AWSCodeCommitFullAccess', 'arn:aws:iam::aws:policy/AmazonS3FullAccess', 'arn:aws:iam::aws:policy/AWSCodeBuildAdminAccess', 'arn:aws:iam::aws:policy/AWSCodeDeployFullAccess', 'arn:aws:iam::aws:policy/AWSCodePipeline_FullAccess'], \n",
      "  Role ARN: arn:aws:iam::419974056037:role/DJ-SM-IMD-CodePipelineRole\n",
      "== COMPLETED ==\n",
      "CODE-PIPELINE-ROLE-ARN: arn:aws:iam::419974056037:role/DJ-SM-IMD-CodePipelineRole\n"
     ]
    }
   ],
   "source": [
    "pipelineRoleArn = iam.create_role(\n",
    "    listService=listService,\n",
    "    strRoleName=strRoleName,\n",
    "    listPolicyArn = listPolicyArn,\n",
    "    strDescription=strDescription\n",
    ")\n",
    "\n",
    "print (f\"CODE-PIPELINE-ROLE-ARN: {pipelineRoleArn}\")"
   ]
  },
  {
   "cell_type": "markdown",
   "id": "87fe7a4b-03e1-4422-8bd5-62d30e0a419f",
   "metadata": {},
   "source": [
    "## 2. Set default parameters"
   ]
  },
  {
   "cell_type": "code",
   "execution_count": 17,
   "id": "e5e8ad58-6a1e-41b4-88e5-aec263ef935e",
   "metadata": {
    "tags": []
   },
   "outputs": [],
   "source": [
    "import boto3\n",
    "import sagemaker\n",
    "from utils.ssm import parameter_store"
   ]
  },
  {
   "cell_type": "code",
   "execution_count": 18,
   "id": "f5aed719-2937-49ca-a675-f83b5a6bccd7",
   "metadata": {
    "tags": []
   },
   "outputs": [],
   "source": [
    "strRegionName=boto3.Session().region_name\n",
    "pm = parameter_store(strRegionName)"
   ]
  },
  {
   "cell_type": "code",
   "execution_count": 19,
   "id": "0cbbe6c5-469a-4952-ae8d-927d0dcdc19e",
   "metadata": {
    "tags": []
   },
   "outputs": [
    {
     "data": {
      "text/plain": [
       "'Store suceess'"
      ]
     },
     "execution_count": 19,
     "metadata": {},
     "output_type": "execute_result"
    }
   ],
   "source": [
    "pm.put_params(key=\"PREFIX\", value=strPrefix, overwrite=True)\n",
    "pm.put_params(key=\"-\".join([strPrefix, \"REGION\"]), value=strRegionName, overwrite=True)\n",
    "pm.put_params(key=\"-\".join([strPrefix, \"BUCKET\"]), value=sagemaker.Session().default_bucket(), overwrite=True)\n",
    "pm.put_params(key=\"-\".join([strPrefix, \"SAGEMAKER-ROLE-ARN\"]), value=get_execution_role(), overwrite=True)\n",
    "pm.put_params(key=\"-\".join([strPrefix, \"ACCOUNT-ID\"]), value=boto3.client(\"sts\").get_caller_identity().get(\"Account\"), overwrite=True)\n",
    "pm.put_params(key=\"-\".join([strPrefix, \"LAMBDA-ROLE-ARN\"]), value=lambdaRoleArn, overwrite=True)\n",
    "pm.put_params(key=\"-\".join([strPrefix, \"CODE-BUILD-ROLE-ARN\"]), value=buildRoleArn, overwrite=True)\n",
    "pm.put_params(key=\"-\".join([strPrefix, \"CODE-PIPELINE-ROLE-ARN\"]), value=pipelineRoleArn, overwrite=True)"
   ]
  },
  {
   "cell_type": "code",
   "execution_count": 20,
   "id": "91146dd9-d048-4a6b-86cc-f0aa93e2c2f8",
   "metadata": {
    "tags": []
   },
   "outputs": [
    {
     "name": "stdout",
     "output_type": "stream",
     "text": [
      "REGION:  us-east-1\n",
      "BUCKET:  sagemaker-us-east-1-419974056037\n",
      "SAGEMAKER-ROLE-ARN:  arn:aws:iam::419974056037:role/service-role/AmazonSageMaker-ExecutionRole-20221206T163436\n",
      "ACCOUNT-ID:  419974056037\n",
      "LAMBDA-ROLE-ARN:  arn:aws:iam::419974056037:role/DJ-SM-IMD-LabmdaRole\n",
      "CODE-BUILD-ROLE-ARN:  arn:aws:iam::419974056037:role/DJ-SM-IMD-CodeBuildRole\n",
      "CODE-PIPELINE-ROLE-ARN:  arn:aws:iam::419974056037:role/DJ-SM-IMD-CodePipelineRole\n"
     ]
    }
   ],
   "source": [
    "print (\"REGION: \", pm.get_params(key=\"-\".join([strPrefix, \"REGION\"])))\n",
    "print (\"BUCKET: \", pm.get_params(key=\"-\".join([strPrefix, \"BUCKET\"])))\n",
    "print (\"SAGEMAKER-ROLE-ARN: \", pm.get_params(key=\"-\".join([strPrefix, \"SAGEMAKER-ROLE-ARN\"])))\n",
    "print (\"ACCOUNT-ID: \", pm.get_params(key=\"-\".join([strPrefix, \"ACCOUNT-ID\"])))\n",
    "print (\"LAMBDA-ROLE-ARN: \", pm.get_params(key=\"-\".join([strPrefix, \"LAMBDA-ROLE-ARN\"])))\n",
    "print (\"CODE-BUILD-ROLE-ARN: \", pm.get_params(key=\"-\".join([strPrefix, \"CODE-BUILD-ROLE-ARN\"])))\n",
    "print (\"CODE-PIPELINE-ROLE-ARN: \", pm.get_params(key=\"-\".join([strPrefix, \"CODE-PIPELINE-ROLE-ARN\"])))"
   ]
  },
  {
   "cell_type": "code",
   "execution_count": null,
   "id": "aa4dad0f-a16b-4ac2-96b4-56dfa532cddc",
   "metadata": {},
   "outputs": [],
   "source": []
  }
 ],
 "metadata": {
  "kernelspec": {
   "display_name": "conda_pytorch_p39",
   "language": "python",
   "name": "conda_pytorch_p39"
  },
  "language_info": {
   "codemirror_mode": {
    "name": "ipython",
    "version": 3
   },
   "file_extension": ".py",
   "mimetype": "text/x-python",
   "name": "python",
   "nbconvert_exporter": "python",
   "pygments_lexer": "ipython3",
   "version": "3.9.15"
  },
  "vscode": {
   "interpreter": {
    "hash": "1f4a227f2552de404565d6626d9115986c409361ad6ef0bf195ad88ccd012b73"
   }
  }
 },
 "nbformat": 4,
 "nbformat_minor": 5
}
