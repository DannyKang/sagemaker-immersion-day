{
 "cells": [
  {
   "cell_type": "markdown",
   "id": "8f3dd71b-f63a-4106-b323-67be004b482e",
   "metadata": {},
   "source": [
    "# <B> Setup for SageMaker BYOM examples </B>\n",
    "* Container: conda_python3"
   ]
  },
  {
   "cell_type": "markdown",
   "id": "aaeaff49-a119-4a0c-b48a-f66ab721c458",
   "metadata": {},
   "source": [
    "## AutoReload"
   ]
  },
  {
   "cell_type": "code",
   "execution_count": 30,
   "id": "9f8f8f99-aaa0-42f9-8695-c8bd1884504c",
   "metadata": {
    "tags": []
   },
   "outputs": [
    {
     "name": "stdout",
     "output_type": "stream",
     "text": [
      "The autoreload extension is already loaded. To reload it, use:\n",
      "  %reload_ext autoreload\n"
     ]
    }
   ],
   "source": [
    "%load_ext autoreload\n",
    "%autoreload 2"
   ]
  },
  {
   "cell_type": "markdown",
   "id": "9d235cc4-356c-43e0-99ca-fea913797c99",
   "metadata": {},
   "source": [
    "## 1. Set roles"
   ]
  },
  {
   "cell_type": "code",
   "execution_count": 31,
   "id": "1f3a2019-2337-4b48-9bd8-f577ac13daed",
   "metadata": {
    "tags": []
   },
   "outputs": [],
   "source": [
    "from sagemaker import get_execution_role"
   ]
  },
  {
   "cell_type": "code",
   "execution_count": 32,
   "id": "3be71d18-b4b7-4196-abf1-1922f3013c4e",
   "metadata": {
    "tags": []
   },
   "outputs": [
    {
     "name": "stdout",
     "output_type": "stream",
     "text": [
      "SageMaker Execution Role Name: AmazonSageMaker-ExecutionRole-20221206T163436\n"
     ]
    }
   ],
   "source": [
    "strSageMakerRoleName = get_execution_role().rsplit('/', 1)[-1]\n",
    "print (f\"SageMaker Execution Role Name: {strSageMakerRoleName}\")"
   ]
  },
  {
   "cell_type": "markdown",
   "id": "8acda191-5a24-4904-b637-92e9bfd580e2",
   "metadata": {},
   "source": [
    "### 1.1 Attach IAM polich to sagemaker execution role (<b>with console</b>)\n",
    "> step 1. IAM console 로 이동    \n",
    ">\n",
    "> step 2. 왼쪽 네비게이터에서  \"Role\" 선택  \n",
    "> ![nn](images/Role.png)  \n",
    ">\n",
    "> step 3. SageMaker Execution Role 검색 후 role 선택 (상위 cell output 참조)  \n",
    "> ![nn](images/search-by-rolename.png)  \n",
    ">\n",
    "> step 4. \"attach policies\" 메뉴 선택 \n",
    "> ![nn](images/attach-policy-menu.png)  \n",
    ">\n",
    "> step 5. \"IAMFullAccess\" policy 검색 후 attach \n",
    "> ![nn](images/attach-policy.png) "
   ]
  },
  {
   "cell_type": "code",
   "execution_count": 33,
   "id": "c258dc86-c198-4458-8679-ae99eddfd01c",
   "metadata": {
    "tags": []
   },
   "outputs": [],
   "source": [
    "from utils.iam import iam_handler"
   ]
  },
  {
   "cell_type": "code",
   "execution_count": 34,
   "id": "a54390cd-9d8b-49c3-8f2c-1bfaed27936e",
   "metadata": {
    "tags": []
   },
   "outputs": [],
   "source": [
    "iam = iam_handler()"
   ]
  },
  {
   "cell_type": "code",
   "execution_count": 35,
   "id": "8e152954-1c5f-4408-acf1-96a946b389cc",
   "metadata": {
    "tags": []
   },
   "outputs": [],
   "source": [
    "strID = \"DJ\"\n",
    "strPrefix = f'{strID}-SM-IMD'"
   ]
  },
  {
   "cell_type": "markdown",
   "id": "b227ef91-1417-4295-9534-3196766279f8",
   "metadata": {},
   "source": [
    "### 1.2 Attach policy - sagemaker execution role\n",
    "> SSM  \n",
    "> S3 <BR>\n",
    "> CodeCommit <BR>\n",
    "> CodeBuild <BR>\n",
    "> CodePipeline <BR>\n",
    "> EventBridge <BR>\n",
    "> Lambda"
   ]
  },
  {
   "cell_type": "code",
   "execution_count": 37,
   "id": "6c963c5c-ff7c-4622-b45f-6ead188d3e75",
   "metadata": {
    "tags": []
   },
   "outputs": [],
   "source": [
    "listPolicyArn=[\n",
    "    \"arn:aws:iam::aws:policy/AmazonSSMFullAccess\",\n",
    "    \"arn:aws:iam::aws:policy/AmazonS3FullAccess\",\n",
    "    #\"arn:aws:iam::aws:policy/AWSCodeCommitFullAccess\",\n",
    "    #\"arn:aws:iam::aws:policy/AWSCodeBuildAdminAccess\",\n",
    "    #\"arn:aws:iam::aws:policy/AWSCodePipeline_FullAccess\",\n",
    "    \"arn:aws:iam::aws:policy/AmazonEventBridgeFullAccess\",\n",
    "    \"arn:aws:iam::aws:policy/AWSLambda_FullAccess\"\n",
    "]\n",
    "for strPolicyArn in listPolicyArn: iam.attach_policy(strSageMakerRoleName, strPolicyArn)"
   ]
  },
  {
   "cell_type": "markdown",
   "id": "be7efd68-8807-4df9-b44c-a0e390467ad4",
   "metadata": {},
   "source": [
    "### 1.3 Create role for lambda"
   ]
  },
  {
   "cell_type": "code",
   "execution_count": 38,
   "id": "26b57063-9b68-48ce-96a6-03de36614436",
   "metadata": {
    "tags": []
   },
   "outputs": [],
   "source": [
    "listService = [\"lambda.amazonaws.com\"]\n",
    "strRoleName = \"-\".join([strPrefix, \"LabmdaRole\"])\n",
    "listPolicyArn = [\n",
    "    \"arn:aws:iam::aws:policy/service-role/AWSLambdaBasicExecutionRole\",\n",
    "    \"arn:aws:iam::aws:policy/AWSLambda_FullAccess\",\n",
    "    \"arn:aws:iam::aws:policy/AmazonSageMakerFullAccess\",\n",
    "]\n",
    "strDescription=\"Role for Lambda to call SageMaker functions'\""
   ]
  },
  {
   "cell_type": "code",
   "execution_count": 39,
   "id": "cca0ef7d-41c7-4338-b157-43a2fc049dc2",
   "metadata": {
    "tags": []
   },
   "outputs": [
    {
     "name": "stdout",
     "output_type": "stream",
     "text": [
      "== CREATE ROLE ==\n",
      "  Role Name: [DJ-SM-IMD-LabmdaRole] is already exist!!, so, this will be deleted and re-created.\n",
      "{'ResponseMetadata': {'RequestId': 'd4a677da-4f58-4dd4-9fcc-98a1f1054c89', 'HTTPStatusCode': 200, 'HTTPHeaders': {'x-amzn-requestid': 'd4a677da-4f58-4dd4-9fcc-98a1f1054c89', 'content-type': 'text/xml', 'content-length': '212', 'date': 'Thu, 04 May 2023 15:30:22 GMT'}, 'RetryAttempts': 0}}\n",
      "arn:aws:iam::aws:policy/service-role/AWSLambdaBasicExecutionRole\n",
      "{'ResponseMetadata': {'RequestId': '127690d6-6c0e-4f01-a4c7-32d8e0fc6a98', 'HTTPStatusCode': 200, 'HTTPHeaders': {'x-amzn-requestid': '127690d6-6c0e-4f01-a4c7-32d8e0fc6a98', 'content-type': 'text/xml', 'content-length': '212', 'date': 'Thu, 04 May 2023 15:30:22 GMT'}, 'RetryAttempts': 0}}\n",
      "arn:aws:iam::aws:policy/AmazonSageMakerFullAccess\n",
      "{'ResponseMetadata': {'RequestId': '94b754f3-1f46-4aaf-8428-5c2f9a651e45', 'HTTPStatusCode': 200, 'HTTPHeaders': {'x-amzn-requestid': '94b754f3-1f46-4aaf-8428-5c2f9a651e45', 'content-type': 'text/xml', 'content-length': '212', 'date': 'Thu, 04 May 2023 15:30:22 GMT'}, 'RetryAttempts': 0}}\n",
      "arn:aws:iam::aws:policy/AWSLambda_FullAccess\n",
      "  Service name: ['lambda.amazonaws.com'], \n",
      "  Role name: DJ-SM-IMD-LabmdaRole, \n",
      "  Policys: ['arn:aws:iam::aws:policy/service-role/AWSLambdaBasicExecutionRole', 'arn:aws:iam::aws:policy/AWSLambda_FullAccess', 'arn:aws:iam::aws:policy/AmazonSageMakerFullAccess'], \n",
      "  Role ARN: arn:aws:iam::419974056037:role/DJ-SM-IMD-LabmdaRole\n",
      "== COMPLETED ==\n"
     ]
    }
   ],
   "source": [
    "lambdaRoleArn = iam.create_role(\n",
    "    listService=listService,\n",
    "    strRoleName=strRoleName,\n",
    "    listPolicyArn = listPolicyArn,\n",
    "    strDescription=strDescription\n",
    ")"
   ]
  },
  {
   "cell_type": "markdown",
   "id": "b3f8125a-f642-4e5e-96a9-342ba4286e1d",
   "metadata": {
    "tags": []
   },
   "source": [
    "### 1.4 role-codebuild"
   ]
  },
  {
   "cell_type": "code",
   "execution_count": 40,
   "id": "641cf8dd-7fcf-4851-b90b-3ea82fe99726",
   "metadata": {
    "tags": []
   },
   "outputs": [],
   "source": [
    "listService = [\"codebuild.amazonaws.com\", \"sagemaker.amazonaws.com\"]\n",
    "strRoleName = \"-\".join([strPrefix, \"CodeBuildRole\"])\n",
    "listPolicyArn = [\n",
    "    \"arn:aws:iam::aws:policy/AWSCodeCommitFullAccess\",\n",
    "    \"arn:aws:iam::aws:policy/AWSCodeBuildAdminAccess\",\n",
    "    \"arn:aws:iam::aws:policy/AmazonS3FullAccess\",\n",
    "    \"arn:aws:iam::aws:policy/CloudWatchFullAccess\",\n",
    "    \"arn:aws:iam::aws:policy/AmazonSageMakerFullAccess\",\n",
    "    \"arn:aws:iam::aws:policy/AWSLambda_FullAccess\",\n",
    "    \"arn:aws:iam::aws:policy/AmazonSSMFullAccess\",\n",
    "]\n",
    "strDescription=\"Role for CodeBuild\""
   ]
  },
  {
   "cell_type": "code",
   "execution_count": 41,
   "id": "d6e4a6a5-fa94-4cd0-b123-a0997f7afe42",
   "metadata": {
    "tags": []
   },
   "outputs": [
    {
     "name": "stdout",
     "output_type": "stream",
     "text": [
      "== CREATE ROLE ==\n",
      "  Role Name: [DJ-SM-IMD-CodeBuildRole] is already exist!!, so, this will be deleted and re-created.\n",
      "{'ResponseMetadata': {'RequestId': 'e4ff3a8f-a2be-40fe-9bc8-6a104f9552a4', 'HTTPStatusCode': 200, 'HTTPHeaders': {'x-amzn-requestid': 'e4ff3a8f-a2be-40fe-9bc8-6a104f9552a4', 'content-type': 'text/xml', 'content-length': '212', 'date': 'Thu, 04 May 2023 15:30:23 GMT'}, 'RetryAttempts': 0}}\n",
      "arn:aws:iam::aws:policy/AmazonSSMFullAccess\n",
      "{'ResponseMetadata': {'RequestId': '919fa100-84aa-4e8d-8619-9285c309800a', 'HTTPStatusCode': 200, 'HTTPHeaders': {'x-amzn-requestid': '919fa100-84aa-4e8d-8619-9285c309800a', 'content-type': 'text/xml', 'content-length': '212', 'date': 'Thu, 04 May 2023 15:30:23 GMT'}, 'RetryAttempts': 0}}\n",
      "arn:aws:iam::aws:policy/AWSCodeBuildAdminAccess\n",
      "{'ResponseMetadata': {'RequestId': 'bdf1b27d-7310-4d1e-9d93-14d1e938d0d3', 'HTTPStatusCode': 200, 'HTTPHeaders': {'x-amzn-requestid': 'bdf1b27d-7310-4d1e-9d93-14d1e938d0d3', 'content-type': 'text/xml', 'content-length': '212', 'date': 'Thu, 04 May 2023 15:30:23 GMT'}, 'RetryAttempts': 0}}\n",
      "arn:aws:iam::aws:policy/AWSCodeCommitFullAccess\n",
      "{'ResponseMetadata': {'RequestId': 'e5e96fe4-d7a8-453d-bdff-d1fe087e29eb', 'HTTPStatusCode': 200, 'HTTPHeaders': {'x-amzn-requestid': 'e5e96fe4-d7a8-453d-bdff-d1fe087e29eb', 'content-type': 'text/xml', 'content-length': '212', 'date': 'Thu, 04 May 2023 15:30:23 GMT'}, 'RetryAttempts': 0}}\n",
      "arn:aws:iam::aws:policy/CloudWatchFullAccess\n",
      "{'ResponseMetadata': {'RequestId': 'da07fdd9-b1ae-4bab-8ad4-edfb73557417', 'HTTPStatusCode': 200, 'HTTPHeaders': {'x-amzn-requestid': 'da07fdd9-b1ae-4bab-8ad4-edfb73557417', 'content-type': 'text/xml', 'content-length': '212', 'date': 'Thu, 04 May 2023 15:30:23 GMT'}, 'RetryAttempts': 0}}\n",
      "arn:aws:iam::aws:policy/AmazonSageMakerFullAccess\n",
      "{'ResponseMetadata': {'RequestId': '4f19803f-7ada-4bce-af25-3e64c24023ec', 'HTTPStatusCode': 200, 'HTTPHeaders': {'x-amzn-requestid': '4f19803f-7ada-4bce-af25-3e64c24023ec', 'content-type': 'text/xml', 'content-length': '212', 'date': 'Thu, 04 May 2023 15:30:23 GMT'}, 'RetryAttempts': 0}}\n",
      "arn:aws:iam::aws:policy/AmazonS3FullAccess\n",
      "{'ResponseMetadata': {'RequestId': '63ef1f09-c564-41a0-bd24-89d5a1d02224', 'HTTPStatusCode': 200, 'HTTPHeaders': {'x-amzn-requestid': '63ef1f09-c564-41a0-bd24-89d5a1d02224', 'content-type': 'text/xml', 'content-length': '212', 'date': 'Thu, 04 May 2023 15:30:23 GMT'}, 'RetryAttempts': 0}}\n",
      "arn:aws:iam::aws:policy/AWSLambda_FullAccess\n",
      "  Service name: ['codebuild.amazonaws.com', 'sagemaker.amazonaws.com'], \n",
      "  Role name: DJ-SM-IMD-CodeBuildRole, \n",
      "  Policys: ['arn:aws:iam::aws:policy/AWSCodeCommitFullAccess', 'arn:aws:iam::aws:policy/AWSCodeBuildAdminAccess', 'arn:aws:iam::aws:policy/AmazonS3FullAccess', 'arn:aws:iam::aws:policy/CloudWatchFullAccess', 'arn:aws:iam::aws:policy/AmazonSageMakerFullAccess', 'arn:aws:iam::aws:policy/AWSLambda_FullAccess', 'arn:aws:iam::aws:policy/AmazonSSMFullAccess'], \n",
      "  Role ARN: arn:aws:iam::419974056037:role/DJ-SM-IMD-CodeBuildRole\n",
      "== COMPLETED ==\n",
      "CODE-BUILD-ROLE-ARN: arn:aws:iam::419974056037:role/DJ-SM-IMD-CodeBuildRole\n"
     ]
    }
   ],
   "source": [
    "buildRoleArn = iam.create_role(\n",
    "    listService=listService,\n",
    "    strRoleName=strRoleName,\n",
    "    listPolicyArn = listPolicyArn,\n",
    "    strDescription=strDescription\n",
    ")\n",
    "print (f\"CODE-BUILD-ROLE-ARN: {buildRoleArn}\")"
   ]
  },
  {
   "cell_type": "markdown",
   "id": "b9a09e07-80a0-40a2-a8a2-9cf763aa11a6",
   "metadata": {
    "tags": []
   },
   "source": [
    "### 1.5 role-codepipeline"
   ]
  },
  {
   "cell_type": "code",
   "execution_count": 42,
   "id": "12eb5771-59de-4e66-aa2d-bfad4d9ac422",
   "metadata": {
    "tags": []
   },
   "outputs": [],
   "source": [
    "listService = [\"codepipeline.amazonaws.com\", \"codebuild.amazonaws.com\"]\n",
    "strRoleName = \"-\".join([strPrefix, \"CodePipelineRole\"])\n",
    "listPolicyArn = [\n",
    "    \"arn:aws:iam::aws:policy/AWSCodeCommitFullAccess\",\n",
    "    \"arn:aws:iam::aws:policy/AmazonS3FullAccess\",\n",
    "    \"arn:aws:iam::aws:policy/AWSCodeBuildAdminAccess\",\n",
    "    \"arn:aws:iam::aws:policy/AWSCodeDeployFullAccess\",\n",
    "    \"arn:aws:iam::aws:policy/AWSCodePipeline_FullAccess\"\n",
    "]\n",
    "strDescription=\"Role for CodePipeline\""
   ]
  },
  {
   "cell_type": "code",
   "execution_count": 43,
   "id": "b144f1f6-660d-4d82-b233-4cda985f62ad",
   "metadata": {
    "tags": []
   },
   "outputs": [
    {
     "name": "stdout",
     "output_type": "stream",
     "text": [
      "== CREATE ROLE ==\n",
      "  Role Name: [DJ-SM-IMD-CodePipelineRole] is already exist!!, so, this will be deleted and re-created.\n",
      "{'ResponseMetadata': {'RequestId': 'f591bafa-bd05-4f95-900f-167438a1bccd', 'HTTPStatusCode': 200, 'HTTPHeaders': {'x-amzn-requestid': 'f591bafa-bd05-4f95-900f-167438a1bccd', 'content-type': 'text/xml', 'content-length': '212', 'date': 'Thu, 04 May 2023 15:30:24 GMT'}, 'RetryAttempts': 0}}\n",
      "arn:aws:iam::aws:policy/AWSCodeBuildAdminAccess\n",
      "{'ResponseMetadata': {'RequestId': '1c75acb7-e22f-4713-9117-994d9be84c69', 'HTTPStatusCode': 200, 'HTTPHeaders': {'x-amzn-requestid': '1c75acb7-e22f-4713-9117-994d9be84c69', 'content-type': 'text/xml', 'content-length': '212', 'date': 'Thu, 04 May 2023 15:30:24 GMT'}, 'RetryAttempts': 0}}\n",
      "arn:aws:iam::aws:policy/AWSCodeCommitFullAccess\n",
      "{'ResponseMetadata': {'RequestId': '83b24a40-bbca-4646-96bc-0c920654d317', 'HTTPStatusCode': 200, 'HTTPHeaders': {'x-amzn-requestid': '83b24a40-bbca-4646-96bc-0c920654d317', 'content-type': 'text/xml', 'content-length': '212', 'date': 'Thu, 04 May 2023 15:30:24 GMT'}, 'RetryAttempts': 0}}\n",
      "arn:aws:iam::aws:policy/AWSCodeDeployFullAccess\n",
      "{'ResponseMetadata': {'RequestId': 'aa7eed59-eff2-40a5-afe7-ff34ad33357c', 'HTTPStatusCode': 200, 'HTTPHeaders': {'x-amzn-requestid': 'aa7eed59-eff2-40a5-afe7-ff34ad33357c', 'content-type': 'text/xml', 'content-length': '212', 'date': 'Thu, 04 May 2023 15:30:24 GMT'}, 'RetryAttempts': 0}}\n",
      "arn:aws:iam::aws:policy/AmazonS3FullAccess\n",
      "{'ResponseMetadata': {'RequestId': '34b6c9f6-d235-4cf9-8609-6929f82e8caa', 'HTTPStatusCode': 200, 'HTTPHeaders': {'x-amzn-requestid': '34b6c9f6-d235-4cf9-8609-6929f82e8caa', 'content-type': 'text/xml', 'content-length': '212', 'date': 'Thu, 04 May 2023 15:30:25 GMT'}, 'RetryAttempts': 0}}\n",
      "arn:aws:iam::aws:policy/AWSCodePipeline_FullAccess\n",
      "  Service name: ['codepipeline.amazonaws.com', 'codebuild.amazonaws.com'], \n",
      "  Role name: DJ-SM-IMD-CodePipelineRole, \n",
      "  Policys: ['arn:aws:iam::aws:policy/AWSCodeCommitFullAccess', 'arn:aws:iam::aws:policy/AmazonS3FullAccess', 'arn:aws:iam::aws:policy/AWSCodeBuildAdminAccess', 'arn:aws:iam::aws:policy/AWSCodeDeployFullAccess', 'arn:aws:iam::aws:policy/AWSCodePipeline_FullAccess'], \n",
      "  Role ARN: arn:aws:iam::419974056037:role/DJ-SM-IMD-CodePipelineRole\n",
      "== COMPLETED ==\n",
      "CODE-PIPELINE-ROLE-ARN: arn:aws:iam::419974056037:role/DJ-SM-IMD-CodePipelineRole\n"
     ]
    }
   ],
   "source": [
    "pipelineRoleArn = iam.create_role(\n",
    "    listService=listService,\n",
    "    strRoleName=strRoleName,\n",
    "    listPolicyArn = listPolicyArn,\n",
    "    strDescription=strDescription\n",
    ")\n",
    "\n",
    "print (f\"CODE-PIPELINE-ROLE-ARN: {pipelineRoleArn}\")"
   ]
  },
  {
   "cell_type": "markdown",
   "id": "347b6fb0-4702-48a1-8a89-85c87a8cb656",
   "metadata": {},
   "source": [
    "### 1.6 role-eventbridge"
   ]
  },
  {
   "cell_type": "code",
   "execution_count": 44,
   "id": "854cefcd-0170-4ecd-8ed9-f8065759ca18",
   "metadata": {
    "tags": []
   },
   "outputs": [],
   "source": [
    "listService = [\"events.amazonaws.com\"]\n",
    "strRoleName = \"-\".join([strPrefix, \"EventBridgeRole\"])\n",
    "listPolicyArn = [\n",
    "    \"arn:aws:iam::aws:policy/AmazonEventBridgeFullAccess\",\n",
    "]\n",
    "strDescription=\"Role for EventBridge\""
   ]
  },
  {
   "cell_type": "code",
   "execution_count": 45,
   "id": "c2e365a8-9925-4b6f-80d0-9a0ecec3ec3b",
   "metadata": {
    "tags": []
   },
   "outputs": [
    {
     "name": "stdout",
     "output_type": "stream",
     "text": [
      "== CREATE ROLE ==\n",
      "  Role Name: [DJ-SM-IMD-EventBridgeRole] is already exist!!, so, this will be deleted and re-created.\n",
      "{'ResponseMetadata': {'RequestId': 'cc07dbce-69f0-46ed-a71b-1be7167822f2', 'HTTPStatusCode': 200, 'HTTPHeaders': {'x-amzn-requestid': 'cc07dbce-69f0-46ed-a71b-1be7167822f2', 'content-type': 'text/xml', 'content-length': '212', 'date': 'Thu, 04 May 2023 15:30:25 GMT'}, 'RetryAttempts': 0}}\n",
      "arn:aws:iam::aws:policy/AmazonEventBridgeFullAccess\n",
      "  Service name: ['events.amazonaws.com'], \n",
      "  Role name: DJ-SM-IMD-EventBridgeRole, \n",
      "  Policys: ['arn:aws:iam::aws:policy/AmazonEventBridgeFullAccess'], \n",
      "  Role ARN: arn:aws:iam::419974056037:role/DJ-SM-IMD-EventBridgeRole\n",
      "== COMPLETED ==\n",
      "CODE-PIPELINE-ROLE-ARN: arn:aws:iam::419974056037:role/DJ-SM-IMD-EventBridgeRole\n"
     ]
    }
   ],
   "source": [
    "eventBridgeRoleArn = iam.create_role(\n",
    "    listService=listService,\n",
    "    strRoleName=strRoleName,\n",
    "    listPolicyArn = listPolicyArn,\n",
    "    strDescription=strDescription\n",
    ")\n",
    "\n",
    "print (f\"CODE-PIPELINE-ROLE-ARN: {eventBridgeRoleArn}\")"
   ]
  },
  {
   "cell_type": "markdown",
   "id": "87fe7a4b-03e1-4422-8bd5-62d30e0a419f",
   "metadata": {},
   "source": [
    "## 2. Set default parameters"
   ]
  },
  {
   "cell_type": "code",
   "execution_count": 46,
   "id": "e5e8ad58-6a1e-41b4-88e5-aec263ef935e",
   "metadata": {
    "tags": []
   },
   "outputs": [],
   "source": [
    "import boto3\n",
    "import sagemaker\n",
    "from utils.ssm import parameter_store"
   ]
  },
  {
   "cell_type": "code",
   "execution_count": 47,
   "id": "f5aed719-2937-49ca-a675-f83b5a6bccd7",
   "metadata": {
    "tags": []
   },
   "outputs": [],
   "source": [
    "strRegionName=boto3.Session().region_name\n",
    "pm = parameter_store(strRegionName)"
   ]
  },
  {
   "cell_type": "code",
   "execution_count": 48,
   "id": "0cbbe6c5-469a-4952-ae8d-927d0dcdc19e",
   "metadata": {
    "tags": []
   },
   "outputs": [
    {
     "data": {
      "text/plain": [
       "'Store suceess'"
      ]
     },
     "execution_count": 48,
     "metadata": {},
     "output_type": "execute_result"
    }
   ],
   "source": [
    "pm.put_params(key=\"PREFIX\", value=strPrefix, overwrite=True)\n",
    "pm.put_params(key=\"-\".join([strPrefix, \"REGION\"]), value=strRegionName, overwrite=True)\n",
    "pm.put_params(key=\"-\".join([strPrefix, \"BUCKET\"]), value=sagemaker.Session().default_bucket(), overwrite=True)\n",
    "pm.put_params(key=\"-\".join([strPrefix, \"SAGEMAKER-ROLE-ARN\"]), value=get_execution_role(), overwrite=True)\n",
    "pm.put_params(key=\"-\".join([strPrefix, \"ACCOUNT-ID\"]), value=boto3.client(\"sts\").get_caller_identity().get(\"Account\"), overwrite=True)\n",
    "pm.put_params(key=\"-\".join([strPrefix, \"LAMBDA-ROLE-ARN\"]), value=lambdaRoleArn, overwrite=True)\n",
    "#pm.put_params(key=\"-\".join([strPrefix, \"CODE-BUILD-ROLE-ARN\"]), value=buildRoleArn, overwrite=True)\n",
    "#pm.put_params(key=\"-\".join([strPrefix, \"CODE-PIPELINE-ROLE-ARN\"]), value=pipelineRoleArn, overwrite=True)\n",
    "pm.put_params(key=\"-\".join([strPrefix, \"CODE-EVENTBRIDGE-ROLE-ARN\"]), value=eventBridgeRoleArn, overwrite=True)"
   ]
  },
  {
   "cell_type": "code",
   "execution_count": 49,
   "id": "91146dd9-d048-4a6b-86cc-f0aa93e2c2f8",
   "metadata": {
    "tags": []
   },
   "outputs": [
    {
     "name": "stdout",
     "output_type": "stream",
     "text": [
      "REGION:  us-east-1\n",
      "BUCKET:  sagemaker-us-east-1-419974056037\n",
      "SAGEMAKER-ROLE-ARN:  arn:aws:iam::419974056037:role/service-role/AmazonSageMaker-ExecutionRole-20221206T163436\n",
      "ACCOUNT-ID:  419974056037\n",
      "LAMBDA-ROLE-ARN:  arn:aws:iam::419974056037:role/DJ-SM-IMD-LabmdaRole\n",
      "CODE-EVENTBRIDGE-ROLE-ARN:  arn:aws:iam::419974056037:role/DJ-SM-IMD-EventBridgeRole\n"
     ]
    }
   ],
   "source": [
    "print (\"REGION: \", pm.get_params(key=\"-\".join([strPrefix, \"REGION\"])))\n",
    "print (\"BUCKET: \", pm.get_params(key=\"-\".join([strPrefix, \"BUCKET\"])))\n",
    "print (\"SAGEMAKER-ROLE-ARN: \", pm.get_params(key=\"-\".join([strPrefix, \"SAGEMAKER-ROLE-ARN\"])))\n",
    "print (\"ACCOUNT-ID: \", pm.get_params(key=\"-\".join([strPrefix, \"ACCOUNT-ID\"])))\n",
    "print (\"LAMBDA-ROLE-ARN: \", pm.get_params(key=\"-\".join([strPrefix, \"LAMBDA-ROLE-ARN\"])))\n",
    "#print (\"CODE-BUILD-ROLE-ARN: \", pm.get_params(key=\"-\".join([strPrefix, \"CODE-BUILD-ROLE-ARN\"])))\n",
    "#print (\"CODE-PIPELINE-ROLE-ARN: \", pm.get_params(key=\"-\".join([strPrefix, \"CODE-PIPELINE-ROLE-ARN\"])))\n",
    "print (\"CODE-EVENTBRIDGE-ROLE-ARN: \", pm.get_params(key=\"-\".join([strPrefix, \"CODE-EVENTBRIDGE-ROLE-ARN\"])))"
   ]
  },
  {
   "cell_type": "code",
   "execution_count": null,
   "id": "d6bf570f-6fee-47ed-a090-950916b7b27b",
   "metadata": {},
   "outputs": [],
   "source": []
  }
 ],
 "metadata": {
  "kernelspec": {
   "display_name": "conda_python3",
   "language": "python",
   "name": "conda_python3"
  },
  "language_info": {
   "codemirror_mode": {
    "name": "ipython",
    "version": 3
   },
   "file_extension": ".py",
   "mimetype": "text/x-python",
   "name": "python",
   "nbconvert_exporter": "python",
   "pygments_lexer": "ipython3",
   "version": "3.10.8"
  },
  "vscode": {
   "interpreter": {
    "hash": "1f4a227f2552de404565d6626d9115986c409361ad6ef0bf195ad88ccd012b73"
   }
  }
 },
 "nbformat": 4,
 "nbformat_minor": 5
}
