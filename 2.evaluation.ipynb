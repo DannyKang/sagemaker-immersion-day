{
 "cells": [
  {
   "cell_type": "markdown",
   "id": "327dd0be-8ba8-43e5-b178-eb1db8d3d40a",
   "metadata": {
    "tags": []
   },
   "source": [
    "# <B> # SageMaker Evaluation with Processing </B>\n",
    "* Container: codna_pytorch_p39"
   ]
  },
  {
   "cell_type": "markdown",
   "id": "37edc0d7-aa20-42d9-bd06-2883664f7dc6",
   "metadata": {
    "tags": []
   },
   "source": [
    "## 학습 작업의 실행 노트북 개요\n",
    "\n",
    "- SageMaker Training에 SageMaker 실험을 추가하여 여러 실험의 결과를 비교할 수 있습니다.\n",
    "    - [Evaluation 하기](#Evaluation-하기)"
   ]
  },
  {
   "cell_type": "markdown",
   "id": "52ecd494-5ac0-4f66-a3cc-340e847e3c46",
   "metadata": {},
   "source": [
    "## AutoReload"
   ]
  },
  {
   "cell_type": "code",
   "execution_count": 3,
   "id": "c07a9ee3-c178-41b6-a212-2a33f65dc377",
   "metadata": {
    "tags": []
   },
   "outputs": [
    {
     "name": "stdout",
     "output_type": "stream",
     "text": [
      "The autoreload extension is already loaded. To reload it, use:\n",
      "  %reload_ext autoreload\n"
     ]
    }
   ],
   "source": [
    "%load_ext autoreload\n",
    "%autoreload 2"
   ]
  },
  {
   "cell_type": "markdown",
   "id": "044d087e-68b7-42f2-89a7-4f0a84345ed4",
   "metadata": {},
   "source": [
    "## 0. Install packages"
   ]
  },
  {
   "cell_type": "code",
   "execution_count": 2,
   "id": "cbbc26ef-076a-4962-a893-e7db013534cf",
   "metadata": {
    "tags": []
   },
   "outputs": [],
   "source": [
    "install_needed = True  # should only be True once\n",
    "# install_needed = False"
   ]
  },
  {
   "cell_type": "code",
   "execution_count": 7,
   "id": "49be1d23-7472-47f2-889e-48b92f48a183",
   "metadata": {
    "tags": []
   },
   "outputs": [
    {
     "name": "stdout",
     "output_type": "stream",
     "text": [
      "Already revised\n"
     ]
    }
   ],
   "source": [
    "%%bash\n",
    "#!/bin/bash\n",
    "\n",
    "DAEMON_PATH=\"/etc/docker\"\n",
    "MEMORY_SIZE=10G\n",
    "\n",
    "FLAG=$(cat $DAEMON_PATH/daemon.json | jq 'has(\"data-root\")')\n",
    "# echo $FLAG\n",
    "\n",
    "if [ \"$FLAG\" == true ]; then\n",
    "    echo \"Already revised\"\n",
    "else\n",
    "    echo \"Add data-root and default-shm-size=$MEMORY_SIZE\"\n",
    "    sudo cp $DAEMON_PATH/daemon.json $DAEMON_PATH/daemon.json.bak\n",
    "    sudo cat $DAEMON_PATH/daemon.json.bak | jq '. += {\"data-root\":\"/home/ec2-user/SageMaker/.container/docker\",\"default-shm-size\":\"'$MEMORY_SIZE'\"}' | sudo tee $DAEMON_PATH/daemon.json > /dev/null\n",
    "    sudo service docker restart\n",
    "    echo \"Docker Restart\"\n",
    "fi"
   ]
  },
  {
   "cell_type": "code",
   "execution_count": 8,
   "id": "fe9fe5bf-a8f8-4275-953f-0470438c4e80",
   "metadata": {
    "collapsed": true,
    "jupyter": {
     "outputs_hidden": true
    },
    "tags": []
   },
   "outputs": [
    {
     "name": "stdout",
     "output_type": "stream",
     "text": [
      "installing deps and restarting kernel\n",
      "Looking in indexes: https://pypi.org/simple, https://pip.repos.neuron.amazonaws.com\n",
      "Requirement already satisfied: pip in /home/ec2-user/anaconda3/envs/pytorch_p39/lib/python3.9/site-packages (23.0.1)\n",
      "Looking in indexes: https://pypi.org/simple, https://pip.repos.neuron.amazonaws.com\n",
      "Requirement already satisfied: smdebug in /home/ec2-user/anaconda3/envs/pytorch_p39/lib/python3.9/site-packages (1.0.12)\n",
      "Requirement already satisfied: sagemaker-experiments in /home/ec2-user/anaconda3/envs/pytorch_p39/lib/python3.9/site-packages (0.1.43)\n",
      "Requirement already satisfied: numpy>=1.16.0 in /home/ec2-user/anaconda3/envs/pytorch_p39/lib/python3.9/site-packages (from smdebug) (1.23.5)\n",
      "Requirement already satisfied: pyinstrument==3.4.2 in /home/ec2-user/anaconda3/envs/pytorch_p39/lib/python3.9/site-packages (from smdebug) (3.4.2)\n",
      "Requirement already satisfied: boto3>=1.10.32 in /home/ec2-user/anaconda3/envs/pytorch_p39/lib/python3.9/site-packages (from smdebug) (1.26.71)\n",
      "Requirement already satisfied: packaging in /home/ec2-user/anaconda3/envs/pytorch_p39/lib/python3.9/site-packages (from smdebug) (21.3)\n",
      "Requirement already satisfied: protobuf>=3.6.0 in /home/ec2-user/anaconda3/envs/pytorch_p39/lib/python3.9/site-packages (from smdebug) (3.20.2)\n",
      "Requirement already satisfied: pyinstrument-cext>=0.2.2 in /home/ec2-user/anaconda3/envs/pytorch_p39/lib/python3.9/site-packages (from pyinstrument==3.4.2->smdebug) (0.2.4)\n",
      "Requirement already satisfied: jmespath<2.0.0,>=0.7.1 in /home/ec2-user/anaconda3/envs/pytorch_p39/lib/python3.9/site-packages (from boto3>=1.10.32->smdebug) (1.0.1)\n",
      "Requirement already satisfied: botocore<1.30.0,>=1.29.71 in /home/ec2-user/anaconda3/envs/pytorch_p39/lib/python3.9/site-packages (from boto3>=1.10.32->smdebug) (1.29.71)\n",
      "Requirement already satisfied: s3transfer<0.7.0,>=0.6.0 in /home/ec2-user/anaconda3/envs/pytorch_p39/lib/python3.9/site-packages (from boto3>=1.10.32->smdebug) (0.6.0)\n",
      "Requirement already satisfied: pyparsing!=3.0.5,>=2.0.2 in /home/ec2-user/anaconda3/envs/pytorch_p39/lib/python3.9/site-packages (from packaging->smdebug) (3.0.9)\n",
      "Requirement already satisfied: urllib3<1.27,>=1.25.4 in /home/ec2-user/anaconda3/envs/pytorch_p39/lib/python3.9/site-packages (from botocore<1.30.0,>=1.29.71->boto3>=1.10.32->smdebug) (1.26.15)\n",
      "Requirement already satisfied: python-dateutil<3.0.0,>=2.1 in /home/ec2-user/anaconda3/envs/pytorch_p39/lib/python3.9/site-packages (from botocore<1.30.0,>=1.29.71->boto3>=1.10.32->smdebug) (2.8.2)\n",
      "Requirement already satisfied: six>=1.5 in /home/ec2-user/anaconda3/envs/pytorch_p39/lib/python3.9/site-packages (from python-dateutil<3.0.0,>=2.1->botocore<1.30.0,>=1.29.71->boto3>=1.10.32->smdebug) (1.16.0)\n",
      "Looking in indexes: https://pypi.org/simple, https://pip.repos.neuron.amazonaws.com\n",
      "Requirement already satisfied: sagemaker in /home/ec2-user/anaconda3/envs/pytorch_p39/lib/python3.9/site-packages (2.143.0)\n",
      "Collecting sagemaker\n",
      "  Using cached sagemaker-2.145.0.tar.gz (714 kB)\n",
      "  Preparing metadata (setup.py) ... \u001b[?25ldone\n",
      "\u001b[?25hRequirement already satisfied: attrs<23,>=20.3.0 in /home/ec2-user/anaconda3/envs/pytorch_p39/lib/python3.9/site-packages (from sagemaker) (22.2.0)\n",
      "Requirement already satisfied: boto3<2.0,>=1.26.28 in /home/ec2-user/anaconda3/envs/pytorch_p39/lib/python3.9/site-packages (from sagemaker) (1.26.71)\n",
      "Requirement already satisfied: google-pasta in /home/ec2-user/anaconda3/envs/pytorch_p39/lib/python3.9/site-packages (from sagemaker) (0.2.0)\n",
      "Requirement already satisfied: numpy<2.0,>=1.9.0 in /home/ec2-user/anaconda3/envs/pytorch_p39/lib/python3.9/site-packages (from sagemaker) (1.23.5)\n",
      "Requirement already satisfied: protobuf<4.0,>=3.1 in /home/ec2-user/anaconda3/envs/pytorch_p39/lib/python3.9/site-packages (from sagemaker) (3.20.2)\n",
      "Requirement already satisfied: protobuf3-to-dict<1.0,>=0.1.5 in /home/ec2-user/anaconda3/envs/pytorch_p39/lib/python3.9/site-packages (from sagemaker) (0.1.5)\n",
      "Requirement already satisfied: smdebug_rulesconfig==1.0.1 in /home/ec2-user/anaconda3/envs/pytorch_p39/lib/python3.9/site-packages (from sagemaker) (1.0.1)\n",
      "Requirement already satisfied: importlib-metadata<5.0,>=1.4.0 in /home/ec2-user/anaconda3/envs/pytorch_p39/lib/python3.9/site-packages (from sagemaker) (4.13.0)\n",
      "Requirement already satisfied: packaging>=20.0 in /home/ec2-user/anaconda3/envs/pytorch_p39/lib/python3.9/site-packages (from sagemaker) (21.3)\n",
      "Requirement already satisfied: pandas in /home/ec2-user/anaconda3/envs/pytorch_p39/lib/python3.9/site-packages (from sagemaker) (1.4.4)\n",
      "Requirement already satisfied: pathos in /home/ec2-user/anaconda3/envs/pytorch_p39/lib/python3.9/site-packages (from sagemaker) (0.3.0)\n",
      "Requirement already satisfied: schema in /home/ec2-user/anaconda3/envs/pytorch_p39/lib/python3.9/site-packages (from sagemaker) (0.7.5)\n",
      "Requirement already satisfied: PyYAML==5.4.1 in /home/ec2-user/anaconda3/envs/pytorch_p39/lib/python3.9/site-packages (from sagemaker) (5.4.1)\n",
      "Requirement already satisfied: jsonschema in /home/ec2-user/anaconda3/envs/pytorch_p39/lib/python3.9/site-packages (from sagemaker) (3.2.0)\n",
      "Requirement already satisfied: platformdirs in /home/ec2-user/anaconda3/envs/pytorch_p39/lib/python3.9/site-packages (from sagemaker) (2.6.2)\n",
      "Requirement already satisfied: botocore<1.30.0,>=1.29.71 in /home/ec2-user/anaconda3/envs/pytorch_p39/lib/python3.9/site-packages (from boto3<2.0,>=1.26.28->sagemaker) (1.29.71)\n",
      "Requirement already satisfied: jmespath<2.0.0,>=0.7.1 in /home/ec2-user/anaconda3/envs/pytorch_p39/lib/python3.9/site-packages (from boto3<2.0,>=1.26.28->sagemaker) (1.0.1)\n",
      "Requirement already satisfied: s3transfer<0.7.0,>=0.6.0 in /home/ec2-user/anaconda3/envs/pytorch_p39/lib/python3.9/site-packages (from boto3<2.0,>=1.26.28->sagemaker) (0.6.0)\n",
      "Requirement already satisfied: zipp>=0.5 in /home/ec2-user/anaconda3/envs/pytorch_p39/lib/python3.9/site-packages (from importlib-metadata<5.0,>=1.4.0->sagemaker) (3.11.0)\n",
      "Requirement already satisfied: pyparsing!=3.0.5,>=2.0.2 in /home/ec2-user/anaconda3/envs/pytorch_p39/lib/python3.9/site-packages (from packaging>=20.0->sagemaker) (3.0.9)\n",
      "Requirement already satisfied: six in /home/ec2-user/anaconda3/envs/pytorch_p39/lib/python3.9/site-packages (from protobuf3-to-dict<1.0,>=0.1.5->sagemaker) (1.16.0)\n",
      "Requirement already satisfied: pyrsistent>=0.14.0 in /home/ec2-user/anaconda3/envs/pytorch_p39/lib/python3.9/site-packages (from jsonschema->sagemaker) (0.19.3)\n",
      "Requirement already satisfied: setuptools in /home/ec2-user/anaconda3/envs/pytorch_p39/lib/python3.9/site-packages (from jsonschema->sagemaker) (65.5.1)\n",
      "Requirement already satisfied: python-dateutil>=2.8.1 in /home/ec2-user/anaconda3/envs/pytorch_p39/lib/python3.9/site-packages (from pandas->sagemaker) (2.8.2)\n",
      "Requirement already satisfied: pytz>=2020.1 in /home/ec2-user/anaconda3/envs/pytorch_p39/lib/python3.9/site-packages (from pandas->sagemaker) (2022.7)\n",
      "Requirement already satisfied: multiprocess>=0.70.14 in /home/ec2-user/anaconda3/envs/pytorch_p39/lib/python3.9/site-packages (from pathos->sagemaker) (0.70.14)\n",
      "Requirement already satisfied: pox>=0.3.2 in /home/ec2-user/anaconda3/envs/pytorch_p39/lib/python3.9/site-packages (from pathos->sagemaker) (0.3.2)\n",
      "Requirement already satisfied: dill>=0.3.6 in /home/ec2-user/anaconda3/envs/pytorch_p39/lib/python3.9/site-packages (from pathos->sagemaker) (0.3.6)\n",
      "Requirement already satisfied: ppft>=1.7.6.6 in /home/ec2-user/anaconda3/envs/pytorch_p39/lib/python3.9/site-packages (from pathos->sagemaker) (1.7.6.6)\n",
      "Requirement already satisfied: contextlib2>=0.5.5 in /home/ec2-user/anaconda3/envs/pytorch_p39/lib/python3.9/site-packages (from schema->sagemaker) (21.6.0)\n",
      "Requirement already satisfied: urllib3<1.27,>=1.25.4 in /home/ec2-user/anaconda3/envs/pytorch_p39/lib/python3.9/site-packages (from botocore<1.30.0,>=1.29.71->boto3<2.0,>=1.26.28->sagemaker) (1.26.15)\n",
      "Building wheels for collected packages: sagemaker\n",
      "  Building wheel for sagemaker (setup.py) ... \u001b[?25ldone\n",
      "\u001b[?25h  Created wheel for sagemaker: filename=sagemaker-2.145.0-py2.py3-none-any.whl size=959452 sha256=81ff74c3fb79656f2e078588cc6ebd24018fc9401896eb5262ff45fbe9deb284\n",
      "  Stored in directory: /home/ec2-user/.cache/pip/wheels/fa/df/70/4cea9477b77a1608e68c3adbbeb5b74b4c0908fc3f8f5735b8\n",
      "Successfully built sagemaker\n",
      "Installing collected packages: sagemaker\n",
      "  Attempting uninstall: sagemaker\n",
      "    Found existing installation: sagemaker 2.143.0\n",
      "    Uninstalling sagemaker-2.143.0:\n",
      "      Successfully uninstalled sagemaker-2.143.0\n",
      "Successfully installed sagemaker-2.145.0\n"
     ]
    }
   ],
   "source": [
    "import sys\n",
    "import IPython\n",
    "\n",
    "if install_needed:\n",
    "    print(\"installing deps and restarting kernel\")\n",
    "    !{sys.executable} -m pip install -U pip\n",
    "    !{sys.executable} -m pip install -U smdebug sagemaker-experiments\n",
    "    !{sys.executable} -m pip install -U sagemaker\n",
    "    \n",
    "    IPython.Application.instance().kernel.do_shutdown(True)"
   ]
  },
  {
   "cell_type": "markdown",
   "id": "bccc9dda-9dad-4f81-8dd5-53b5623f1d93",
   "metadata": {
    "tags": []
   },
   "source": [
    "## 1. parameter store 설정"
   ]
  },
  {
   "cell_type": "code",
   "execution_count": 4,
   "id": "1d6e737a-557b-44c7-a5c2-f6798bf0c430",
   "metadata": {
    "tags": []
   },
   "outputs": [],
   "source": [
    "import boto3\n",
    "from utils.ssm import parameter_store"
   ]
  },
  {
   "cell_type": "code",
   "execution_count": 5,
   "id": "3f9894a8-4249-4fcc-9b44-d5f43f4fd867",
   "metadata": {
    "tags": []
   },
   "outputs": [],
   "source": [
    "strRegionName=boto3.Session().region_name\n",
    "pm = parameter_store(strRegionName)\n",
    "strPrefix = pm.get_params(key=\"PREFIX\")"
   ]
  },
  {
   "cell_type": "code",
   "execution_count": 6,
   "id": "6fe3068d-8afa-4cdd-a13e-ba2db61ed822",
   "metadata": {
    "tags": []
   },
   "outputs": [],
   "source": [
    "strBucketName = pm.get_params(key=\"-\".join([strPrefix, \"BUCKET\"]))\n",
    "strExecutionRole = pm.get_params(key=\"-\".join([strPrefix, \"SAGEMAKER-ROLE-ARN\"]))"
   ]
  },
  {
   "cell_type": "markdown",
   "id": "968b6452-fb2f-4ed9-aae9-55e310d567ba",
   "metadata": {},
   "source": [
    "## 2. Dataset"
   ]
  },
  {
   "cell_type": "code",
   "execution_count": 7,
   "id": "e227473a-2ddc-48aa-bc76-4ba310454749",
   "metadata": {
    "tags": []
   },
   "outputs": [],
   "source": [
    "import os"
   ]
  },
  {
   "cell_type": "code",
   "execution_count": 8,
   "id": "aaecc942-d54d-44d0-8552-ec183e833bf2",
   "metadata": {
    "tags": []
   },
   "outputs": [],
   "source": [
    "strS3DataPath = f\"s3://{strBucketName}/dataset\" \n",
    "strLocalDataPath = os.path.join(os.getcwd(), \"data\")"
   ]
  },
  {
   "cell_type": "markdown",
   "id": "c0674243-6019-4e5e-8563-2fd17ca8ae95",
   "metadata": {
    "tags": []
   },
   "source": [
    "## 3.Evaluation (Processing-job)"
   ]
  },
  {
   "cell_type": "code",
   "execution_count": 9,
   "id": "e68c1bf7-336d-46b9-940e-9e5b570e1793",
   "metadata": {
    "tags": []
   },
   "outputs": [],
   "source": [
    "import os\n",
    "import sagemaker\n",
    "from sagemaker.xgboost.estimator import XGBoost\n",
    "from sagemaker.processing import ProcessingInput, ProcessingOutput, FrameworkProcessor"
   ]
  },
  {
   "cell_type": "markdown",
   "id": "85e3076c-bfae-4589-963a-4f1288761e62",
   "metadata": {},
   "source": [
    "* params for training job"
   ]
  },
  {
   "cell_type": "code",
   "execution_count": 11,
   "id": "c7460084-c1f4-472d-909c-ce723634b26b",
   "metadata": {
    "tags": []
   },
   "outputs": [],
   "source": [
    "# Set to True to enable SageMaker to run locally\n",
    "local_mode = False\n",
    "\n",
    "if local_mode:\n",
    "    \n",
    "    from sagemaker.local import LocalSession\n",
    "    \n",
    "    strInstanceType = \"local\"\n",
    "    sagemaker_session = LocalSession()\n",
    "    #sagemaker_session.config = {'local': {'local_code': True}}    \n",
    "    strTestDataPath = os.path.join(strLocalDataPath, \"test.csv\")\n",
    "\n",
    "else:\n",
    "    strInstanceType = \"ml.m5.xlarge\" #\"ml.p3.2xlarge\"#\"ml.g4dn.8xlarge\"#\"ml.p3.2xlarge\", 'ml.p3.16xlarge' , ml.g4dn.8xlarge\n",
    "    \n",
    "    sagemaker_session = sagemaker.Session()\n",
    "    strTestDataPath = os.path.join(strS3DataPath, \"test.csv\")\n",
    "\n",
    "nInstanceCount = 1\n",
    "strProcPrefixPath = \"/opt/ml/processing\"\n",
    "\n",
    "strOutputPath = os.path.join(\n",
    "    \"s3://{}\".format(strBucketName),\n",
    "    strPrefix,\n",
    "    \"evaluation\",\n",
    "    \"output\"\n",
    ")\n",
    "\n",
    "strCodeLocation = os.path.join(\n",
    "    \"s3://{}\".format(strBucketName),\n",
    "    strPrefix,\n",
    "    \"evaluation\",\n",
    "    \"backup_codes\"\n",
    ")\n",
    "\n",
    "strS3ModelPath = pm.get_params(key=\"-\".join([strPrefix, \"MODEL-PATH\"]))\n",
    "strExperimentName = pm.get_params(key=\"-\".join([strPrefix, \"EXPERI-NAME\"]))\n",
    "\n",
    "## You can't override the metric definitions for Amazon SageMaker algorithms. \n",
    "# strNumeticRegEx = \"([0-9\\\\.]+)(e-?[[01][0-9])?\"\n",
    "# listMetricDefinitions = [\n",
    "#     {\"Name\": \"train_loss\", \"Regex\": f\"loss={strNumeticRegEx}\"},\n",
    "#     {\"Name\": \"wer\", \"Regex\": f\"wer:{strNumeticRegEx}\"}\n",
    "# ]\n",
    "\n",
    "# dicGitConfig = {\n",
    "#     'repo': f'https://{pm.get_params(key=\"-\".join([prefix, \"CODE_REPO\"]))}',\n",
    "#     'branch': 'main',\n",
    "#     'username': pm.get_params(key=\"-\".join([prefix, \"CODECOMMIT-USERNAME\"]), enc=True),\n",
    "#     'password': pm.get_params(key=\"-\".join([prefix, \"CODECOMMIT-PWD\"]), enc=True)\n",
    "# }  \n",
    "\n",
    "kwargs = {}"
   ]
  },
  {
   "cell_type": "code",
   "execution_count": 13,
   "id": "26003edf-356a-4e1d-82b1-c8085b508b76",
   "metadata": {
    "tags": []
   },
   "outputs": [
    {
     "name": "stdout",
     "output_type": "stream",
     "text": [
      "strInstanceType: ml.m5.xlarge\n",
      "nInstanceCount: 1\n",
      "sagemaker_session: <sagemaker.session.Session object at 0x7f3a1ae4a6a0>\n",
      "strExperimentName: DJ-SM-IMD-experiments\n",
      "strTestDataPath: s3://sagemaker-us-east-1-419974056037/dataset/test.csv\n",
      "strOutputPath: s3://sagemaker-us-east-1-419974056037/DJ-SM-IMD/evaluation/output\n",
      "strCodeLocation: s3://sagemaker-us-east-1-419974056037/DJ-SM-IMD/evaluation/backup_codes\n",
      "strS3ModelPath: s3://sagemaker-us-east-1-419974056037/DJ-SM-IMD/training/model-output/DJ-SM-IMD-experiments-0416-06421681627343/output/model.tar.gz\n"
     ]
    }
   ],
   "source": [
    "print (f'strInstanceType: {strInstanceType}')\n",
    "print (f'nInstanceCount: {nInstanceCount}')\n",
    "print (f'sagemaker_session: {sagemaker_session}')\n",
    "print (f'strExperimentName: {strExperimentName}')\n",
    "print (f'strTestDataPath: {strTestDataPath}')\n",
    "print (f'strOutputPath: {strOutputPath}')\n",
    "print (f'strCodeLocation: {strCodeLocation}')\n",
    "print (f'strS3ModelPath: {strS3ModelPath}')"
   ]
  },
  {
   "cell_type": "markdown",
   "id": "5604a35c-4057-4a4f-b308-640a9cc54277",
   "metadata": {},
   "source": [
    "* Define evaluation job (processing job)"
   ]
  },
  {
   "cell_type": "code",
   "execution_count": 14,
   "id": "f358cbc3-b8ce-4d94-8bdc-6baf02bc8cc2",
   "metadata": {
    "tags": []
   },
   "outputs": [],
   "source": [
    "evaluation_processor = FrameworkProcessor(\n",
    "    estimator_cls=XGBoost,\n",
    "    framework_version=\"1.3-1\",\n",
    "    image_uri=None,\n",
    "    role=strExecutionRole,\n",
    "    instance_type=strInstanceType,\n",
    "    instance_count=nInstanceCount,\n",
    "    base_job_name=\"evaluation\", # bucket에 보이는 이름 (pipeline으로 묶으면 pipeline에서 정의한 이름으로 bucket에 보임)\n",
    "    sagemaker_session=sagemaker_session\n",
    ")"
   ]
  },
  {
   "cell_type": "code",
   "execution_count": 15,
   "id": "a3be9e0b-7f4e-4ffa-ad36-8981b74284b2",
   "metadata": {
    "tags": []
   },
   "outputs": [
    {
     "name": "stderr",
     "output_type": "stream",
     "text": [
      "INFO:sagemaker:Creating processing-job with name evaluation-2023-04-16-06-46-36-874\n"
     ]
    },
    {
     "name": "stdout",
     "output_type": "stream",
     "text": [
      "........................\n",
      "\u001b[34mRequirement already satisfied: xgboost in /miniconda3/lib/python3.7/site-packages (1.3.3)\u001b[0m\n",
      "\u001b[34mRequirement already satisfied: scipy in /miniconda3/lib/python3.7/site-packages (from xgboost) (1.6.2)\u001b[0m\n",
      "\u001b[34mRequirement already satisfied: numpy in /miniconda3/lib/python3.7/site-packages (from xgboost) (1.21.6)\u001b[0m\n",
      "\u001b[34mWARNING: Running pip as the 'root' user can result in broken permissions and conflicting behaviour with the system package manager. It is recommended to use a virtual environment instead: https://pip.pypa.io/warnings/venv\u001b[0m\n",
      "\u001b[34m[notice] A new release of pip is available: 23.0.1 -> 23.1\u001b[0m\n",
      "\u001b[34m[notice] To update, run: pip install --upgrade pip\u001b[0m\n",
      "\u001b[34m#############################################\u001b[0m\n",
      "\u001b[34margs.model_path: /opt/ml/processing/model/model.tar.gz\u001b[0m\n",
      "\u001b[34margs.test_path: /opt/ml/processing/test/test.csv\u001b[0m\n",
      "\u001b[34margs.output_evaluation_dir: /opt/ml/processing/output\u001b[0m\n",
      "\u001b[34m****** All folder and files under /opt/ml/processing ****** \u001b[0m\n",
      "\u001b[34m('/opt/ml/processing', ['model', 'output', 'input', 'test'], [])\u001b[0m\n",
      "\u001b[34m('/opt/ml/processing/model', [], ['model.tar.gz'])\u001b[0m\n",
      "\u001b[34m('/opt/ml/processing/output', [], [])\u001b[0m\n",
      "\u001b[34m('/opt/ml/processing/input', ['entrypoint', 'code'], [])\u001b[0m\n",
      "\u001b[34m('/opt/ml/processing/input/entrypoint', [], ['runproc.sh'])\u001b[0m\n",
      "\u001b[34m('/opt/ml/processing/input/code', ['.ipynb_checkpoints'], ['evaluation.py', 'sourcedir.tar.gz'])\u001b[0m\n",
      "\u001b[34m('/opt/ml/processing/input/code/.ipynb_checkpoints', [], ['evaluation-checkpoint.py'])\u001b[0m\n",
      "\u001b[34m('/opt/ml/processing/test', [], ['test.csv'])\u001b[0m\n",
      "\u001b[34m************************************************* \u001b[0m\n",
      "\u001b[34m/miniconda3/lib/python3.7/site-packages/xgboost/sklearn.py:472: UserWarning: Loading a native XGBoost model with Scikit-Learn interface.\n",
      "  'Loading a native XGBoost model with Scikit-Learn interface.')\u001b[0m\n",
      "\u001b[34mmodel is loaded\u001b[0m\n",
      "\u001b[34mtest df sample \u001b[0m\n",
      "\u001b[34m:    fraud  ...  police_report_available_Yes\u001b[0m\n",
      "\u001b[34m0      0  ...                            1\u001b[0m\n",
      "\u001b[34m1      0  ...                            1\u001b[0m\n",
      "\u001b[34m[2 rows x 59 columns]\n",
      "              precision    recall  f1-score   support\n",
      "           0       0.98      0.83      0.90       967\n",
      "           1       0.09      0.52      0.16        33\n",
      "    accuracy                           0.82      1000\n",
      "   macro avg       0.54      0.67      0.53      1000\u001b[0m\n",
      "\u001b[34mweighted avg       0.95      0.82      0.87      1000\u001b[0m\n",
      "\u001b[34m[[800 167]\n",
      " [ 16  17]]\u001b[0m\n",
      "\u001b[34maccuracy: 0.817\u001b[0m\n",
      "\u001b[34mprecision: 0.09239130434782608\u001b[0m\n",
      "\u001b[34mrecall: 0.5151515151515151\u001b[0m\n",
      "\u001b[34mf1: 0.1566820276497696\u001b[0m\n",
      "\u001b[34mevaluation_path \u001b[0m\n",
      "\u001b[34m: /opt/ml/processing/output/evaluation.json\u001b[0m\n",
      "\u001b[34mreport_dict \u001b[0m\n",
      "\u001b[34m: {'classification_metrics': {'accuracy': {'value': 0.817, 'standard_deviation': None}, 'precision': {'value': 0.09239130434782608, 'standard_deviation': None}, 'recall': {'value': 0.5151515151515151, 'standard_deviation': None}, 'f1': {'value': 0.1566820276497696, 'standard_deviation': None}}}\u001b[0m\n"
     ]
    }
   ],
   "source": [
    "evaluation_processor.run(\n",
    "    code=\"evaluation.py\",\n",
    "    source_dir=\"source/evaluation\",\n",
    "    inputs=[\n",
    "        ProcessingInput(\n",
    "            source=strTestDataPath,\n",
    "            input_name=\"test_data\",\n",
    "            destination=os.path.join(strProcPrefixPath, \"test\")\n",
    "        ),\n",
    "        ProcessingInput(\n",
    "            source=strS3ModelPath,\n",
    "            input_name=\"model_weight\",\n",
    "            destination=os.path.join(strProcPrefixPath, \"model\")\n",
    "        )\n",
    "    ],\n",
    "    outputs=[\n",
    "        ProcessingOutput(\n",
    "            source=os.path.join(strProcPrefixPath, \"output\"),\n",
    "            output_name='evaluation',\n",
    "            destination=strOutputPath,\n",
    "        )\n",
    "    ],\n",
    "    #job_name=job_name,\n",
    "    # experiment_config={\n",
    "    #     'TrialName': job_name,\n",
    "    #     'TrialComponentDisplayName': job_name,\n",
    "    # },\n",
    "    wait=True\n",
    ")"
   ]
  },
  {
   "cell_type": "markdown",
   "id": "7014170a-2ee4-442b-a2f9-87b83d3c2b92",
   "metadata": {},
   "source": [
    "* save path for evaluation.json"
   ]
  },
  {
   "cell_type": "code",
   "execution_count": 16,
   "id": "16973040-93df-4afe-a9f9-ff95c811c94f",
   "metadata": {
    "tags": []
   },
   "outputs": [
    {
     "data": {
      "text/plain": [
       "'Store suceess'"
      ]
     },
     "execution_count": 16,
     "metadata": {},
     "output_type": "execute_result"
    }
   ],
   "source": [
    "pm.put_params(key=\"-\".join([strPrefix, \"EVAL-OUTPUT-PATH\"]), value=strOutputPath, overwrite=True)"
   ]
  },
  {
   "cell_type": "code",
   "execution_count": null,
   "id": "ce3428b0-1ebc-4c9e-9790-b0170b8ace34",
   "metadata": {},
   "outputs": [],
   "source": []
  }
 ],
 "metadata": {
  "instance_type": "ml.t3.medium",
  "kernelspec": {
   "display_name": "conda_pytorch_p39",
   "language": "python",
   "name": "conda_pytorch_p39"
  },
  "language_info": {
   "codemirror_mode": {
    "name": "ipython",
    "version": 3
   },
   "file_extension": ".py",
   "mimetype": "text/x-python",
   "name": "python",
   "nbconvert_exporter": "python",
   "pygments_lexer": "ipython3",
   "version": "3.9.15"
  }
 },
 "nbformat": 4,
 "nbformat_minor": 5
}
